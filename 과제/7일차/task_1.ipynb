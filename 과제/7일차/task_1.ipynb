{
  "cells": [
    {
      "cell_type": "markdown",
      "metadata": {
        "id": "view-in-github",
        "colab_type": "text"
      },
      "source": [
        "<a href=\"https://colab.research.google.com/github/kdu0312/education/blob/python/task_1.ipynb\" target=\"_parent\"><img src=\"https://colab.research.google.com/assets/colab-badge.svg\" alt=\"Open In Colab\"/></a>"
      ]
    },
    {
      "cell_type": "markdown",
      "metadata": {
        "id": "M9ZRf78nFnPI"
      },
      "source": [
        "안녕하세요. 수강생 여러분~! Chapter33 ~ 41 수업은 잘 들으셨나요?\n",
        "\n",
        "Chapter33 ~ 41의 수업 내용을 바탕으로 아래 문제를 풀어주시면 됩니다.\n",
        "\n",
        "\n",
        "<br>\n",
        "\n",
        "\n",
        "[**답변 입력 방법**]\n",
        "\n",
        "문제 아래에 있는 코드 입력창에 정답코드를 작성하신 후  __▷ 버튼을 클릭해 코드를 실행__ 해보세요<br>"
      ]
    },
    {
      "cell_type": "markdown",
      "metadata": {
        "id": "xU98xizcFnPL"
      },
      "source": [
        "---"
      ]
    },
    {
      "cell_type": "markdown",
      "metadata": {
        "id": "OQBcRyeEFnPL"
      },
      "source": [
        "[문제 1]\n",
        "\n",
        "사용자로부터 두 개의 숫자를 입력받아 나눗셈을 수행하는 프로그램을 작성하세요.\n",
        "\n",
        "[예외처리]\n",
        "- 입력 값이 숫자가 아닐 때 발생할 수 있는 ValueError\n",
        "- 나누는 수가 0일 때 발생할 수 있는 ZeroDivisionError\n",
        "- 위 2가지 예외처리 후 사용자에게 이해하기 쉬운 메시지 작성 후 출력되도록 코드를 작성"
      ]
    },
    {
      "cell_type": "code",
      "execution_count": 3,
      "metadata": {
        "colab": {
          "base_uri": "https://localhost:8080/"
        },
        "id": "j7FxcW2QFnPL",
        "outputId": "4d864053-83c8-4c14-e263-1027fa52150d"
      },
      "outputs": [
        {
          "output_type": "stream",
          "name": "stdout",
          "text": [
            "첫 번째 숫자를 입력하세요: 12\n",
            "두 번째 숫자를 입력하세요: 2\n",
            "결과: 12.0 ÷ 2.0 = 6.0\n"
          ]
        }
      ],
      "source": [
        "def divide_numbers():\n",
        "    try:\n",
        "        num1 = float(input(\"첫 번째 숫자를 입력하세요: \"))\n",
        "        num2 = float(input(\"두 번째 숫자를 입력하세요: \"))\n",
        "\n",
        "        result = num1 / num2\n",
        "        print(f\"결과: {num1} ÷ {num2} = {result}\")\n",
        "\n",
        "    except ValueError:\n",
        "        print(\"잘못된 입력입니다. 숫자를 입력해주세요.\")\n",
        "\n",
        "    except ZeroDivisionError:\n",
        "        print(\"0으로 나눌 수 없습니다. 두 번째 숫자는 0이 아니어야 합니다.\")\n",
        "\n",
        "divide_numbers()"
      ]
    },
    {
      "cell_type": "markdown",
      "metadata": {
        "id": "jLwO31RCFnPM"
      },
      "source": [
        "---"
      ]
    },
    {
      "cell_type": "markdown",
      "metadata": {
        "id": "XbHTOIT5FnPM"
      },
      "source": [
        "[문제 2]\n",
        "\n",
        "파일을 읽어서 내용을 출력하는 프로그램을 작성하세요.\n",
        "\n",
        "- 파일이 존재하지 않을 때 발생하는 FileNotFoundError를 처리\n",
        "- 파일이 존재하지 않을 경우 \"파일을 찾을 수 없습니다.\"라는 메시지를 출력"
      ]
    },
    {
      "cell_type": "code",
      "execution_count": 8,
      "metadata": {
        "colab": {
          "base_uri": "https://localhost:8080/"
        },
        "id": "q6Td9ZCoFnPM",
        "outputId": "dbefb1d7-f3b3-4616-f7a8-8bfe94b6480e"
      },
      "outputs": [
        {
          "output_type": "stream",
          "name": "stdout",
          "text": [
            "읽을 파일명을 입력하세요: rksks\n",
            "파일을 찾을 수 없습니다.\n"
          ]
        }
      ],
      "source": [
        "def read_file():\n",
        "    filename = input(\"읽을 파일명을 입력하세요: \")\n",
        "\n",
        "    try:\n",
        "        with open(filename, 'r', encoding='utf-8') as file:\n",
        "            contents = file.read()\n",
        "            print(\"\\n[파일 내용 출력]\")\n",
        "            print(contents)\n",
        "\n",
        "    except FileNotFoundError:\n",
        "        print(\"파일을 찾을 수 없습니다.\")\n",
        "\n",
        "\n",
        "read_file()"
      ]
    },
    {
      "cell_type": "markdown",
      "metadata": {
        "id": "xdd9M7NoFnPM"
      },
      "source": [
        "---"
      ]
    },
    {
      "cell_type": "markdown",
      "metadata": {
        "id": "R55ZJWZeFnPN"
      },
      "source": [
        "[문제 3]\n",
        "\n",
        "사용자로부터 여러 개의 숫자를 입력받아 리스트에 저장한 후, 사용자가 'done'이라고 입력할 때까지 계속 입력받으세요.\n",
        "\n",
        "- 입력 중 숫자가 아닌 값이 입력되면 ValueError를 처리\n",
        "- 숫자 외 값이 입력된 경우 어떤 값이 잘못 입력되었는지 사용자에게 알려주는 문구 출력<br>\n",
        "  (예: f\"잘못된 값: {변수}. 숫자를 입력해주세요.\")\n",
        "\n"
      ]
    },
    {
      "cell_type": "code",
      "execution_count": 10,
      "metadata": {
        "colab": {
          "base_uri": "https://localhost:8080/"
        },
        "id": "m0LDTaWeFnPN",
        "outputId": "c88a8c2d-4f28-4214-fb09-03ac25eb9039"
      },
      "outputs": [
        {
          "output_type": "stream",
          "name": "stdout",
          "text": [
            "숫자를 입력하세요 (종료하려면 '종료' 입력): 12541\n",
            "숫자를 입력하세요 (종료하려면 '종료' 입력): 12\n",
            "숫자를 입력하세요 (종료하려면 '종료' 입력): 51515\n",
            "숫자를 입력하세요 (종료하려면 '종료' 입력): 종료\n",
            "\n",
            "입력된 숫자 리스트: [12541.0, 12.0, 51515.0]\n"
          ]
        }
      ],
      "source": [
        "def collect_numbers():\n",
        "    numbers = []\n",
        "\n",
        "    while True:\n",
        "        user_input = input(\"숫자를 입력하세요 (종료하려면 'done' 입력): \")\n",
        "\n",
        "        if user_input.lower() == 'done':\n",
        "            break\n",
        "\n",
        "        try:\n",
        "            num = float(user_input)\n",
        "            numbers.append(num)\n",
        "        except ValueError:\n",
        "            print(f\"잘못된 값: '{user_input}'는 숫자가 아닙니다. 숫자를 입력해주세요.\")\n",
        "\n",
        "    print(\"\\n입력된 숫자 리스트:\", numbers)\n",
        "\n",
        "collect_numbers()"
      ]
    },
    {
      "cell_type": "markdown",
      "metadata": {
        "id": "9rlMNx0lFnPN"
      },
      "source": [
        "---"
      ]
    },
    {
      "cell_type": "markdown",
      "metadata": {
        "id": "ITG3To2JFnPN"
      },
      "source": [
        "[문제 4]\n",
        "\n",
        "사용자 정의 예외 NegativeNumberError를 생성하고, 사용자로부터 숫자를 입력받아 음수일 경우 NegativeNumberError를 발생시키는 프로그램을 작성하세요.\n",
        "\n",
        "- 예외 처리 구문을 사용하여 음수 입력 시 \"양수를 입력해주세요.\"라는 메시지를 출력"
      ]
    },
    {
      "cell_type": "code",
      "execution_count": 12,
      "metadata": {
        "colab": {
          "base_uri": "https://localhost:8080/"
        },
        "id": "Aw4GHG0jFnPN",
        "outputId": "f38b1789-decb-4f06-c27d-3f6959a6d602"
      },
      "outputs": [
        {
          "output_type": "stream",
          "name": "stdout",
          "text": [
            "숫자를 입력하세요: -5112124\n",
            "양수를 입력해주세요.\n"
          ]
        }
      ],
      "source": [
        "class NegativeNumberError(Exception):\n",
        "    pass\n",
        "\n",
        "def get_positive_number():\n",
        "    try:\n",
        "        num = float(input(\"숫자를 입력하세요: \"))\n",
        "        if num < 0:\n",
        "            raise NegativeNumberError\n",
        "        print(f\"입력한 숫자: {num}\")\n",
        "    except NegativeNumberError:\n",
        "        print(\"양수를 입력해주세요.\")\n",
        "    except ValueError:\n",
        "        print(\"숫자를 입력해주세요.\")\n",
        "\n",
        "get_positive_number()"
      ]
    },
    {
      "cell_type": "markdown",
      "metadata": {
        "id": "1m4jElfpFnPN"
      },
      "source": [
        "---"
      ]
    },
    {
      "cell_type": "markdown",
      "metadata": {
        "id": "y3QYVLWvFnPN"
      },
      "source": [
        "[문제 5]\n",
        "\n",
        "datetime 모듈을 사용하여 현재 날짜와 시간을 출력하는 프로그램을 작성하세요.\n",
        "\n",
        "또한, 사용자로부터 태어난 년도를 입력받아 현재 나이를 계산하여 출력하세요."
      ]
    },
    {
      "cell_type": "code",
      "execution_count": 14,
      "metadata": {
        "colab": {
          "base_uri": "https://localhost:8080/"
        },
        "id": "ij86WP_OFnPN",
        "outputId": "872627eb-aad0-435b-9487-6bf592141803"
      },
      "outputs": [
        {
          "output_type": "stream",
          "name": "stdout",
          "text": [
            "현재 날짜와 시간: 2025-06-10 00:00:05\n",
            "출생 연도를 입력하세요 (예: 1990): 1990\n",
            "현재 나이: 35세\n"
          ]
        }
      ],
      "source": [
        "from datetime import datetime\n",
        "\n",
        "def print_current_time_and_age():\n",
        "    now = datetime.now()\n",
        "    print(\"현재 날짜와 시간:\", now.strftime(\"%Y-%m-%d %H:%M:%S\"))\n",
        "\n",
        "    try:\n",
        "        birth_year = int(input(\"출생 연도를 입력하세요 (예: 1990): \"))\n",
        "        current_year = now.year\n",
        "        age = current_year - birth_year\n",
        "\n",
        "        print(f\"현재 나이: {age}세\")\n",
        "    except ValueError:\n",
        "        print(\"올바른 숫자 형식으로 출생 연도를 입력해주세요.\")\n",
        "\n",
        "\n",
        "print_current_time_and_age()"
      ]
    },
    {
      "cell_type": "markdown",
      "metadata": {
        "id": "-PJeddm-FnPN"
      },
      "source": [
        "---"
      ]
    },
    {
      "cell_type": "markdown",
      "metadata": {
        "id": "8pyhooMbFnPO"
      },
      "source": [
        "[문제 6]\n",
        "\n",
        "requests 모듈을 사용하여, 웹 페이지의 HTML을 가져오는 간단한 웹 스크레이퍼를 작성하세요.\n",
        "\n",
        "'https://kream.co.kr/'에서<br>\n",
        "데이터를 가져와서 상태 코드와 HTML의 첫 100자를 출력하세요.<br>\n",
        "(실습 전 requests 모듈을 설치해야 함)"
      ]
    },
    {
      "cell_type": "code",
      "execution_count": 15,
      "metadata": {
        "colab": {
          "base_uri": "https://localhost:8080/"
        },
        "id": "vSRf2lEeFnPO",
        "outputId": "ef13f91d-eb21-486b-f0ce-2a0d619195a9"
      },
      "outputs": [
        {
          "output_type": "stream",
          "name": "stdout",
          "text": [
            "응답 상태 코드: 500\n",
            "HTML 앞 100자:\n",
            " <!DOCTYPE html>\n",
            "<html lang=\"ko\">\n",
            "<head>\n",
            "<meta name=\"robots\" content=\"noindex, nofollow\" />\n",
            "<meta htt\n"
          ]
        }
      ],
      "source": [
        "import requests\n",
        "\n",
        "def fetch_kream_html():\n",
        "    url = \"https://kream.co.kr/\"\n",
        "\n",
        "    try:\n",
        "        response = requests.get(url)\n",
        "        print(\"응답 상태 코드:\", response.status_code)\n",
        "        print(\"HTML 앞 100자:\\n\", response.text[:100])\n",
        "    except requests.exceptions.RequestException as e:\n",
        "        print(\"요청 중 오류 발생:\", e)\n",
        "\n",
        "fetch_kream_html()"
      ]
    },
    {
      "cell_type": "markdown",
      "metadata": {
        "id": "rA0RI1JSFnPO"
      },
      "source": [
        "---"
      ]
    },
    {
      "cell_type": "markdown",
      "metadata": {
        "id": "I8hQGAOUFnPO"
      },
      "source": [
        "[문제 7]\n",
        "\n",
        "함수 실행 시간을 측정하는 데코레이터 timer_decorator를 작성하세요.\n",
        "\n",
        "임의의 함수가 실행되는 시간을 측정하여 \"함수 실행 시간: x.xx초\" 형태로 출력하세요."
      ]
    },
    {
      "cell_type": "code",
      "execution_count": 21,
      "metadata": {
        "colab": {
          "base_uri": "https://localhost:8080/"
        },
        "id": "S_5Z2jCrFnPO",
        "outputId": "88f0f0b7-0aca-411a-e913-e11e8e068ba6"
      },
      "outputs": [
        {
          "output_type": "stream",
          "name": "stdout",
          "text": [
            "함수가 실행 중입니다...\n",
            "함수 실행 시간: 1.23초\n"
          ]
        }
      ],
      "source": [
        "import time\n",
        "\n",
        "def timer_decorator(func):\n",
        "    def wrapper(*args, **kwargs):\n",
        "        start_time = time.time()\n",
        "        result = func(*args, **kwargs)\n",
        "        end_time = time.time()\n",
        "        elapsed = end_time - start_time\n",
        "        print(f\"함수 실행 시간: {elapsed:.2f}초\")\n",
        "        return result\n",
        "    return wrapper\n",
        "\n",
        "@timer_decorator\n",
        "def sample_function():\n",
        "    print(\"함수가 실행 중입니다...\")\n",
        "    time.sleep(1.23)\n",
        "\n",
        "sample_function()"
      ]
    },
    {
      "cell_type": "markdown",
      "metadata": {
        "id": "wSP-2W_nFnPO"
      },
      "source": [
        "---"
      ]
    },
    {
      "cell_type": "markdown",
      "metadata": {
        "id": "-kXC6G5BFnPO"
      },
      "source": [
        "[문제 8]\n",
        "\n",
        "여러분이 자주 사용하는 수학적 연산<br>\n",
        "(예: 삼각형 넓이, 원의 넓이, 직육면체의 넓이)을 수행하는 함수들을 포함하는 mymath.py라는 이름의 모듈을 만드세요.\n",
        "\n",
        "이 모듈을 사용하여 작성된 함수들을 실제로 임포트하고 사용하는 간단한 프로그램을 작성하세요."
      ]
    },
    {
      "cell_type": "code",
      "execution_count": 31,
      "metadata": {
        "id": "0aG8WWAvFnPO"
      },
      "outputs": [],
      "source": [
        "import math\n",
        "\n",
        "def triangle_area(base, height):\n",
        "    return 0.5 * base * height\n",
        "\n",
        "def circle_area(radius):\n",
        "    return math.pi * radius ** 2\n",
        "\n",
        "def rectangle_area(width, height):\n",
        "    return width * height"
      ]
    },
    {
      "cell_type": "code",
      "execution_count": 35,
      "metadata": {
        "colab": {
          "base_uri": "https://localhost:8080/"
        },
        "id": "o0FV8FqPFnPO",
        "outputId": "548aacd8-15d8-405b-8660-bbfe9d553f27"
      },
      "outputs": [
        {
          "output_type": "stream",
          "name": "stdout",
          "text": [
            "삼각형 넓이 (밑변=10, 높이=5): 25.0\n",
            "원 넓이 (반지름=7): 153.93804002589985\n",
            "직사각형 넓이 (가로=8, 세로=4): 32\n"
          ]
        }
      ],
      "source": [
        "\n",
        "with open(\"mymath.py\", \"w\") as f:\n",
        "    f.write('''\n",
        "import math\n",
        "\n",
        "def triangle_area(base, height):\n",
        "    return 0.5 * base * height\n",
        "\n",
        "def circle_area(radius):\n",
        "    return math.pi * radius ** 2\n",
        "\n",
        "def rectangle_area(width, height):\n",
        "    return width * height\n",
        "''')\n",
        "\n",
        "import mymath\n",
        "\n",
        "print(\"삼각형 넓이 (밑변=10, 높이=5):\", mymath.triangle_area(10, 5))\n",
        "print(\"원 넓이 (반지름=7):\", mymath.circle_area(7))\n",
        "print(\"직사각형 넓이 (가로=8, 세로=4):\", mymath.rectangle_area(8, 4))"
      ]
    },
    {
      "cell_type": "markdown",
      "metadata": {
        "id": "3Ej0c9aiFnPO"
      },
      "source": [
        "---"
      ]
    },
    {
      "cell_type": "markdown",
      "metadata": {
        "id": "SniBA-AyFnPO"
      },
      "source": [
        "[문제 9]\n",
        "\n",
        "animals라는 패키지를 만들고, 이 패키지 내에 mammals, birds라는 두 개의 서브 모듈을 생성하세요.\n",
        "\n",
        "- 각 모듈에는 최소한 한 개 이상의 동물에 관한 클래스를 정의하세요<br>\n",
        "  (예: mammals에는 Dog, birds에는 Eagle)\n",
        "- 이 패키지와 모듈을 사용하여 동물들의 정보를 출력하는 프로그램을 작성\n",
        "\n",
        "폴더 및 파일 구조\n",
        "```\n",
        "animals/(폴더)\n",
        "├── __init__.py\n",
        "├── mammals.py\n",
        "└── birds.py\n",
        "```\n"
      ]
    },
    {
      "cell_type": "code",
      "execution_count": 39,
      "metadata": {
        "id": "wMwLXByPFnPO"
      },
      "outputs": [],
      "source": [
        "class Dog:\n",
        "    def sound(self):\n",
        "        return \"멍멍\"\n",
        "\n",
        "    def info(self):\n",
        "        return \"개: 포유류입니다.\""
      ]
    },
    {
      "cell_type": "code",
      "execution_count": 40,
      "metadata": {
        "id": "GFLlEUWlFnPO"
      },
      "outputs": [],
      "source": [
        "class Eagle:\n",
        "    def sound(self):\n",
        "        return \"끼익~\"\n",
        "\n",
        "    def info(self):\n",
        "        return \"독수리: 조류입니다.\""
      ]
    },
    {
      "cell_type": "code",
      "execution_count": 42,
      "metadata": {
        "colab": {
          "base_uri": "https://localhost:8080/"
        },
        "id": "KFnmIzq5FnPO",
        "outputId": "a63ef48c-e8ba-4a53-99f0-42943c9d8f62"
      },
      "outputs": [
        {
          "output_type": "stream",
          "name": "stdout",
          "text": [
            "개: 포유류입니다.\n",
            "개 소리: 멍멍\n",
            "독수리: 조류입니다.\n",
            "독수리 소리: 끼익~\n"
          ]
        }
      ],
      "source": [
        "import os\n",
        "\n",
        "os.makedirs(\"animals\", exist_ok=True)\n",
        "\n",
        "\n",
        "with open(\"animals/mammals.py\", \"w\") as f:\n",
        "    f.write('''\n",
        "class Dog:\n",
        "    def sound(self):\n",
        "        return \"멍멍\"\n",
        "\n",
        "    def info(self):\n",
        "        return \"개: 포유류입니다.\"\n",
        "''')\n",
        "\n",
        "\n",
        "with open(\"animals/birds.py\", \"w\") as f:\n",
        "    f.write('''\n",
        "class Eagle:\n",
        "    def sound(self):\n",
        "        return \"끼익~\"\n",
        "\n",
        "    def info(self):\n",
        "        return \"독수리: 조류입니다.\"\n",
        "''')\n",
        "\n",
        "\n",
        "with open(\"animals/__init__.py\", \"w\") as f:\n",
        "    f.write('')\n",
        "\n",
        "from animals.mammals import Dog\n",
        "from animals.birds import Eagle\n",
        "\n",
        "dog = Dog()\n",
        "eagle = Eagle()\n",
        "\n",
        "print(dog.info())\n",
        "print(\"개 소리:\", dog.sound())\n",
        "print(eagle.info())\n",
        "print(\"독수리 소리:\", eagle.sound())"
      ]
    },
    {
      "cell_type": "markdown",
      "metadata": {
        "id": "achuXekzFnPO"
      },
      "source": [
        "---"
      ]
    }
  ],
  "metadata": {
    "language_info": {
      "name": "python"
    },
    "colab": {
      "provenance": [],
      "include_colab_link": true
    },
    "kernelspec": {
      "name": "python3",
      "display_name": "Python 3"
    }
  },
  "nbformat": 4,
  "nbformat_minor": 0
}