{
  "cells": [
    {
      "cell_type": "markdown",
      "metadata": {
        "id": "view-in-github",
        "colab_type": "text"
      },
      "source": [
        "<a href=\"https://colab.research.google.com/github/kdu0312/education/blob/python/Ch17_task.ipynb\" target=\"_parent\"><img src=\"https://colab.research.google.com/assets/colab-badge.svg\" alt=\"Open In Colab\"/></a>"
      ]
    },
    {
      "cell_type": "markdown",
      "metadata": {
        "id": "PHZIqhwCoosN"
      },
      "source": [
        "<span style=\"font-size:100%\">\n",
        "\n",
        "수업은 모두 열심히 들으셨나요?\n",
        "\n",
        "간혹 강의에서 언급되지 않은 내용이 문제로 나올 수 있습니다.<br>\n",
        "그럴땐 강의 내용 외 문제는 구글링을 통해 해결해주세요<br></span>\n",
        "<span style=\"font-size:80%\">\n",
        "(구글링 또한 개발자가 갖쳐야할 역량 중에 하나랍니다 😊)\n",
        "</span>\n",
        "\n",
        "---"
      ]
    },
    {
      "cell_type": "markdown",
      "metadata": {
        "id": "E8tFeSKLoosO"
      },
      "source": [
        "### Chapter17 : `Python 변수에 대한 개념 복습하고 문제풀기`"
      ]
    },
    {
      "cell_type": "markdown",
      "metadata": {
        "id": "Fm6izRARoosP"
      },
      "source": [
        "<span style=\"font-size:80%\">[문제1]<br><br></span>\n",
        "두 수를 받은 뒤 곱한 결과를 반환하는 oz 함수를 만들어주세요\n"
      ]
    },
    {
      "cell_type": "markdown",
      "metadata": {
        "id": "0Cy_Sam4oosP"
      },
      "source": [
        "<span style=\"color:red\">답변</span>"
      ]
    },
    {
      "cell_type": "markdown",
      "metadata": {
        "id": "rCuhFyz8oosP"
      },
      "source": [
        "def oz(a,b):\n",
        "\n",
        "    return a*b"
      ]
    },
    {
      "cell_type": "code",
      "source": [
        "def oz(a,b):\n",
        "    return a*b\n",
        "\n",
        "oz(2,2)\n",
        "\n"
      ],
      "metadata": {
        "colab": {
          "base_uri": "https://localhost:8080/"
        },
        "id": "7TDu5tEDwXbh",
        "outputId": "737a62d1-9226-445c-d6c2-d9899a817e86"
      },
      "execution_count": 3,
      "outputs": [
        {
          "output_type": "execute_result",
          "data": {
            "text/plain": [
              "4"
            ]
          },
          "metadata": {},
          "execution_count": 3
        }
      ]
    },
    {
      "cell_type": "markdown",
      "metadata": {
        "id": "jjEThaykoosP"
      },
      "source": [
        "<span style=\"font-size:80%\">[문제2]<br><br></span>\n",
        "```\n",
        "아래 작성된 코드의 실행 결과를 설명해주세요\n",
        "\n",
        "print(\"A\")\n",
        "\n",
        "def message() :\n",
        "    print(\"B\")\n",
        "\n",
        "print(\"C\")\n",
        "\n",
        "message()\n",
        "\n",
        "```"
      ]
    },
    {
      "cell_type": "markdown",
      "metadata": {
        "id": "1hIwfB1OoosP"
      },
      "source": [
        "<span style=\"color:red\">답변</span>"
      ]
    },
    {
      "cell_type": "markdown",
      "source": [
        "A C B"
      ],
      "metadata": {
        "id": "fEf38zsNw1Ol"
      }
    },
    {
      "cell_type": "markdown",
      "metadata": {
        "id": "tFZJ-4QToosQ"
      },
      "source": [
        "----"
      ]
    },
    {
      "cell_type": "markdown",
      "metadata": {
        "id": "49JZIrB1oosQ"
      },
      "source": [
        "<span style=\"font-size:80%\">[문제3]<br><br></span>\n",
        "```매개변수가 없는 oz 함수를 호출하는 방법으로 올바른 것을 골라주세요```\n",
        "\n",
        "1. def oz\n",
        "2. oz\n",
        "3. oz( )\n",
        "4. oz[ ]\n",
        "5. def oz:"
      ]
    },
    {
      "cell_type": "markdown",
      "metadata": {
        "id": "sKL8yYGcoosQ"
      },
      "source": [
        "<span style=\"color:red\">답변</span>"
      ]
    },
    {
      "cell_type": "markdown",
      "metadata": {
        "id": "IKcB3OWuoosQ"
      },
      "source": [
        "3번"
      ]
    },
    {
      "cell_type": "markdown",
      "metadata": {
        "id": "-lHnXh8yoosQ"
      },
      "source": [
        "----"
      ]
    },
    {
      "cell_type": "markdown",
      "metadata": {
        "id": "N5P35KC_oosQ"
      },
      "source": [
        "<span style=\"font-size:80%\">[문4]<br><br></span>\n",
        "```문자열 하나를 입력받아 인터넷 주소를 반환하는 make_url 함수를 만들어주세요```\n",
        "\n",
        "예 ) make_url(\"google\")\n",
        "\n",
        "출력 : www.google.com"
      ]
    },
    {
      "cell_type": "markdown",
      "metadata": {
        "id": "KEPtxvv6oosQ"
      },
      "source": [
        "<span style=\"color:red\">답변</span>"
      ]
    },
    {
      "cell_type": "markdown",
      "metadata": {
        "id": "pnmGQCw3oosR"
      },
      "source": [
        "```\n",
        "adress = input(\"주소를 입력해주세요 :\")\n",
        "\n",
        "def make_url(adress):\n",
        "    return \"www.\" + adress + \".com\"\n",
        "\n",
        "print(make_url(adress)\n",
        "\n",
        "```\n",
        "\n"
      ]
    },
    {
      "cell_type": "markdown",
      "metadata": {
        "id": "zc6CoxVAoosR"
      },
      "source": [
        "----"
      ]
    },
    {
      "cell_type": "markdown",
      "metadata": {
        "id": "fD30ivGUoosR"
      },
      "source": [
        "<span style=\"font-size:80%\">[문제5]<br><br></span>\n",
        "```아래 코드를 실행했을때 c의 값으로 올바른 것을 골라주세요```\n",
        "\n",
        "def 함수0(num) :<br>\n",
        "&emsp;&emsp;return num * 2<br>\n",
        "\n",
        "def 함수1(num) :<br>\n",
        "&emsp;&emsp;return 함수0(num + 2)<br>\n",
        "\n",
        "def 함수2(num) :<br>\n",
        "&emsp;&emsp;num = num + 10<br>\n",
        "&emsp;&emsp;return 함수1(num)<br>\n",
        "\n",
        "c = 함수2(2)<br>\n",
        "print(c)\n",
        "\n",
        "\n",
        "1. 1\n",
        "2. 5\n",
        "3. 3\n",
        "4. 4\n",
        "5. 28"
      ]
    },
    {
      "cell_type": "markdown",
      "metadata": {
        "id": "_dIwNKRjoosR"
      },
      "source": [
        "<span style=\"color:red\">답변</span>"
      ]
    },
    {
      "cell_type": "markdown",
      "metadata": {
        "id": "agy0Lk-_oosR"
      },
      "source": [
        "5번"
      ]
    },
    {
      "cell_type": "markdown",
      "metadata": {
        "id": "Y-nvP2ywoosR"
      },
      "source": [
        "----"
      ]
    },
    {
      "cell_type": "markdown",
      "metadata": {
        "id": "9FIN_HHLoosR"
      },
      "source": [
        "### Chapter18 : `Python의 Class 개념에 대해 복습하고 문제풀기`"
      ]
    },
    {
      "cell_type": "markdown",
      "metadata": {
        "id": "VIdT_u7doosR"
      },
      "source": [
        "<span style=\"font-size:80%\">[문제1]<br><br></span>\n",
        "```클래스 greeting 메서드를 호출하기 위해 필요한 코드를 작성해주세요```\n",
        "\n",
        "class Person:<br>\n",
        "&emsp;def greeting(self):<br>\n",
        "&emsp;&emsp;print('hello')<br>"
      ]
    },
    {
      "cell_type": "markdown",
      "metadata": {
        "id": "yngpUIp9oosR"
      },
      "source": [
        "<span style=\"color:red\">답변</span>"
      ]
    },
    {
      "cell_type": "markdown",
      "metadata": {
        "id": "HKow1GsYoosR"
      },
      "source": [
        "\n",
        "\n",
        "```\n",
        "a = Person()\n",
        "a.greeting()\n",
        "```\n",
        "\n"
      ]
    },
    {
      "cell_type": "markdown",
      "metadata": {
        "id": "ohZi1PeRoosR"
      },
      "source": [
        "----"
      ]
    },
    {
      "cell_type": "markdown",
      "metadata": {
        "id": "f8d3iLB1oosR"
      },
      "source": [
        "<span style=\"font-size:80%\">[문제2]<br><br></span>\n",
        "```클래스로 인스턴스를 만들때 자동으로 호출되는 메서드를 적어주세요```"
      ]
    },
    {
      "cell_type": "markdown",
      "metadata": {
        "id": "ulSvYIB9oosR"
      },
      "source": [
        "<span style=\"color:red\">답변</span>"
      ]
    },
    {
      "cell_type": "markdown",
      "metadata": {
        "id": "dqBSvMULoosR"
      },
      "source": [
        "`__init__`"
      ]
    },
    {
      "cell_type": "markdown",
      "metadata": {
        "id": "J9VKVQDRoosR"
      },
      "source": [
        "----"
      ]
    },
    {
      "cell_type": "markdown",
      "metadata": {
        "id": "LV6ilN4zoosS"
      },
      "source": [
        "<span style=\"font-size:80%\">[문제3]<br><br></span>\n",
        "```Person 클래스에 인스턴스 속성인 name에 접근하는 방법으로 올바른 것을 골라주세요```\n",
        "\n",
        "```\n",
        "class Person:\n",
        "    def __init__(self, name):\n",
        "        self.name = name\n",
        "```\n",
        "\n",
        "1. Person.name\n",
        "2. name\n",
        "3. self\n",
        "4. self.name\n",
        "5. self[name]"
      ]
    },
    {
      "cell_type": "markdown",
      "metadata": {
        "id": "Siyxf2uboosS"
      },
      "source": [
        "<span style=\"color:red\">답변</span>"
      ]
    },
    {
      "cell_type": "markdown",
      "metadata": {
        "id": "GTpxznq6oosS"
      },
      "source": [
        "4번"
      ]
    },
    {
      "cell_type": "markdown",
      "metadata": {
        "id": "uA7t6Hj7oosS"
      },
      "source": [
        "----"
      ]
    },
    {
      "cell_type": "markdown",
      "metadata": {
        "id": "I1StXgEgoosS"
      },
      "source": [
        "<span style=\"font-size:80%\">[문제4]<br><br></span>\n",
        "```Person 클래스를 상속받아서 Student 클래스를 만드는 방법으로 올바른 것을 골라주세요```\n",
        "\n",
        "1. class Student(Person)\n",
        "2. class Student:Person\n",
        "3. class Student(Person):\n",
        "4. class Person(student):\n",
        "5. class Studen=Person:"
      ]
    },
    {
      "cell_type": "markdown",
      "metadata": {
        "id": "_AGtZYkToosS"
      },
      "source": [
        "<span style=\"color:red\">답변</span>"
      ]
    },
    {
      "cell_type": "markdown",
      "metadata": {
        "id": "hHE8EGLBoosS"
      },
      "source": [
        "3번"
      ]
    },
    {
      "cell_type": "markdown",
      "metadata": {
        "id": "B19gDRPVoosS"
      },
      "source": [
        "----"
      ]
    },
    {
      "cell_type": "markdown",
      "metadata": {
        "id": "kGv3qa1poosS"
      },
      "source": [
        "<span style=\"font-size:80%\">[문제5]<br><br></span>\n",
        "```메서드 오버라이딩에 대한 설명으로 올바른 것을 골라주세요```\n",
        "\n",
        "1. 메서드 오버라이딩은 함수 이름을 다르게 만들어도 된다.\n",
        "2. 메서드 오버라이딩은 기반 클래스의 메서드는 무시하고 새로운 메서드를 만든다는 뜻이다\n",
        "3. 메서드 오버라이딩은 어떤 기능이 같은 이름으로 사용되어야 할 때 활용된다.\n",
        "4. 오버라이딩 된 메서드에서 기반 클래스의 메서드를 호출할 수 없다.\n",
        "5. 메서드 오버라이딩은 원래 기능을 유지하면서 새로운 기능을 덧붙일 때 사용한다."
      ]
    },
    {
      "cell_type": "markdown",
      "metadata": {
        "id": "quhVTjqvoosS"
      },
      "source": [
        "<span style=\"color:red\">답변</span>"
      ]
    },
    {
      "cell_type": "markdown",
      "metadata": {
        "id": "u31OadWMoosW"
      },
      "source": [
        "3번, 5번"
      ]
    },
    {
      "cell_type": "markdown",
      "metadata": {
        "id": "ydkwS18WoosW"
      },
      "source": [
        "### Chapter19 : `Python 예외처리 방벙에 대해 알아보고 문제 풀기`"
      ]
    },
    {
      "cell_type": "markdown",
      "metadata": {
        "id": "MX-5GE5OoosW"
      },
      "source": [
        "<span style=\"font-size:80%\">[문제1]<br><br></span>\n",
        "```쓰기 모드로 설정하기 위한 명령어를 골라주세요```\n",
        "\n",
        "1. a\n",
        "2. x\n",
        "3. i\n",
        "4. w\n",
        "5. z"
      ]
    },
    {
      "cell_type": "markdown",
      "metadata": {
        "id": "vZJPnUi2oosW"
      },
      "source": [
        "<span style=\"color:red\">답변</span>"
      ]
    },
    {
      "cell_type": "markdown",
      "metadata": {
        "id": "bNnCoXHXoosW"
      },
      "source": [
        "4번"
      ]
    },
    {
      "cell_type": "markdown",
      "metadata": {
        "id": "G5yzNdQpoosW"
      },
      "source": [
        "----"
      ]
    },
    {
      "cell_type": "markdown",
      "metadata": {
        "id": "cPb3NcgQoosW"
      },
      "source": [
        "<span style=\"font-size:80%\">[문제2]<br><br></span>\n",
        "```한 줄씩 읽어오기 위해 사용되는 메소드를 골라주세요```\n",
        "\n",
        "1. read()\n",
        "2. readline()\n",
        "3. readstring()\n",
        "4. line()"
      ]
    },
    {
      "cell_type": "markdown",
      "metadata": {
        "id": "O4OgdTBFoosW"
      },
      "source": [
        "<span style=\"color:red\">답변</span>"
      ]
    },
    {
      "cell_type": "markdown",
      "metadata": {
        "id": "sQdryQm5oosW"
      },
      "source": [
        "2번"
      ]
    },
    {
      "cell_type": "markdown",
      "metadata": {
        "id": "FcHs2055oosX"
      },
      "source": [
        "----"
      ]
    },
    {
      "cell_type": "markdown",
      "metadata": {
        "id": "mycoHUaHoosX"
      },
      "source": [
        "<span style=\"font-size:80%\">[문제3]<br><br></span>\n",
        "```콤마( , )로 구분해서 데이터를 입력하는 csv파일을 만들기 위해 필요한 코드를 추가로 작성해 주세요```\n",
        "\n",
        "list = ['10', '20', '30', '40']\n",
        "\n",
        "with open('test.csv', 'w') as f:<br>\n",
        "&emsp;&emsp;(여기서부터 필요한 코드를 하단 답변란에 작성해주세요)"
      ]
    },
    {
      "cell_type": "markdown",
      "metadata": {
        "id": "m23nrTwnoosX"
      },
      "source": [
        "<span style=\"color:red\">답변</span>"
      ]
    },
    {
      "cell_type": "markdown",
      "metadata": {
        "id": "CUPq-cY_oosX"
      },
      "source": []
    },
    {
      "cell_type": "markdown",
      "metadata": {
        "id": "5uZGRNTDoosX"
      },
      "source": [
        "----"
      ]
    },
    {
      "cell_type": "markdown",
      "metadata": {
        "id": "b0fSCDIdoosX"
      },
      "source": [
        "### Chapter20 : `Python을 이용한 파일 읽고 쓰기에 대해 복습해보고 문제 풀어보기`"
      ]
    },
    {
      "cell_type": "markdown",
      "metadata": {
        "id": "RVS2LyOBoosX"
      },
      "source": [
        "<span style=\"font-size:80%\">[문제1]<br><br></span>\n",
        "```다음 중 예외 처리에 대한 설명으로 잘못된 것을 모두 골라주세요```\n",
        "\n",
        "1. try의 코드에서 예외가 발생하면 except가 실행된다.\n",
        "2. 예외는 현재 함수의 코드 블록에서만 처리할 수 있다.\n",
        "3. try의 코드에서 예외가 발생하더라도 except가 실행되면 스크립트는 중단되지 않는다.\n",
        "4. try, except, else에서 예외가 발생하지 않으면 else가 실행된다.\n",
        "5. finally는 예외가 발생하면 실행되지 않는다."
      ]
    },
    {
      "cell_type": "markdown",
      "metadata": {
        "id": "LNmFPYRLoosX"
      },
      "source": [
        "<span style=\"color:red\">답변</span>"
      ]
    },
    {
      "cell_type": "markdown",
      "metadata": {
        "id": "Nx7OE1ZQoosX"
      },
      "source": [
        "2번\n",
        "5번"
      ]
    },
    {
      "cell_type": "markdown",
      "metadata": {
        "id": "lP2dr7xRoosX"
      },
      "source": [
        "----"
      ]
    },
    {
      "cell_type": "markdown",
      "metadata": {
        "id": "k8BHT4mGoosX"
      },
      "source": [
        "<span style=\"font-size:80%\">[문제2]<br><br></span>\n",
        "```예외를 임의로 발생 시키는 명령어를 골라주세요```\n",
        "\n",
        "1. else\n",
        "2. raising\n",
        "3. except\n",
        "4. ZeroDivisionError\n",
        "5. raise"
      ]
    },
    {
      "cell_type": "markdown",
      "metadata": {
        "id": "32nhd1XsoosX"
      },
      "source": [
        "<span style=\"color:red\">답변</span>"
      ]
    },
    {
      "cell_type": "markdown",
      "metadata": {
        "id": "jBm7cH4_oosX"
      },
      "source": [
        "5번"
      ]
    },
    {
      "cell_type": "markdown",
      "metadata": {
        "id": "Nq5rHxtPoosX"
      },
      "source": [
        "----"
      ]
    },
    {
      "cell_type": "markdown",
      "metadata": {
        "id": "UcWWzKf6oosX"
      },
      "source": [
        "<span style=\"font-size:80%\">[문제3]<br><br></span>\n",
        "```인덱스의 범위를 벗어났을 때 발생하는 에러에 대한 예외처리를 담당하는 코드를 골라주세요```\n",
        "\n",
        "1. TypeError\n",
        "2. IndexError\n",
        "3. ZeroDivisionError\n",
        "4. KeyError\n",
        "5. SyntaxError"
      ]
    },
    {
      "cell_type": "markdown",
      "metadata": {
        "id": "DiAqXVCjoosY"
      },
      "source": [
        "<span style=\"color:red\">답변</span>"
      ]
    },
    {
      "cell_type": "markdown",
      "metadata": {
        "id": "aBkAlBLBoosY"
      },
      "source": [
        "2번"
      ]
    },
    {
      "cell_type": "markdown",
      "metadata": {
        "id": "ggDfl4vCoosY"
      },
      "source": [
        "----"
      ]
    }
  ],
  "metadata": {
    "language_info": {
      "name": "python"
    },
    "colab": {
      "provenance": [],
      "include_colab_link": true
    },
    "kernelspec": {
      "name": "python3",
      "display_name": "Python 3"
    }
  },
  "nbformat": 4,
  "nbformat_minor": 0
}