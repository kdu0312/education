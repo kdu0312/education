{
  "cells": [
    {
      "cell_type": "markdown",
      "metadata": {
        "colab_type": "text",
        "id": "view-in-github"
      },
      "source": [
        "<a href=\"https://colab.research.google.com/github/kdu0312/education/blob/python/Chaper1416_task.ipynb\" target=\"_parent\"><img src=\"https://colab.research.google.com/assets/colab-badge.svg\" alt=\"Open In Colab\"/></a>"
      ]
    },
    {
      "cell_type": "markdown",
      "metadata": {
        "id": "BX7SgOeWu86I"
      },
      "source": [
        "안녕하세요. 수강생 여러분~! Chapter14 ~ 16 수업은 잘 들으셨나요?\n",
        "\n",
        "Chapter14 ~ 16의 수업 내용을 바탕으로 아래 문제를 풀어주시면 됩니다.\n",
        "\n",
        "<br>\n",
        "\n",
        "\n",
        "[**답변 입력 방법**]\n",
        "\n",
        "문제 아래에 있는 코드 입력창에 정답코드를 작성하신 후  __▷ 버튼을 클릭해 코드를 실행__ 해보세요<br>"
      ]
    },
    {
      "cell_type": "markdown",
      "metadata": {
        "id": "5E6NOzfhA3ub"
      },
      "source": [
        "---"
      ]
    },
    {
      "cell_type": "markdown",
      "metadata": {
        "id": "7kQJMRuFu-6s"
      },
      "source": [
        "__[문제1]__\n",
        "\n",
        "주어진 정수 x와 자연수 n을 이용해, x부터 시작해 x씩 증가하는 숫자를 n개 지니는 리스트를 출력해주세요   \n",
        "<br>\n",
        "\n",
        "x = 2, n =5"
      ]
    },
    {
      "cell_type": "code",
      "execution_count": 5,
      "metadata": {
        "colab": {
          "base_uri": "https://localhost:8080/"
        },
        "id": "juUF2KYbu0DX",
        "outputId": "7b5eef4c-2225-4e5a-87e7-58d49f8b8d30"
      },
      "outputs": [
        {
          "name": "stdout",
          "output_type": "stream",
          "text": [
            "[2, 4, 6, 8, 10]\n",
            "<class 'list'>\n"
          ]
        }
      ],
      "source": [
        "x = 2\n",
        "n = 5\n",
        "even_num = []\n",
        "\n",
        "i=0 # i값 넣고 초기화 빼먹음 / x값 그대로 넣었음\n",
        "\n",
        "for i in range(n):\n",
        "    even_num.append(x)\n",
        "    x += 2\n",
        "\n",
        "print(even_num)\n",
        "print(type(even_num))"
      ]
    },
    {
      "cell_type": "markdown",
      "metadata": {
        "id": "7JBaeG9dA3uc"
      },
      "source": [
        "---"
      ]
    },
    {
      "cell_type": "markdown",
      "metadata": {
        "id": "4BPXMLXUvBVL"
      },
      "source": [
        "__[문제2]__\n",
        "\n",
        "전화번호가 문자열 phone_number로 주어졌을 때, 전화번호의 뒷 4자리를 *으로 가린 문자열이 출력되도록 코드를 작성해주세요\n",
        "\n",
        "phone_number = \"01012347890\"  \n",
        "<br>\n",
        "\n",
        "출력 예) \"0101234****\""
      ]
    },
    {
      "cell_type": "code",
      "execution_count": null,
      "metadata": {
        "colab": {
          "base_uri": "https://localhost:8080/"
        },
        "id": "P0fY7CYUvC_j",
        "outputId": "b2049416-28cf-409b-ea61-767a7060076d"
      },
      "outputs": [
        {
          "name": "stdout",
          "output_type": "stream",
          "text": [
            "0101234****\n"
          ]
        }
      ],
      "source": [
        "phone_number = \"01012347890\"\n",
        "\n",
        "print(phone_number[:-4] + \"****\")"
      ]
    },
    {
      "cell_type": "markdown",
      "metadata": {
        "id": "7GgG60KQA3ud"
      },
      "source": [
        "---"
      ]
    },
    {
      "cell_type": "markdown",
      "metadata": {
        "id": "uUdOU9cFvDsq"
      },
      "source": [
        "__[문제3]__\n",
        "\n",
        "숫자를 건넬 때 일부 자릿수를 영단어로 바꾼 카드를 건네주면 프로도는 원래 숫자를 찾는 게임입니다.\n",
        "\n",
        "다음은 숫자의 일부 자릿수를 영단어로 바꾸는 예시입니다.\n",
        "\n",
        "1478 → \"one4seveneight\"  \n",
        "234567 → \"23four5six7\"  \n",
        "10203 → \"1zerotwozero3\"    \n",
        "\n",
        "이렇게 숫자의 일부 자릿수가 영단어로 바뀌어졌거나,   \n",
        "혹은 바뀌지 않고 그대로인 문자열 s가 주어졌을때\n",
        "s가 의미하는 원래 숫자를 출력하도록 코드를 작성해주세요\n",
        "\n",
        "s = \"77three4one\n",
        "\n",
        "---\n",
        "참고로 각 숫자에 대응되는 영단어는 다음 표와 같습니다.\n",
        "\n",
        "숫자\t영단어  \n",
        "0\tzero  \n",
        "1\tone  \n",
        "2\ttwo  \n",
        "3\tthree  \n",
        "4\tfour  \n",
        "5\tfive  \n",
        "6\tsix  \n",
        "7\tseven  \n",
        "8\teight  \n",
        "9\tnine  "
      ]
    },
    {
      "cell_type": "code",
      "execution_count": null,
      "metadata": {
        "colab": {
          "base_uri": "https://localhost:8080/"
        },
        "id": "2NmqRFgDvFtz",
        "outputId": "b56c167c-5057-4f9a-e78c-c07ebbdb7686"
      },
      "outputs": [
        {
          "name": "stdout",
          "output_type": "stream",
          "text": [
            "77341\n"
          ]
        }
      ],
      "source": [
        "s = \"77three4one\"\n",
        "\n",
        "num_word = {\n",
        "0 : \"zero\",\n",
        "1 : \"one\",\n",
        "2 : \"two\",\n",
        "3 : \"three\",\n",
        "4 : \"four\",\n",
        "5 : \"five\",\n",
        "6 : \"six\",\n",
        "7 : \"seven\",\n",
        "8 : \"eight\",\n",
        "9 : \"nine\"\n",
        "}\n",
        "\n",
        "for num, word in num_word.items():\n",
        "    s = s.replace(word, str(num))\n",
        "\n",
        "print(s)\n",
        "\n",
        "\n"
      ]
    },
    {
      "cell_type": "markdown",
      "metadata": {
        "id": "2yrqyMb-A3ud"
      },
      "source": [
        "---"
      ]
    },
    {
      "cell_type": "markdown",
      "metadata": {
        "id": "J0Tha6AdvGL3"
      },
      "source": [
        "__[문제4]__\n",
        "\n",
        "행렬의 덧셈은 행과 열의 크기가 같은 두 행렬의 같은 행, 같은 열의 값을 서로 더한 결과가 됩니다.\n",
        "\n",
        " 행렬 arr1과 arr2가 주어졌을 때, 행렬 덧셈의 결과를 출력하는 코드를 작성해주세요(result와 같은 결과가 출력되도록 작성)\n",
        "\n",
        "arr1 = [[1,2],[2,3]]\n",
        "\n",
        "arr2 = [[3,4],[5,6]]\n",
        "\n",
        "result = [[4,6],[7,9]]"
      ]
    },
    {
      "cell_type": "code",
      "execution_count": null,
      "metadata": {
        "colab": {
          "base_uri": "https://localhost:8080/"
        },
        "id": "ujiXrEhJvIV0",
        "outputId": "fd7d45fb-2a12-4511-9187-fd0771b87388"
      },
      "outputs": [
        {
          "name": "stdout",
          "output_type": "stream",
          "text": [
            "result=[[4, 6], [7, 9]]\n"
          ]
        }
      ],
      "source": [
        "arr1 = [[1,2],[2,3]]\n",
        "\n",
        "arr2 = [[3,4],[5,6]]\n",
        "\n",
        "result = []\n",
        "\n",
        "for i in range(len(arr1)):\n",
        "    arr3 = []\n",
        "    for j in range(len(arr1[i])):\n",
        "        arr3.append(arr1[i][j] + arr2[i][j])\n",
        "    result.append(arr3)\n",
        "\n",
        "print(f\"result={result}\")"
      ]
    },
    {
      "cell_type": "markdown",
      "metadata": {
        "id": "esjJNI0JA3ue"
      },
      "source": [
        "---"
      ]
    },
    {
      "cell_type": "markdown",
      "metadata": {
        "id": "eLdrWVkavJEN"
      },
      "source": [
        "__[문제5]__\n",
        "\n",
        "양의 정수 x가 하샤드 수이려면 x의 자릿수의 합으로 x가 나누어져야 합니다.   \n",
        "예를 들어 18의 자릿수 합은 1+8=9이고, 18은 9로 나누어 떨어지므로 18은 하샤드 수입니다.   \n",
        "주어진 x를 이용해 x가 하샤드 수인지 아닌지 검사하는 코드를 작성해주세요\n",
        "\n",
        "x = 17\n",
        "\n",
        "----\n",
        "\n",
        "입출력 예시\n",
        "x\t결과값  \n",
        "10\ttrue  \n",
        "12\ttrue  \n",
        "11\tfalse  \n",
        "13\tfalse  "
      ]
    },
    {
      "cell_type": "code",
      "execution_count": null,
      "metadata": {
        "colab": {
          "base_uri": "https://localhost:8080/"
        },
        "id": "EULD-IOrvKmG",
        "outputId": "507a6ddf-7a7b-4920-a7ef-9c53a0dd089b"
      },
      "outputs": [
        {
          "name": "stdout",
          "output_type": "stream",
          "text": [
            "false\n",
            "정수를 입력해 주세요: 12\n",
            "입력한 정수는 12입니다.\n",
            "12 true\n"
          ]
        }
      ],
      "source": [
        "x= 17\n",
        "\n",
        "hasad_num = 0\n",
        "\n",
        "for i in str(x):\n",
        "    hasad_num += int(i)\n",
        "\n",
        "if x % hasad_num == 0:\n",
        "    print(\"true\")\n",
        "else:\n",
        "    print(\"false\")\n",
        "\n",
        "hasad_num = 0\n",
        "\n",
        "while True: ## 입력을 계속 받고 그만이라고 작성하면 멈추는 로직도 추후에 추가하자 #y = [10, 12, 11, 13] 대신 유져 입력값으로 할려고했음\n",
        "    try:\n",
        "        y = int(input(\"정수를 입력해 주세요: \"))\n",
        "        break\n",
        "    except ValueError:\n",
        "        print(\"정수가 아닙니다. 다시 입력 바랍니다.\")\n",
        "\n",
        "print(f\"입력한 정수는 {y}입니다.\")\n",
        "\n",
        "for j in str(y):\n",
        "    hasad_num += int(j)\n",
        "\n",
        "if y % hasad_num == 0:\n",
        "    print(f'{y} true')\n",
        "else:\n",
        "    print(f'{y} false')"
      ]
    },
    {
      "cell_type": "markdown",
      "metadata": {
        "id": "TyqA_brzA3ue"
      },
      "source": [
        "---"
      ]
    },
    {
      "cell_type": "markdown",
      "metadata": {
        "id": "GeS6hZhivLMZ"
      },
      "source": [
        "__[문제6]__\n",
        "\n",
        "String형 배열 seoul의 element중 \"Kim\"의 인덱스 x를 찾아, \"김서방은 x에 있다\"는 String을 출력하는 코드를 작성해주세요.   \n",
        "\n",
        "seoul에 \"Kim\"은 오직 한 번만 나타나며 잘못된 값이 입력되는 경우는 없습니다.\n",
        "\n",
        "seoul = [\"Jane\", \"Kim\"]\n",
        "\n",
        "<br>\n",
        "출력 예) \"김서방은 1에 있다\""
      ]
    },
    {
      "cell_type": "code",
      "execution_count": null,
      "metadata": {
        "colab": {
          "base_uri": "https://localhost:8080/"
        },
        "id": "e4LXat3BvRRg",
        "outputId": "ea51a69d-010a-428a-e75c-7e01b145ee27"
      },
      "outputs": [
        {
          "name": "stdout",
          "output_type": "stream",
          "text": [
            "김서방은 1에 있다\n"
          ]
        }
      ],
      "source": [
        "seoul = [\"Jane\", \"Kim\"]\n",
        "\n",
        "index = seoul.index(\"Kim\")\n",
        "\n",
        "print(f\"김서방은 {index}에 있다\")"
      ]
    },
    {
      "cell_type": "markdown",
      "metadata": {
        "id": "nykoTy1MA3ue"
      },
      "source": [
        "---"
      ]
    },
    {
      "cell_type": "markdown",
      "metadata": {
        "id": "iZjKl-ZqvOkm"
      },
      "source": [
        "__[문제7]__\n",
        "\n",
        "0부터 9까지의 숫자 중 일부가 들어있는 정수 배열 numbers가 주어집니다.   \n",
        "numbers에서 찾을 수 없는 0부터 9까지의 숫자를 모두 찾아 더한 수를 출력해주세요\n",
        "\n",
        "numbers = [5,8,1,0,6,9]"
      ]
    },
    {
      "cell_type": "code",
      "execution_count": null,
      "metadata": {
        "colab": {
          "base_uri": "https://localhost:8080/"
        },
        "id": "598DAkIHvQav",
        "outputId": "8ddeaf3a-0cad-450a-ce29-3dd4f9639a6f"
      },
      "outputs": [
        {
          "name": "stdout",
          "output_type": "stream",
          "text": [
            "<built-in function sum>\n"
          ]
        }
      ],
      "source": [
        "numbers = [5,8,1,0,6,9]\n",
        "\n",
        "total = 0 # sum 썻음\n",
        "for i in range(10):\n",
        "    if i not in numbers:\n",
        "        total += i\n",
        "\n",
        "print(total)"
      ]
    }
  ],
  "metadata": {
    "colab": {
      "include_colab_link": true,
      "provenance": []
    },
    "kernelspec": {
      "display_name": "Python 3",
      "name": "python3"
    },
    "language_info": {
      "codemirror_mode": {
        "name": "ipython",
        "version": 3
      },
      "file_extension": ".py",
      "mimetype": "text/x-python",
      "name": "python",
      "nbconvert_exporter": "python",
      "pygments_lexer": "ipython3",
      "version": "3.11.7"
    }
  },
  "nbformat": 4,
  "nbformat_minor": 0
}
