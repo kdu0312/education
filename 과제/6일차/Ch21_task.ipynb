{
  "cells": [
    {
      "cell_type": "markdown",
      "metadata": {
        "id": "view-in-github",
        "colab_type": "text"
      },
      "source": [
        "<a href=\"https://colab.research.google.com/github/kdu0312/education/blob/python/%EA%B3%BC%EC%A0%9C/6%EC%9D%BC%EC%B0%A8/Ch21_task.ipynb\" target=\"_parent\"><img src=\"https://colab.research.google.com/assets/colab-badge.svg\" alt=\"Open In Colab\"/></a>"
      ]
    },
    {
      "cell_type": "markdown",
      "metadata": {
        "id": "bUkHfphzZcuJ"
      },
      "source": [
        "안녕하세요. 수강생 여러분~! Chapter21 ~ 32 수업은 잘 들으셨나요?\n",
        "\n",
        "Chapter21 ~ 32의 수업 내용을 바탕으로 아래 문제를 풀어주시면 됩니다.\n",
        "\n",
        "\n",
        "<br>\n",
        "\n",
        "\n",
        "[**답변 입력 방법**]\n",
        "\n",
        "문제 아래에 있는 코드 입력창에 정답코드를 작성하신 후  __▷ 버튼을 클릭해 코드를 실행__ 해보세요<br>"
      ]
    },
    {
      "cell_type": "markdown",
      "metadata": {
        "id": "2s2RtBKAZcuK"
      },
      "source": [
        "---"
      ]
    },
    {
      "cell_type": "markdown",
      "metadata": {
        "id": "WpeYzuQeZcuK"
      },
      "source": [
        "[문제 1]\n",
        "사용자로부터 이름과 나이를 입력 받아, \"안녕하세요, [이름]님! 당신은 [나이]살입니다.\"라고 출력하는 함수 greet_user를 작성하세요."
      ]
    },
    {
      "cell_type": "markdown",
      "metadata": {
        "id": "hrGy5ygsZcuK"
      },
      "source": []
    },
    {
      "cell_type": "code",
      "source": [
        "def greet_user(self):\n",
        "\n",
        "    name=input(\"이름을 입력하세요: \")\n",
        "    age=int(input(\"나이를 입력하세요: \"))\n",
        "\n",
        "    print(f\"안녕하세요, {name}님! 당신은 {age}살입니다.\")\n",
        "\n",
        "greet_user()"
      ],
      "metadata": {
        "colab": {
          "base_uri": "https://localhost:8080/"
        },
        "id": "8IW9taAoZlu_",
        "outputId": "67259a72-5f22-4bf5-ed7a-d0ac1629ab11"
      },
      "execution_count": null,
      "outputs": [
        {
          "output_type": "stream",
          "name": "stdout",
          "text": [
            "이름을 입력하세요: 강동욱\n",
            "나이를 입력하세요: 0\n",
            "안녕하세요, 강동욱님! 당신은 0살입니다.\n"
          ]
        }
      ]
    },
    {
      "cell_type": "markdown",
      "metadata": {
        "id": "nfstSY77ZcuL"
      },
      "source": [
        "---"
      ]
    },
    {
      "cell_type": "markdown",
      "metadata": {
        "id": "rZ8Hky1DZcuL"
      },
      "source": [
        "[문제 2] 여러 숫자를 입력받아 그 합계를 반환하는 함수 sum_numbers를 작성하세요. 이 때, 가변 매개변수를 사용하세요."
      ]
    },
    {
      "cell_type": "markdown",
      "metadata": {
        "id": "Qq4DurcdZcuL"
      },
      "source": []
    },
    {
      "cell_type": "code",
      "source": [
        "def sum_numbers(self, *value):\n",
        "    return sum(value)\n",
        "\n",
        "\n",
        "sum_numbers(3, 5, 10, 20)"
      ],
      "metadata": {
        "colab": {
          "base_uri": "https://localhost:8080/"
        },
        "id": "-3Z59zGAgcZ0",
        "outputId": "817946e6-c5e8-4be3-fd20-a7217b78a73f"
      },
      "execution_count": null,
      "outputs": [
        {
          "output_type": "execute_result",
          "data": {
            "text/plain": [
              "35"
            ]
          },
          "metadata": {},
          "execution_count": 7
        }
      ]
    },
    {
      "cell_type": "markdown",
      "metadata": {
        "id": "aGZvUuMDZcuL"
      },
      "source": [
        "---"
      ]
    },
    {
      "cell_type": "markdown",
      "metadata": {
        "id": "YR8_GpmUZcuL"
      },
      "source": [
        "[문제 3] 사용자의 이름을 출력하는 함수 print_name을 작성하세요. 만약 이름이 주어지지 않았다면, 기본값으로 \"익명\"을 사용하세요."
      ]
    },
    {
      "cell_type": "markdown",
      "metadata": {
        "id": "2W41S7SeZcuL"
      },
      "source": []
    },
    {
      "cell_type": "code",
      "source": [
        "def print_name(name=\"익명\"):\n",
        "    print(\"이름:\", name)\n",
        "\n",
        "\n",
        "print_name(\"강동욱\")\n",
        "print_name()"
      ],
      "metadata": {
        "colab": {
          "base_uri": "https://localhost:8080/"
        },
        "id": "LFBHxBw3023a",
        "outputId": "e561bafb-6a5a-4ef9-f979-1afbe7225165"
      },
      "execution_count": null,
      "outputs": [
        {
          "output_type": "stream",
          "name": "stdout",
          "text": [
            "이름: 강동욱\n",
            "이름: 익명\n"
          ]
        }
      ]
    },
    {
      "cell_type": "markdown",
      "metadata": {
        "id": "_pj1xYSZZcuM"
      },
      "source": [
        "---"
      ]
    },
    {
      "cell_type": "markdown",
      "metadata": {
        "id": "g9eA-jQcZcuM"
      },
      "source": [
        "[문제 4] 사용자의 이름, 나이, 성별을 출력하는 함수 print_info를 작성하세요. 이 때, 모든 매개변수는 키워드 매개변수로만 받도록 하세요."
      ]
    },
    {
      "cell_type": "markdown",
      "metadata": {
        "id": "sDPOkl8FZcuM"
      },
      "source": []
    },
    {
      "cell_type": "code",
      "source": [
        "def print_info(*, name, age, gender):\n",
        "    print(\"이름:\", name)\n",
        "    print(\"나이:\", age)\n",
        "    print(\"성별:\", gender)\n",
        "\n",
        "\n",
        "print_info(name=\"강동욱\", age=0, gender=\"남성\")"
      ],
      "metadata": {
        "colab": {
          "base_uri": "https://localhost:8080/"
        },
        "id": "bbsLsXWC03YA",
        "outputId": "b0958f59-c7a4-424a-8f62-e6ebe2178513"
      },
      "execution_count": null,
      "outputs": [
        {
          "output_type": "stream",
          "name": "stdout",
          "text": [
            "이름: 강동욱\n",
            "나이: 0\n",
            "성별: 남성\n"
          ]
        }
      ]
    },
    {
      "cell_type": "markdown",
      "metadata": {
        "id": "SEidLDgrZcuM"
      },
      "source": [
        "---"
      ]
    },
    {
      "cell_type": "markdown",
      "metadata": {
        "id": "OpIBmBoeZcuM"
      },
      "source": [
        "[문제 5] 두 개의 정수를 받아 합을 반환하는 함수 add를 작성하세요. 매개변수와 반환값에 타입 어노테이션을 추가하세요."
      ]
    },
    {
      "cell_type": "markdown",
      "metadata": {
        "id": "UBm8DdjxZcuM"
      },
      "source": []
    },
    {
      "cell_type": "code",
      "source": [
        "def add(a: int, b: int) -> int:\n",
        "    return a + b\n",
        "\n",
        "add(1, 2)"
      ],
      "metadata": {
        "colab": {
          "base_uri": "https://localhost:8080/"
        },
        "id": "YlH3Nj9_030G",
        "outputId": "c8f54b71-5467-46ab-84df-f599db1f8a64"
      },
      "execution_count": null,
      "outputs": [
        {
          "output_type": "execute_result",
          "data": {
            "text/plain": [
              "3"
            ]
          },
          "metadata": {},
          "execution_count": 6
        }
      ]
    },
    {
      "cell_type": "markdown",
      "metadata": {
        "id": "r6Bbu8o3ZcuM"
      },
      "source": [
        "---"
      ]
    },
    {
      "cell_type": "markdown",
      "metadata": {
        "id": "JIZ2tMe-ZcuM"
      },
      "source": [
        "[문제 6] 0부터 시작하여 n까지의 숫자 중에서 홀수만 생성하는 제너레이터 odd_numbers를 작성하세요."
      ]
    },
    {
      "cell_type": "markdown",
      "metadata": {
        "id": "xW7A3YvqZcuM"
      },
      "source": []
    },
    {
      "cell_type": "code",
      "source": [
        "def odd_numbers(n):\n",
        "    result = []\n",
        "    for i in range(n + 1):\n",
        "        if i % 2 == 1:\n",
        "            result.append(i)\n",
        "    return result\n",
        "\n",
        "odd_numbers(10)"
      ],
      "metadata": {
        "colab": {
          "base_uri": "https://localhost:8080/"
        },
        "id": "SjwinZUh04Oo",
        "outputId": "6daeba9c-0c22-41dc-acea-c65e54bcc32d"
      },
      "execution_count": null,
      "outputs": [
        {
          "output_type": "execute_result",
          "data": {
            "text/plain": [
              "[1, 3, 5, 7, 9]"
            ]
          },
          "metadata": {},
          "execution_count": 9
        }
      ]
    },
    {
      "cell_type": "markdown",
      "metadata": {
        "id": "l5Y175T2ZcuM"
      },
      "source": [
        "---"
      ]
    },
    {
      "cell_type": "markdown",
      "metadata": {
        "id": "lLyrNIpHZcuM"
      },
      "source": [
        "[문제 7] 두 숫자를 더하는 람다 함수를 작성하고, 이를 변수에 할당한 후 사용하세요."
      ]
    },
    {
      "cell_type": "markdown",
      "metadata": {
        "id": "N-b4K4O_ZcuM"
      },
      "source": []
    },
    {
      "cell_type": "code",
      "source": [
        "add = lambda a, b: a + b\n",
        "\n",
        "\n",
        "add(1, 2)"
      ],
      "metadata": {
        "colab": {
          "base_uri": "https://localhost:8080/"
        },
        "id": "IhmGxvUU045w",
        "outputId": "09654fb7-2369-48f9-f103-34fb25b1ca67"
      },
      "execution_count": null,
      "outputs": [
        {
          "output_type": "execute_result",
          "data": {
            "text/plain": [
              "3"
            ]
          },
          "metadata": {},
          "execution_count": 10
        }
      ]
    },
    {
      "cell_type": "markdown",
      "metadata": {
        "id": "tQUUPviVZcuM"
      },
      "source": [
        "---"
      ]
    },
    {
      "cell_type": "markdown",
      "metadata": {
        "id": "BvBZjK6AZcuM"
      },
      "source": [
        "[문제 8] 사용자로부터 3개의 숫자를 입력받아, 이를 튜플로 만든 후 최소값과 최대값을 출력하는 함수 min_max를 작성하세요."
      ]
    },
    {
      "cell_type": "markdown",
      "metadata": {
        "id": "v9NyBO4kZcuN"
      },
      "source": []
    },
    {
      "cell_type": "code",
      "source": [
        "def min_max():\n",
        "    nums = tuple(int(input(f\"{i+1}번째 숫자: \")) for i in range(3))\n",
        "    print(\"입력된 튜플:\", nums)\n",
        "    return min(nums), max(nums)\n",
        "\n",
        "\n",
        "minimum, maximum = min_max()\n",
        "print(\"최소:\", minimum)\n",
        "print(\"최대:\", maximum)"
      ],
      "metadata": {
        "colab": {
          "base_uri": "https://localhost:8080/"
        },
        "id": "6kCVOsoU07me",
        "outputId": "b0b102e1-7ead-4142-ad21-6a1eac65bda3"
      },
      "execution_count": null,
      "outputs": [
        {
          "output_type": "stream",
          "name": "stdout",
          "text": [
            "1번째 숫자: 14\n",
            "2번째 숫자: 2\n",
            "3번째 숫자: 50\n",
            "입력된 튜플: (14, 2, 50)\n",
            "최소: 2\n",
            "최대: 50\n"
          ]
        }
      ]
    },
    {
      "cell_type": "markdown",
      "metadata": {
        "id": "WagmyKDvZcuN"
      },
      "source": [
        "---"
      ]
    },
    {
      "cell_type": "markdown",
      "metadata": {
        "id": "LwPzmn19ZcuN"
      },
      "source": [
        "[문제 9] 주어진 숫자가 짝수인지 확인하는 함수 is_even을 작성하세요. 짝수라면 True를, 아니라면 False를 반환하세요. 함수 내에서 조기 리턴을 활용하세요."
      ]
    },
    {
      "cell_type": "markdown",
      "metadata": {
        "id": "POWpcFsEZcuN"
      },
      "source": []
    },
    {
      "cell_type": "code",
      "source": [
        "def is_even(n):\n",
        "    if n % 2 == 0:\n",
        "        return True  # 조기 리턴\n",
        "    return False\n",
        "\n",
        "print(is_even(5))\n",
        "print(is_even(4))"
      ],
      "metadata": {
        "colab": {
          "base_uri": "https://localhost:8080/"
        },
        "id": "_iKXlW8r08F0",
        "outputId": "d3956a31-395e-4c2b-e730-f20b7602ab31"
      },
      "execution_count": null,
      "outputs": [
        {
          "output_type": "stream",
          "name": "stdout",
          "text": [
            "False\n",
            "True\n"
          ]
        }
      ]
    },
    {
      "cell_type": "markdown",
      "metadata": {
        "id": "TjImIgh4ZcuN"
      },
      "source": [
        "---"
      ]
    },
    {
      "cell_type": "markdown",
      "metadata": {
        "id": "jgYjRH1EZcuN"
      },
      "source": [
        "[문제 10] 팩토리얼을 계산하는 재귀 함수 factorial을 작성하세요."
      ]
    },
    {
      "cell_type": "markdown",
      "metadata": {
        "id": "8T14KkI8ZcuN"
      },
      "source": []
    },
    {
      "cell_type": "code",
      "source": [
        "def factorial(n):\n",
        "    if n == 0 or n == 1:\n",
        "        return 1\n",
        "    return n * factorial(n - 1)\n",
        "\n",
        "print(factorial(5))\n",
        "print(factorial(0))"
      ],
      "metadata": {
        "colab": {
          "base_uri": "https://localhost:8080/"
        },
        "id": "lL5Ym8hH08sQ",
        "outputId": "cc0fa783-ea0b-4b8a-cb2b-c28133c054e5"
      },
      "execution_count": null,
      "outputs": [
        {
          "output_type": "stream",
          "name": "stdout",
          "text": [
            "120\n",
            "1\n"
          ]
        }
      ]
    },
    {
      "cell_type": "markdown",
      "metadata": {
        "id": "-_8rO_8kZcuN"
      },
      "source": [
        "---"
      ]
    },
    {
      "cell_type": "markdown",
      "metadata": {
        "id": "jI_D9QRpZcuN"
      },
      "source": [
        "[문제 11] 문자열 리스트를 받아, 각 문자열의 길이를 출력하는 함수 print_lengths를 작성하세요."
      ]
    },
    {
      "cell_type": "markdown",
      "metadata": {
        "id": "TIeI6-9cZcuN"
      },
      "source": []
    },
    {
      "cell_type": "code",
      "source": [
        "def print_lengths(strings):\n",
        "    for s in strings:\n",
        "        print(f\"'{s}'의 길이: {len(s)}\")\n",
        "\n",
        "\n",
        "words = [\"사진\", \"capter\", \"12314\"]\n",
        "print_lengths(words)"
      ],
      "metadata": {
        "colab": {
          "base_uri": "https://localhost:8080/"
        },
        "id": "Ez88MGmc09Ii",
        "outputId": "735fdd7d-2443-4abe-e9db-460361458f3a"
      },
      "execution_count": null,
      "outputs": [
        {
          "output_type": "stream",
          "name": "stdout",
          "text": [
            "'사진'의 길이: 2\n",
            "'capter'의 길이: 6\n",
            "'12314'의 길이: 5\n"
          ]
        }
      ]
    },
    {
      "cell_type": "markdown",
      "metadata": {
        "id": "6eW61AViZcuN"
      },
      "source": [
        "---"
      ]
    },
    {
      "cell_type": "markdown",
      "metadata": {
        "id": "Z2pSX_apZcuN"
      },
      "source": [
        "[문제 12] 두 문자열을 받아서 긴 문자열을 반환하는 함수 longer_string을 작성하세요. 만약 두 문자열의 길이가 같다면, 첫 번째 문자열을 반환하세요."
      ]
    },
    {
      "cell_type": "markdown",
      "metadata": {
        "id": "KhrKN5bJZcuN"
      },
      "source": []
    },
    {
      "cell_type": "code",
      "source": [
        "def longer_string(s1, s2):\n",
        "    if len(s1) > len(s2):\n",
        "        return s1\n",
        "    if len(s2) > len(s1):\n",
        "        return s2\n",
        "    else:\n",
        "        return s1\n",
        "\n",
        "print(longer_string(\"자동차\", \"콘센트\"))\n",
        "print(longer_string(\"12451251\", \"4444\"))\n",
        "print(longer_string(\"longer\", \"short\"))"
      ],
      "metadata": {
        "colab": {
          "base_uri": "https://localhost:8080/"
        },
        "id": "heL7cOyn094m",
        "outputId": "c650b722-51db-42c9-ed4c-59c25e5abd68"
      },
      "execution_count": null,
      "outputs": [
        {
          "output_type": "stream",
          "name": "stdout",
          "text": [
            "자동차\n",
            "12451251\n",
            "longer\n"
          ]
        }
      ]
    }
  ],
  "metadata": {
    "language_info": {
      "name": "python"
    },
    "colab": {
      "provenance": [],
      "include_colab_link": true
    },
    "kernelspec": {
      "name": "python3",
      "display_name": "Python 3"
    }
  },
  "nbformat": 4,
  "nbformat_minor": 0
}