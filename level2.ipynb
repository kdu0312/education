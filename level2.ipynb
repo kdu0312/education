{
  "cells": [
    {
      "cell_type": "markdown",
      "metadata": {
        "id": "view-in-github",
        "colab_type": "text"
      },
      "source": [
        "<a href=\"https://colab.research.google.com/github/kdu0312/education/blob/python/level2.ipynb\" target=\"_parent\"><img src=\"https://colab.research.google.com/assets/colab-badge.svg\" alt=\"Open In Colab\"/></a>"
      ]
    },
    {
      "cell_type": "markdown",
      "metadata": {
        "id": "WXEwMsfUct7U"
      },
      "source": [
        "안녕하세요.<br><br>\n",
        "수강생 여러분~!\n",
        "\n",
        "\"Challenge : Chapter05 ~ 08 문제풀기\"는 잘 풀어보셨나요?\n",
        "\n",
        "\n",
        "너~~무 어려웠어요! 하는 분들을 위해 만들어봤습니다!\n",
        "\n",
        "문제 도장깨기 !!!!!\n",
        "\n",
        "차근차근 풀어나가면 파이썬 정복 가능입니다!\n",
        "\n",
        "화이팅 !\n",
        "\n",
        "\n",
        "Chapter05~08의 수업 내용을 바탕으로 아래 문제를 풀어주시면 됩니다.\n",
        "\n",
        "<br>\n",
        "\n",
        "[**답변 입력 방법**]\n",
        "\n",
        "문제 아래에 있는 코드 입력창에 정답코드를 작성하신 후  __▷ 버튼을 클릭해 코드를 실행__ 해보세요<br>\n",
        "<br>"
      ]
    },
    {
      "cell_type": "markdown",
      "metadata": {
        "id": "qoyC9wF-3hvs"
      },
      "source": [
        "-----"
      ]
    },
    {
      "cell_type": "markdown",
      "metadata": {
        "id": "qOQM5tbIuQzy"
      },
      "source": [
        "<br>\n",
        "\n",
        "__[문제1]__\n",
        "\n",
        "코딩나라는 파이썬 문법을 통해 타이틀을 바꿔주면 신분을 변경할 수 있습니다.\n",
        "평민이 왕의 타이틀을 뻇으려고 합니다.\n",
        "평민의 신분상승 도와주세요 ! 그리고 출력으로 확인시켜주세요 !\n",
        "\n",
        "<br>\n",
        "출력 예)\n",
        "\n",
        "평민은 이제 '왕'\n",
        "\n",
        "왕은 이제 '평민'\n",
        "<br>"
      ]
    },
    {
      "cell_type": "code",
      "execution_count": 1,
      "metadata": {
        "colab": {
          "base_uri": "https://localhost:8080/"
        },
        "id": "wYfhjm4quQzz",
        "outputId": "2043743f-861c-436a-c3c5-57a5bff0f813"
      },
      "outputs": [
        {
          "output_type": "stream",
          "name": "stdout",
          "text": [
            " 평민은 이제 왕 \n",
            " 왕은 이제 평인\n"
          ]
        }
      ],
      "source": [
        "평민 = \"왕\"\n",
        "왕 = \"평인\"\n",
        "\n",
        "print(f\" 평민은 이제 {평민} \\n 왕은 이제 {왕}\")"
      ]
    },
    {
      "cell_type": "markdown",
      "metadata": {
        "id": "Q1LmJGZFuQzz"
      },
      "source": [
        "<br>\n",
        "\n",
        "__[문제2]__\n",
        "\n",
        "꿈에서 숫자가 보였습니다.\n",
        "\n",
        "바로 로또를 사려고 하는데 앗 숫자가 너무 길어요 !\n",
        "\n",
        "정수부분만 잘라서 로또 번호를 골라보기로 했습니다.\n",
        "\n",
        "122211170788345.273782741828653689149813 정수 부분만 출력해주세요.\n",
        "\n",
        "\n",
        "<br>"
      ]
    },
    {
      "cell_type": "code",
      "execution_count": 2,
      "metadata": {
        "colab": {
          "base_uri": "https://localhost:8080/"
        },
        "id": "1rTwDMbSuQzz",
        "outputId": "1be308ce-f191-42ae-afe7-cf2a002fd75b"
      },
      "outputs": [
        {
          "output_type": "stream",
          "name": "stdout",
          "text": [
            "122211170788345\n"
          ]
        }
      ],
      "source": [
        "num_1 = 122211170788345.273782741828653689149813\n",
        "\n",
        "print(int(num_1))"
      ]
    },
    {
      "cell_type": "markdown",
      "metadata": {
        "id": "rAD_O3Gmc_43"
      },
      "source": [
        "<br>\n",
        "\n",
        "__[문제3]__\n",
        "\n",
        "\n",
        "sentence 변수를 할당하고, 양쪽 공백을 제거한 후 출력해주세요 !\n",
        "\n",
        "<br>\n",
        "\n",
        "__sentence = \" Hello World!  \"__\n"
      ]
    },
    {
      "cell_type": "code",
      "execution_count": 4,
      "metadata": {
        "id": "74wtVQFFc_h1",
        "colab": {
          "base_uri": "https://localhost:8080/"
        },
        "outputId": "3fb66b2f-71d8-46ec-ef34-f191d594b83b"
      },
      "outputs": [
        {
          "output_type": "stream",
          "name": "stdout",
          "text": [
            " Hello World! \n",
            "Hello World!\n"
          ]
        }
      ],
      "source": [
        "sentence = \" Hello World! \"\n",
        "print(sentence)\n",
        "print(sentence.strip())"
      ]
    },
    {
      "cell_type": "markdown",
      "metadata": {
        "id": "3uK_auXYdgk2"
      },
      "source": [
        "<br>__[문제4]__\n",
        "\n",
        "산만이가 집중력 테스트를 하기로 합니다.\n",
        "\n",
        "아주아주 긴 문자열이 있는데 여기에서 s의 횟수를 세보라고 합니다.\n",
        "\n",
        "파이썬을 배운 산만이에게는 꼼수가 있습니다.\n",
        "\n",
        "어떤 꼼수를 사용했을지 코드로 작성하고, 출력해주세요 !\n",
        "\n",
        "<br>\n",
        "\n",
        "__str = \"sdsdsddddddsdsssdssssdssssdsdssssssssssdsdsdsdsdssssdsdsssdssssdssssdsdssdsssdssssdssssdsdssdsssdssssdssssdsdssdsssdssssdssssdsdss\"__\n"
      ]
    },
    {
      "cell_type": "code",
      "execution_count": 5,
      "metadata": {
        "id": "9kvBxa6PdhgA",
        "colab": {
          "base_uri": "https://localhost:8080/"
        },
        "outputId": "5a95232a-f2b5-4cc6-806e-60f798c3cf78"
      },
      "outputs": [
        {
          "output_type": "stream",
          "name": "stdout",
          "text": [
            "91\n"
          ]
        }
      ],
      "source": [
        "str = \"sdsdsddddddsdsssdssssdssssdsdssssssssssdsdsdsdsdssssdsdsssdssssdssssdsdssdsssdssssdssssdsdssdsssdssssdssssdsdssdsssdssssdssssdsdss\"\n",
        "count = str.count(\"s\")\n",
        "print(count)"
      ]
    },
    {
      "cell_type": "markdown",
      "metadata": {
        "id": "2Jte2VLKdiPm"
      },
      "source": [
        "__[문제5]__\n",
        "\n",
        "\n",
        "변수 data에 \"apple, banana, cherry\"를 할당하고, 이를 쉼표 기준으로 분리하여 출력해주세요 !"
      ]
    },
    {
      "cell_type": "code",
      "execution_count": 6,
      "metadata": {
        "colab": {
          "base_uri": "https://localhost:8080/"
        },
        "id": "rSgq1oZguQz0",
        "outputId": "01ab7e0a-0eba-491b-e5e0-ca8529e130fb"
      },
      "outputs": [
        {
          "output_type": "stream",
          "name": "stdout",
          "text": [
            "['apple', ' banana', ' cherry']\n"
          ]
        }
      ],
      "source": [
        "data = \"apple, banana, cherry\"\n",
        "print(data.split(\",\"))"
      ]
    },
    {
      "cell_type": "markdown",
      "metadata": {
        "id": "Ry-Ruw2UuQz0"
      },
      "source": [
        "__[문제6]__\n",
        "\n",
        "\n",
        "오즈 코딩 스쿨 백엔드 8기 과정에 참여한 수강생 중 5명의 수강생이 자율적으로 스터디 그룹을 결성했습니다.\n",
        "\n",
        "스터디 그룹 내에는 한 주간 배운 내용으로 매주 쪽지 시험을 보는 룰이 있습니다.\n",
        "\n",
        "이 쪽지 시험의 평균이 70점이 넘으면 주말 스터디는 없습니다.\n",
        "\n",
        "주말 스터디의 여부를 True 또는 False로 출력해주세요.\n",
        "\n",
        "<br>\n",
        "A: 70, B: 75, C: 50, D: 80, E: 60"
      ]
    },
    {
      "cell_type": "code",
      "execution_count": 9,
      "metadata": {
        "colab": {
          "base_uri": "https://localhost:8080/"
        },
        "id": "ikHDfWMLuQz0",
        "outputId": "2502815f-58e5-46e4-d376-553264f43ea0"
      },
      "outputs": [
        {
          "output_type": "execute_result",
          "data": {
            "text/plain": [
              "False"
            ]
          },
          "metadata": {},
          "execution_count": 9
        }
      ],
      "source": [
        "A = 70\n",
        "B = 75\n",
        "C = 50\n",
        "D = 80\n",
        "E = 60\n",
        "\n",
        "sum = A + B + C + D + E\n",
        "average = sum / 5\n",
        "\n",
        "average >= 70\n"
      ]
    }
  ],
  "metadata": {
    "colab": {
      "provenance": [],
      "include_colab_link": true
    },
    "kernelspec": {
      "display_name": "Python 3",
      "name": "python3"
    },
    "language_info": {
      "codemirror_mode": {
        "name": "ipython",
        "version": 3
      },
      "file_extension": ".py",
      "mimetype": "text/x-python",
      "name": "python",
      "nbconvert_exporter": "python",
      "pygments_lexer": "ipython3",
      "version": "3.12.3"
    }
  },
  "nbformat": 4,
  "nbformat_minor": 0
}