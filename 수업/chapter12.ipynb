{
  "nbformat": 4,
  "nbformat_minor": 0,
  "metadata": {
    "colab": {
      "provenance": [],
      "authorship_tag": "ABX9TyOM6npkHZNR+UNotAVUicBM",
      "include_colab_link": true
    },
    "kernelspec": {
      "name": "python3",
      "display_name": "Python 3"
    },
    "language_info": {
      "name": "python"
    }
  },
  "cells": [
    {
      "cell_type": "markdown",
      "metadata": {
        "id": "view-in-github",
        "colab_type": "text"
      },
      "source": [
        "<a href=\"https://colab.research.google.com/github/kdu0312/education/blob/python/chapter12.ipynb\" target=\"_parent\"><img src=\"https://colab.research.google.com/assets/colab-badge.svg\" alt=\"Open In Colab\"/></a>"
      ]
    },
    {
      "cell_type": "markdown",
      "source": [
        "##시퀀스 자료형\n",
        "* 문자열 :\n",
        "        * 시퀀스형에서 사용할수 있는 메소드(count(), index(), split()등...)\n",
        "        * 슬라이스([:][::])\n",
        "        * 요소들로 이루어져 가능했던 기능들(요소합치기, 요소 착기 등등)\n",
        "\n",
        "* list :\n",
        "        * 시퀀스형에서 사용할수 있는 메소드(count(), index(), split()등...)\n",
        "        * 슬라이스([:][::])\n",
        "        * 요소들로 이루어져 가능했던 기능들(요소합치기, 요소 착기 등등)\n",
        "        * list에 지원하는 다양한 메소드(append(), insert(), del, sort(), reverse())\n",
        "\n",
        "* tuple :\n",
        "        * 리스트처럼 요소를 일렬로 저장하지만 안에 저장된 요소를 변경, 추가, 삭제할수 없다.\n",
        "        * 값을 추가, 삭제, 변경할 수 없기 떄문에 사용하지 못하는 메소드가 많다\n",
        "        * tuple의 생성 방법은 tuple = 값, 값 또는 tuple = (값, 값)\n",
        "        * 그리고 엄청난 비밀이 숨겨져 있어요\n",
        "        * 튜플은 소괄호 입니다.\n",
        "\n",
        "* dict(딕셔너리)\n",
        "        * list, tuple, str, range(범위안에 연속된 데이터를 만드는 시퀀스)\n",
        "        공통적인 특징이있어요. 데이터의 연관성이 없습니다.\n",
        "        * dict는 여러개의 값이 일렬로 정렬되면서도 연관성이 존재\n",
        "        (예시 : 게임 케릭터 힘:30, 지능:20, 체력:40, 민첨:90)\n",
        "        "
      ],
      "metadata": {
        "id": "rKZOgUUfikho"
      }
    },
    {
      "cell_type": "code",
      "execution_count": null,
      "metadata": {
        "id": "TF8-h4O3iIzX"
      },
      "outputs": [],
      "source": [
        "#list 대괄호, tuple(), dict{} 중괄호\n",
        "\n",
        "짱짱맨 = {\"힘\":30, \"지능\":20, \"체력\":40, \"민첩\":90)}\n",
        "\n",
        "#키 :"
      ]
    }
  ]
}