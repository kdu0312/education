{
  "nbformat": 4,
  "nbformat_minor": 0,
  "metadata": {
    "colab": {
      "provenance": [],
      "authorship_tag": "ABX9TyNSDNIXZDN2HBGctkismabE",
      "include_colab_link": true
    },
    "kernelspec": {
      "name": "python3",
      "display_name": "Python 3"
    },
    "language_info": {
      "name": "python"
    }
  },
  "cells": [
    {
      "cell_type": "markdown",
      "metadata": {
        "id": "view-in-github",
        "colab_type": "text"
      },
      "source": [
        "<a href=\"https://colab.research.google.com/github/kdu0312/education/blob/python/chapter3.ipynb\" target=\"_parent\"><img src=\"https://colab.research.google.com/assets/colab-badge.svg\" alt=\"Open In Colab\"/></a>"
      ]
    },
    {
      "cell_type": "code",
      "execution_count": null,
      "metadata": {
        "colab": {
          "base_uri": "https://localhost:8080/"
        },
        "id": "tXAPMBHpJknw",
        "outputId": "dcd8539e-9d39-4ea1-c5f0-808c03c12982"
      },
      "outputs": [
        {
          "output_type": "stream",
          "name": "stdout",
          "text": [
            "안보이나?\n"
          ]
        }
      ],
      "source": [
        "# 설정에서 들여쓰기 4로 수정함\n",
        "print(\"안보이나?\")\n",
        "# print(\"못보나?\")\n",
        "#  control + / ==> 주석처리\n",
        "# ctr+enter ==> 실행\n",
        "# alt + enter -==> 코드창 실행"
      ]
    },
    {
      "cell_type": "code",
      "source": [
        "# \"\"\" \"\"\" ==> colab은안되 vscode에선 작동함\n",
        "\"\"\"\n",
        "# print(\"안보이나?\")\n",
        "# print(\"못보나?\")\n",
        "\n",
        "\"\"\""
      ],
      "metadata": {
        "colab": {
          "base_uri": "https://localhost:8080/",
          "height": 35
        },
        "id": "WYtVR4t7KtJQ",
        "outputId": "b936e79c-4039-4947-941f-66c4c4cc72a0"
      },
      "execution_count": null,
      "outputs": [
        {
          "output_type": "execute_result",
          "data": {
            "text/plain": [
              "'\\nprint(\"안보이나?\")\\nprint(\"못보나?\")\\n\\n'"
            ],
            "application/vnd.google.colaboratory.intrinsic+json": {
              "type": "string"
            }
          },
          "metadata": {},
          "execution_count": 3
        }
      ]
    },
    {
      "cell_type": "code",
      "source": [
        "for 동물 in (\"토끼\", \"사자\", \"푸바오\", \"호랭이\"):\n",
        "    print(동물)\n",
        "    print(\"키울래?\")"
      ],
      "metadata": {
        "colab": {
          "base_uri": "https://localhost:8080/"
        },
        "id": "98_OzQR1K3cm",
        "outputId": "da0ba5ab-e799-4051-8ed4-e325417838f0"
      },
      "execution_count": null,
      "outputs": [
        {
          "output_type": "stream",
          "name": "stdout",
          "text": [
            "토끼\n",
            "키울래?\n",
            "사자\n",
            "키울래?\n",
            "푸바오\n",
            "키울래?\n",
            "호랭이\n",
            "키울래?\n"
          ]
        }
      ]
    },
    {
      "cell_type": "code",
      "source": [
        "# 문법어길시 ==> 문서만들때 포함관계랑 똑같음\n",
        "\n",
        "for 동물 in (\"토끼\", \"사자\", \"푸바오\", \"호랭이\"):\n",
        "    print(동물)\n",
        "print(\"키울래?\")\n"
      ],
      "metadata": {
        "colab": {
          "base_uri": "https://localhost:8080/"
        },
        "id": "fpoXvYNeLTrI",
        "outputId": "0896a7c2-8fde-464a-e275-f50cea7f6181"
      },
      "execution_count": null,
      "outputs": [
        {
          "output_type": "stream",
          "name": "stdout",
          "text": [
            "토끼\n",
            "사자\n",
            "푸바오\n",
            "호랭이\n",
            "키울래?\n"
          ]
        }
      ]
    }
  ]
}