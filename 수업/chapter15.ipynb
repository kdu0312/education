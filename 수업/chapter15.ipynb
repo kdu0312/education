{
  "nbformat": 4,
  "nbformat_minor": 0,
  "metadata": {
    "colab": {
      "provenance": [],
      "authorship_tag": "ABX9TyNQluBp/emycLLNOKWIjZk+",
      "include_colab_link": true
    },
    "kernelspec": {
      "name": "python3",
      "display_name": "Python 3"
    },
    "language_info": {
      "name": "python"
    }
  },
  "cells": [
    {
      "cell_type": "markdown",
      "metadata": {
        "id": "view-in-github",
        "colab_type": "text"
      },
      "source": [
        "<a href=\"https://colab.research.google.com/github/kdu0312/education/blob/python/chapter15.ipynb\" target=\"_parent\"><img src=\"https://colab.research.google.com/assets/colab-badge.svg\" alt=\"Open In Colab\"/></a>"
      ]
    },
    {
      "cell_type": "markdown",
      "source": [
        "##for문이란?\n",
        "* 프로그래밍 안에서 반복되는 작업을 간단하게 처리하기 위해서 사용하는 기능\n"
      ],
      "metadata": {
        "id": "TiXD172q0iHq"
      }
    },
    {
      "cell_type": "markdown",
      "source": [
        "for 문 (콜론, 들여쓰기) # if랑 동일"
      ],
      "metadata": {
        "id": "Uq5yDiFS0y3g"
      }
    },
    {
      "cell_type": "code",
      "execution_count": 3,
      "metadata": {
        "colab": {
          "base_uri": "https://localhost:8080/"
        },
        "id": "S-ZShTuRz6gM",
        "outputId": "3a3aa2ec-edd3-438b-a962-eaf46ffe5ed4"
      },
      "outputs": [
        {
          "output_type": "stream",
          "name": "stdout",
          "text": [
            "5번 반복\n",
            "5번 반복\n",
            "5번 반복\n",
            "5번 반복\n",
            "5번 반복\n"
          ]
        }
      ],
      "source": [
        "#2 for문으로 만들어보기\n",
        "# for 변수 in range(횟수):\n",
        "# print()\n",
        "\n",
        "#3 for문 만들어보기\n",
        "\n",
        "for i in range(5):\n",
        "    print(\"5번 반복\")"
      ]
    },
    {
      "cell_type": "code",
      "source": [
        "#4 for문의 흐름 확인해보자\n",
        "\n",
        "for i in range(5): # 루프 인덱스 i\n",
        "    print(\"5번 반복이 되네\", i)"
      ],
      "metadata": {
        "colab": {
          "base_uri": "https://localhost:8080/"
        },
        "id": "j2WPUHoK3arN",
        "outputId": "8cc4d21e-5b3e-4be5-9918-ac981ae85852"
      },
      "execution_count": 6,
      "outputs": [
        {
          "output_type": "stream",
          "name": "stdout",
          "text": [
            "5번 반복이 되네 0\n",
            "5번 반복이 되네 1\n",
            "5번 반복이 되네 2\n",
            "5번 반복이 되네 3\n",
            "5번 반복이 되네 4\n"
          ]
        }
      ]
    },
    {
      "cell_type": "code",
      "source": [
        "#5 for문에서 range() 함수 활용하기\n",
        "\n",
        "# for i in range(4,10):\n",
        "#     print(i)\n",
        "\n",
        "\n",
        "# for i in range(4,10,2): #2배수 출\n",
        "#     print(i)\n",
        "\n",
        "\n",
        "# for i in range(10,4,-1): #반대로 출력\n",
        "#     print(i)\n",
        "\n",
        "for i in reversed(range(10)): #반대로 출력\n",
        "    print(i)"
      ],
      "metadata": {
        "colab": {
          "base_uri": "https://localhost:8080/"
        },
        "id": "r81yJ_vM3yhl",
        "outputId": "d2e59286-4b36-47be-8398-350bfacc7d5a"
      },
      "execution_count": 14,
      "outputs": [
        {
          "output_type": "stream",
          "name": "stdout",
          "text": [
            "9\n",
            "8\n",
            "7\n",
            "6\n",
            "5\n",
            "4\n",
            "3\n",
            "2\n",
            "1\n",
            "0\n"
          ]
        }
      ]
    },
    {
      "cell_type": "code",
      "source": [
        "#6 for문에서 시퀀스 객체로 반복하기\n",
        "\n",
        "과일 = [\"두리안\", \"망고\", \"바나나\" ,\"멜론\"]\n",
        "\n",
        "for i in 과일:\n",
        "    print(i)\n",
        "\n",
        "for i in '닥스훈트':\n",
        "    print(i, end=' ')\n",
        "\n",
        "for i in reversed('닥스훈트'):\n",
        "    print(i, end=' ')"
      ],
      "metadata": {
        "colab": {
          "base_uri": "https://localhost:8080/"
        },
        "id": "Yak5NsR-4lXt",
        "outputId": "82a27bd3-dd7a-4a76-bff2-89cf1d672f3d"
      },
      "execution_count": 24,
      "outputs": [
        {
          "output_type": "stream",
          "name": "stdout",
          "text": [
            "두리안\n",
            "망고\n",
            "바나나\n",
            "멜론\n",
            "닥 스 훈 트 트 훈 스 닥 "
          ]
        }
      ]
    },
    {
      "cell_type": "code",
      "source": [
        "#7 for문 예제 익혀보기\n",
        "\n",
        "#문제 : 절대값 정수가 담긴 정수 변수와 그정수의 부호를 차례로 담은 부호 변수가 있다\n",
        "# 두변수를 이용해 실제 정수의 합을 구해주세요 (True : 양수, False : 음수)\n",
        "\n",
        "정수 = [10, 5, 8]\n",
        "부호 = [True, False, True]\n",
        "\n",
        "합=0\n",
        "\n",
        "for k, v in zip(부호, 정수):\n",
        "    if k:\n",
        "        합 += v\n",
        "    else:\n",
        "        합 -= v\n",
        "print(f'총합은 {합}입니다.')\n",
        "\n"
      ],
      "metadata": {
        "colab": {
          "base_uri": "https://localhost:8080/"
        },
        "id": "asIXnBYC5Q00",
        "outputId": "70de9631-0fbb-49b4-8b2e-25df7edad69f"
      },
      "execution_count": 28,
      "outputs": [
        {
          "output_type": "stream",
          "name": "stdout",
          "text": [
            "총합은 13입니다.\n"
          ]
        }
      ]
    }
  ]
}