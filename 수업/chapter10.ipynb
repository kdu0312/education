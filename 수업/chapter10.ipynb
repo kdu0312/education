{
  "nbformat": 4,
  "nbformat_minor": 0,
  "metadata": {
    "colab": {
      "provenance": [],
      "authorship_tag": "ABX9TyNdx8Rcyd4ORzBabn6uSV4S",
      "include_colab_link": true
    },
    "kernelspec": {
      "name": "python3",
      "display_name": "Python 3"
    },
    "language_info": {
      "name": "python"
    }
  },
  "cells": [
    {
      "cell_type": "markdown",
      "metadata": {
        "id": "view-in-github",
        "colab_type": "text"
      },
      "source": [
        "<a href=\"https://colab.research.google.com/github/kdu0312/education/blob/python/chapter10.ipynb\" target=\"_parent\"><img src=\"https://colab.research.google.com/assets/colab-badge.svg\" alt=\"Open In Colab\"/></a>"
      ]
    },
    {
      "cell_type": "markdown",
      "source": [
        "#list\n",
        "\n",
        "* list란? 원소들이 연속적으로 저장되는 형태의 자료형을 말합니다.\n",
        "* 시퀀스 자료형!\n",
        "    * str(), **list()**, tuple, dict, set\n",
        "*만드는 방법은 쉬우나..... 대괄호로 묶어주고, 값들은 콤마로 구분합니다."
      ],
      "metadata": {
        "id": "FcemB6NWWQef"
      }
    },
    {
      "cell_type": "code",
      "execution_count": null,
      "metadata": {
        "colab": {
          "base_uri": "https://localhost:8080/"
        },
        "id": "eJZrCiEsWLvI",
        "outputId": "90542900-ac5e-468f-e52e-58f7133ac668"
      },
      "outputs": [
        {
          "output_type": "stream",
          "name": "stdout",
          "text": [
            "[]\n",
            "[23, '이게 리스트다', 3.23, True, False]\n"
          ]
        }
      ],
      "source": [
        "# 첫 리스트 두근두근\n",
        "\n",
        "리스트 = []\n",
        "print(리스트)\n",
        "\n",
        "리스트 = [23,\"이게 리스트다\", 3.23, True, False]\n",
        "print(리스트)"
      ]
    },
    {
      "cell_type": "code",
      "source": [
        "#리스트 다시 한번 선언해 보자\n",
        "리스트 = [\"이\", \"렇\",\"게\", \"만\", \"들\", \"어\", \"요\"]\n",
        "#리스트\n",
        "#리스트2 =\n",
        "#리스트2 =\n",
        "\n",
        "#range? 연속된 숫자를 생산하는 기능이\n",
        "range(10)\n",
        "\n",
        "#list(range(시작, 끝))\n",
        "\n",
        "리스트_매직_들어간다 = list(range(0,20))\n",
        "리스트_매직_들어간다"
      ],
      "metadata": {
        "colab": {
          "base_uri": "https://localhost:8080/"
        },
        "id": "XmxhQR4OW52g",
        "outputId": "e868786e-b9a9-4d52-92e3-85a287fe37e2"
      },
      "execution_count": null,
      "outputs": [
        {
          "output_type": "execute_result",
          "data": {
            "text/plain": [
              "[0, 1, 2, 3, 4, 5, 6, 7, 8, 9, 10, 11, 12, 13, 14, 15, 16, 17, 18, 19]"
            ]
          },
          "metadata": {},
          "execution_count": 7
        }
      ]
    },
    {
      "cell_type": "code",
      "source": [
        "#list(range(시작, 끝, 증가))\n",
        "리스트_매직2 = list(range(0,20,2))\n",
        "print(리스트_매직2)\n",
        "\n",
        "리스트_매직3 = list(range(20,0,-1))\n",
        "print(리스트_매직3)\n",
        "\n",
        "리스트_매직4 = list(range(20,0))\n",
        "print(리스트_매직4)"
      ],
      "metadata": {
        "colab": {
          "base_uri": "https://localhost:8080/"
        },
        "id": "6UH4eSkSc9RX",
        "outputId": "4c12b451-b945-41e8-ea7f-fbd80d62000c"
      },
      "execution_count": null,
      "outputs": [
        {
          "output_type": "stream",
          "name": "stdout",
          "text": [
            "[0, 2, 4, 6, 8, 10, 12, 14, 16, 18]\n",
            "[20, 19, 18, 17, 16, 15, 14, 13, 12, 11, 10, 9, 8, 7, 6, 5, 4, 3, 2, 1]\n",
            "[]\n"
          ]
        }
      ]
    },
    {
      "cell_type": "code",
      "source": [
        "# 끝나지 않는 리스트 매직\n",
        "# 리스트를 이용해 변수에 값 넣기\n",
        "\n",
        "\n",
        "a,b,c = [\"살\", \"려\", \"줘\"]\n",
        "print(a, b, c)\n",
        "\n",
        "d, e, f = [7, 7, 8]\n",
        "print(7,7,8)\n",
        "\n",
        "지갑 = [10000, 5000, 1000]\n",
        "만원, 오천원, 천원 = 지갑\n",
        "\n",
        "print(f'{만원} 2장, {오천원} 3장, {천원} 1장')"
      ],
      "metadata": {
        "colab": {
          "base_uri": "https://localhost:8080/"
        },
        "id": "8JSjKiGtfgI4",
        "outputId": "0cf8bb3b-d3b0-4be1-f43e-fa7323ecbac6"
      },
      "execution_count": null,
      "outputs": [
        {
          "output_type": "stream",
          "name": "stdout",
          "text": [
            "살 려 줘\n",
            "7 7 8\n",
            "10000 2장, 5000 3장, 1000 1장\n"
          ]
        }
      ]
    },
    {
      "cell_type": "code",
      "source": [
        "# 리스트 패킹, 리스트 언패킹\n",
        "#\n",
        "input().split()"
      ],
      "metadata": {
        "colab": {
          "base_uri": "https://localhost:8080/"
        },
        "id": "1pm1lLr_gd2A",
        "outputId": "51f3068e-1b6b-47bf-f3aa-f0030656bcab"
      },
      "execution_count": null,
      "outputs": [
        {
          "name": "stdout",
          "output_type": "stream",
          "text": [
            "기억? 나요?\n"
          ]
        },
        {
          "output_type": "execute_result",
          "data": {
            "text/plain": [
              "['기억?', '나요?']"
            ]
          },
          "metadata": {},
          "execution_count": 18
        }
      ]
    },
    {
      "cell_type": "code",
      "source": [
        "#슬라이싱\n",
        "로또 = [3,5,15,33,41,44]\n",
        "#로또 변수에 있는 리스트의 인데스 1번부터 2번까지의 값을 출력해주세요\n",
        "\n",
        "print(로또[1:3])\n",
        "\n",
        "#반대로 출력해보세요\n",
        "\n",
        "print(로또[::-1])\n",
        "\n",
        "#로또 리스트안에 33이 있는지 확인해보세요\n",
        "\n",
        "print(33 in 로또)\n",
        "\n",
        "#로또 리스트를 로토2 리스트와 합쳐보세요\n",
        "로또2 = [2,12,15,24,33,39]\n",
        "\n",
        "print(로또 + 로또2)\n",
        "\n",
        "#range를 이용해서 1부터 10사이에 짝수만 들어있는 짝수(변수명) 리스트를 만들어 주세요\n",
        "\n",
        "짝수 = list(range(2,12,2))\n",
        "print(짝수)\n",
        "\n",
        "#짝수 리스트에 들어있는 값을 2배늘리고 다시 짝수 변수에 담아줘\n",
        "\n",
        "짝수 = 짝수 *2\n",
        "print(짝수)\n",
        "\n",
        "#짝수 리스트에 들어있는 요소의 개수를 구해주세요\n",
        "print(len(짝수))\n",
        "\n",
        "\n",
        "\n",
        "#짝수 리스트에 3번쨰 인덱스를 출력해주세요\n",
        "print(짝수[3])\n",
        "\n",
        "\n",
        "#len()함수를 이용해 인덱스 마지막 값을 출력해주세요 ==> 일정 한 값을 추출할떄 유용함\n",
        "print(짝수[len(짝수)-1])\n",
        "\n",
        "\n",
        "\n"
      ],
      "metadata": {
        "colab": {
          "base_uri": "https://localhost:8080/"
        },
        "id": "fS2V27tSguD3",
        "outputId": "3904a01e-7b5c-4bba-b500-12d438e1bab6"
      },
      "execution_count": 2,
      "outputs": [
        {
          "output_type": "stream",
          "name": "stdout",
          "text": [
            "[5, 15]\n",
            "[44, 41, 33, 15, 5, 3]\n",
            "True\n",
            "[3, 5, 15, 33, 41, 44, 2, 12, 15, 24, 33, 39]\n",
            "[2, 4, 6, 8, 10]\n",
            "[2, 4, 6, 8, 10, 2, 4, 6, 8, 10]\n",
            "10\n",
            "8\n",
            "10\n"
          ]
        }
      ]
    },
    {
      "cell_type": "code",
      "source": [
        "# list 값 넣고 바꾸고, 지우고\n",
        "\n",
        "mzfood = [\"숙주\", \"분모자\", \"마라\", \"소세지\", \"소고기\", \"옥수수면\"]\n",
        "\n",
        "# 값을 넣는 방법 2가지 : appennd(): 마지막 요소에 값을 넣어, insert() : 원하는 곳에 값을 넣어요\n",
        "\n",
        "print(mzfood)\n",
        "\n",
        "mzfood.append(\"고수\") #--> 끝단\n",
        "print(mzfood)\n",
        "\n",
        "mzfood.insert(0, \"탕호루\") #--> 첫단\n",
        "print(mzfood)\n",
        "\n",
        "#값 지우고\n",
        "del mzfood[-1] #--> 끝단\n",
        "print(mzfood)\n",
        "\n",
        "del mzfood[0] #--> 첫단\n",
        "print(mzfood)\n",
        "\n",
        "#값 바꾸고\n",
        "mzfood[-2] = \"양고기\"\n",
        "print(mzfood)\n",
        "\n",
        "# 문자열 시퀀스 아니야 그럼 저거다 될듯\n",
        "인사 = \"반가워\"\n",
        "인사[2] = \"웡\""
      ],
      "metadata": {
        "id": "AamhecSPhAyQ",
        "colab": {
          "base_uri": "https://localhost:8080/",
          "height": 280
        },
        "outputId": "c73ea68a-c003-4331-d8dc-7f52607cbaf0"
      },
      "execution_count": 15,
      "outputs": [
        {
          "output_type": "stream",
          "name": "stdout",
          "text": [
            "['숙주', '분모자', '마라', '소세지', '소고기', '옥수수면']\n",
            "['숙주', '분모자', '마라', '소세지', '소고기', '옥수수면', '고수']\n",
            "['탕호루', '숙주', '분모자', '마라', '소세지', '소고기', '옥수수면', '고수']\n",
            "['탕호루', '숙주', '분모자', '마라', '소세지', '소고기', '옥수수면']\n",
            "['숙주', '분모자', '마라', '소세지', '소고기', '옥수수면']\n",
            "['숙주', '분모자', '마라', '소세지', '양고기', '옥수수면']\n"
          ]
        },
        {
          "output_type": "error",
          "ename": "TypeError",
          "evalue": "'str' object does not support item assignment",
          "traceback": [
            "\u001b[0;31m---------------------------------------------------------------------------\u001b[0m",
            "\u001b[0;31mTypeError\u001b[0m                                 Traceback (most recent call last)",
            "\u001b[0;32m<ipython-input-15-4d6367707dac>\u001b[0m in \u001b[0;36m<cell line: 0>\u001b[0;34m()\u001b[0m\n\u001b[1;32m     26\u001b[0m \u001b[0;31m# 문자열 시퀀스 아니야 그럼 저거다 될듯\u001b[0m\u001b[0;34m\u001b[0m\u001b[0;34m\u001b[0m\u001b[0m\n\u001b[1;32m     27\u001b[0m \u001b[0m인사\u001b[0m \u001b[0;34m=\u001b[0m \u001b[0;34m\"반가워\"\u001b[0m\u001b[0;34m\u001b[0m\u001b[0;34m\u001b[0m\u001b[0m\n\u001b[0;32m---> 28\u001b[0;31m \u001b[0m인사\u001b[0m\u001b[0;34m[\u001b[0m\u001b[0;36m2\u001b[0m\u001b[0;34m]\u001b[0m \u001b[0;34m=\u001b[0m \u001b[0;34m\"웡\"\u001b[0m\u001b[0;34m\u001b[0m\u001b[0;34m\u001b[0m\u001b[0m\n\u001b[0m",
            "\u001b[0;31mTypeError\u001b[0m: 'str' object does not support item assignment"
          ]
        }
      ]
    },
    {
      "cell_type": "code",
      "source": [
        "print(dir(list)) # list 기능 확인"
      ],
      "metadata": {
        "colab": {
          "base_uri": "https://localhost:8080/"
        },
        "id": "ql55IEboTI7r",
        "outputId": "d2bfc801-912b-44cd-c2a7-b03a1cee1f2f"
      },
      "execution_count": 12,
      "outputs": [
        {
          "output_type": "stream",
          "name": "stdout",
          "text": [
            "['__add__', '__class__', '__class_getitem__', '__contains__', '__delattr__', '__delitem__', '__dir__', '__doc__', '__eq__', '__format__', '__ge__', '__getattribute__', '__getitem__', '__getstate__', '__gt__', '__hash__', '__iadd__', '__imul__', '__init__', '__init_subclass__', '__iter__', '__le__', '__len__', '__lt__', '__mul__', '__ne__', '__new__', '__reduce__', '__reduce_ex__', '__repr__', '__reversed__', '__rmul__', '__setattr__', '__setitem__', '__sizeof__', '__str__', '__subclasshook__', 'append', 'clear', 'copy', 'count', 'extend', 'index', 'insert', 'pop', 'remove', 'reverse', 'sort']\n"
          ]
        }
      ]
    },
    {
      "cell_type": "code",
      "source": [
        "# reverse 왜 print문을 쓰면 none 나올까?\n",
        "print(mzfood)\n",
        "\n",
        "mzfood.reverse() # 순서 거꿀로\n",
        "print(mzfood)\n",
        "print(mzfood.reverse()) # none 나오는 이유\n",
        "\n",
        "mzfood.sort() # 오름차순으로 수정\n",
        "print(mzfood)\n",
        "print(mzfood.sort())\n",
        "\n",
        "# 리스트는 아주우우우우우 중요\n",
        "\n"
      ],
      "metadata": {
        "colab": {
          "base_uri": "https://localhost:8080/"
        },
        "id": "l5KtmTuVTMpK",
        "outputId": "83f18bed-61ec-499e-c383-a8e5ab527e4b"
      },
      "execution_count": 18,
      "outputs": [
        {
          "output_type": "stream",
          "name": "stdout",
          "text": [
            "['마라', '분모자', '소세지', '숙주', '양고기', '옥수수면']\n",
            "['옥수수면', '양고기', '숙주', '소세지', '분모자', '마라']\n",
            "None\n",
            "['마라', '분모자', '소세지', '숙주', '양고기', '옥수수면']\n",
            "None\n"
          ]
        }
      ]
    },
    {
      "cell_type": "code",
      "source": [
        "양파같은 = [[2,0], [3,1]]\n",
        "\n",
        "print(양파같은)\n",
        "\n",
        "print(양파같은[0])\n",
        "\n",
        "print(양파같은[1][0]) # 2번쨰 항목에서 1번째 항목 출력\n",
        "\n",
        "양파같은.append([4.1])\n",
        "양파같은\n",
        "\n",
        "#리스트 기능은 다외우"
      ],
      "metadata": {
        "colab": {
          "base_uri": "https://localhost:8080/"
        },
        "id": "7m28ZL9FUXmL",
        "outputId": "03280455-c5e3-446e-da3d-80eef3e31009"
      },
      "execution_count": 22,
      "outputs": [
        {
          "output_type": "stream",
          "name": "stdout",
          "text": [
            "[[2, 0], [3, 1]]\n",
            "[2, 0]\n",
            "3\n"
          ]
        },
        {
          "output_type": "execute_result",
          "data": {
            "text/plain": [
              "[[2, 0], [3, 1], [4.1]]"
            ]
          },
          "metadata": {},
          "execution_count": 22
        }
      ]
    }
  ]
}