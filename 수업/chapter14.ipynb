{
  "nbformat": 4,
  "nbformat_minor": 0,
  "metadata": {
    "colab": {
      "provenance": [],
      "authorship_tag": "ABX9TyMH7xABcIlW2eFX1qcLvD02",
      "include_colab_link": true
    },
    "kernelspec": {
      "name": "python3",
      "display_name": "Python 3"
    },
    "language_info": {
      "name": "python"
    }
  },
  "cells": [
    {
      "cell_type": "markdown",
      "metadata": {
        "id": "view-in-github",
        "colab_type": "text"
      },
      "source": [
        "<a href=\"https://colab.research.google.com/github/kdu0312/education/blob/python/chapter14.ipynb\" target=\"_parent\"><img src=\"https://colab.research.google.com/assets/colab-badge.svg\" alt=\"Open In Colab\"/></a>"
      ]
    },
    {
      "cell_type": "markdown",
      "source": [
        "### if문 목차\n",
        "1. if문의란?(if 문의기능설명)\n",
        "2. if문 문법과 주의사항(콜론, 들여쓰기)\n",
        "3. if문의 흐름\n",
        "4. if 중첩문\n",
        "5. if ~else문 흐음(작동원리)\n",
        "6. 조건문 조건(True, False)\n",
        "7. 조건식 여러개 설정하기\n",
        "8.elif~if문\n",
        "10. 예제로 if문 익혀보기\n",
        "\n",
        "##1. if문이란?\n",
        "    * 특정조건일때 코드를 실행하는 문법\n",
        "        if 파이썬을 정복한다면:\n",
        "           개발자 로 취직할수 있다.\n",
        "\n",
        "##2. if문 문법과 주의사항(콤마, 들여쓰기)\n",
        "    * 들여쓰기 할때 칸갯수는 모두 동일하게 해야한다. ex)4칸 or 2칸\n",
        "    * 콜론 뺴먹을때 많음(잘알지?)\n",
        "\n"
      ],
      "metadata": {
        "id": "YW29lNKtN9FT"
      }
    },
    {
      "cell_type": "code",
      "execution_count": 2,
      "metadata": {
        "colab": {
          "base_uri": "https://localhost:8080/"
        },
        "id": "xZ2-FkbZM8zf",
        "outputId": "6044bcfe-b1c8-481c-8779-11083532e742"
      },
      "outputs": [
        {
          "output_type": "stream",
          "name": "stdout",
          "text": [
            "붕어빵 몇개 사실껀가요?4\n",
            "개당 1800원입니다\n"
          ]
        }
      ],
      "source": [
        "#2 if문 문법과 주의사항(콜론, 들여쓰기)\n",
        "개수 = int(input(\"붕어빵 몇개 사실껀가요?\"))\n",
        "\n",
        "if 개수 >3 :\n",
        "    print(\"개당 1800원입니다\")\n",
        "\n",
        "\n"
      ]
    },
    {
      "cell_type": "code",
      "source": [
        "#3 if문의 흐임(작동원리)\n",
        "\n",
        "# 코드는 위에서 아래 순서대로 작동합니다.\n",
        "\n",
        "#2)개수라는 변수에 담음 1) 입력을 받음\n",
        "개수 = int(input(\"몇개 살꺼야?\"))\n",
        "#3개수가 변수가 있네 값이 뭐지? 4>3 True or False\n",
        "if 개수 >3 :\n",
        "    print(\"개당 1800원입니다.\")\n",
        "if 개수 <= 3:\n",
        "    print(\"개당 2000원입니다.\")"
      ],
      "metadata": {
        "colab": {
          "base_uri": "https://localhost:8080/"
        },
        "id": "wZXZ7TSvT5US",
        "outputId": "b5c64273-1cd3-48f9-e7e3-1d62e1891ed0"
      },
      "execution_count": 5,
      "outputs": [
        {
          "output_type": "stream",
          "name": "stdout",
          "text": [
            "몇개 살꺼야?3\n",
            "개당 2000원입니다.\n"
          ]
        }
      ]
    },
    {
      "cell_type": "code",
      "source": [
        "#4 if 중첩문\n",
        "의문의_숫자 = 10\n",
        "if 의문의_숫자 >5 :\n",
        "    if 의문의_숫자 < 15:\n",
        "        print(\"5보다 크고 15보다 작습니다.\")"
      ],
      "metadata": {
        "colab": {
          "base_uri": "https://localhost:8080/"
        },
        "id": "qMTgG-GMU0TC",
        "outputId": "26efadc7-5998-44cf-8d65-dc19fb6710c9"
      },
      "execution_count": 9,
      "outputs": [
        {
          "output_type": "stream",
          "name": "stdout",
          "text": [
            "5보다 크고 15보다 작습니다.\n"
          ]
        }
      ]
    },
    {
      "cell_type": "code",
      "source": [
        "#5 if _else 문법과 주의사항(콜론, 들어쓰기)\n",
        "# True일떄는 if문 안에 작성된 코드가 실행됩니다.\n",
        "# False일떄는 else문 안에 작성된 코드가 싱행됩니다.\n",
        "\n",
        "개수 = int(input(\"몇개 살꺼야?\"))\n",
        "\n",
        "if 개수 > 3 :\n",
        "    print(\"개당 1800원입니다.\")\n",
        "else:\n",
        "    print(\"개당 2000원입니다.\")\n",
        "\n",
        ""
      ],
      "metadata": {
        "colab": {
          "base_uri": "https://localhost:8080/"
        },
        "id": "tnNwgZvKWX5a",
        "outputId": "513504e6-1af3-46f1-fa94-67547fe36cd2"
      },
      "execution_count": 11,
      "outputs": [
        {
          "output_type": "stream",
          "name": "stdout",
          "text": [
            "몇개 살꺼야?3\n",
            "개당 2000원입니다.\n"
          ]
        }
      ]
    },
    {
      "cell_type": "code",
      "source": [
        "#6. if else문 흐름(작동원리) 위에서 아래로\n",
        "개수 = int(input(\"몇개 살꺼야?\"))\n",
        "\n",
        "if 개수 > 3 :\n",
        "    print(\"개당 1800원입니다.\")\n",
        "else:\n",
        "    print(\"개당 2000원입니다.\")\n"
      ],
      "metadata": {
        "colab": {
          "base_uri": "https://localhost:8080/"
        },
        "id": "gKmhxhyPXDdD",
        "outputId": "8797b844-4448-43f6-f95e-b23fa47bb434"
      },
      "execution_count": 12,
      "outputs": [
        {
          "output_type": "stream",
          "name": "stdout",
          "text": [
            "몇개 살꺼야?3\n",
            "개당 2000원입니다.\n"
          ]
        }
      ]
    },
    {
      "cell_type": "code",
      "source": [
        "#7 조건문 조건(True, False) 0.''도 False ' '은 True\n",
        "#True\n",
        "if True:\n",
        "    print(True)\n",
        "else:\n",
        "    print(False)\n",
        "\n",
        "#False\n",
        "if False:\n",
        "    print(True)\n",
        "else:\n",
        "    print(False)\n",
        "\n",
        "#None\n",
        "if None:\n",
        "    print(True)\n",
        "else:\n",
        "    print(False)\n",
        "\n",
        "# 0\n",
        "if 0:\n",
        "    print(True)\n",
        "else:\n",
        "    print(False)\n",
        "\n",
        "# 1\n",
        "if 1:\n",
        "    print(True)\n",
        "else:\n",
        "    print(False)\n",
        "\n",
        "# 1.1\n",
        "if 1.1:\n",
        "    print(True)\n",
        "else:\n",
        "    print(False)\n",
        "\n",
        "# ''\n",
        "if '':\n",
        "    print(True)\n",
        "else:\n",
        "    print(False)\n",
        "\n",
        "# ' '\n",
        "if ' ':\n",
        "    print(True)\n",
        "else:\n",
        "    print(False)"
      ],
      "metadata": {
        "colab": {
          "base_uri": "https://localhost:8080/"
        },
        "id": "7GX77eOSXYoz",
        "outputId": "d8484722-13f4-424b-97f6-be290b9acc01"
      },
      "execution_count": 26,
      "outputs": [
        {
          "output_type": "stream",
          "name": "stdout",
          "text": [
            "True\n",
            "False\n",
            "False\n",
            "False\n",
            "True\n",
            "True\n",
            "False\n",
            "True\n"
          ]
        }
      ]
    },
    {
      "cell_type": "code",
      "source": [
        "#8 조건식 여러개 설정하기\n",
        "\n",
        "a, b = 10, 30\n",
        "\n",
        "if a==10 and b ==30:\n",
        "    print('동일합니다.')\n",
        "else:\n",
        "    print('동일하지 않습니다.')\n",
        "\n",
        "if a==10 or b ==20:\n",
        "    print('동일합니다.')\n",
        "else:\n",
        "    print('동일하지 않습니다.')\n",
        "\n",
        "if a >=10 and a< 20:\n",
        "    print('10보다 크고 20보다 작습니다.')\n",
        "\n",
        "if 10 <=a < 20:\n",
        "    print('10보다 크고 20보다 작습니다.')\n"
      ],
      "metadata": {
        "colab": {
          "base_uri": "https://localhost:8080/"
        },
        "id": "GRJdi2GxYBTC",
        "outputId": "b6299ff5-df64-4b09-a7a1-fc39b8d510cc"
      },
      "execution_count": 30,
      "outputs": [
        {
          "output_type": "stream",
          "name": "stdout",
          "text": [
            "동일합니다.\n",
            "동일합니다.\n",
            "10보다 크고 20보다 작습니다.\n",
            "10보다 크고 20보다 작습니다.\n"
          ]
        }
      ]
    },
    {
      "cell_type": "code",
      "source": [
        "#9 elif ~if문\n",
        "\n",
        "맛 = input(\"붕어빵 맛을 골라주세요(팥, 슈크립, 잡채)\")\n",
        "\n",
        "if 맛 == '팥':\n",
        "    print(f\"{맛}을 선택하셨습니다.\")\n",
        "elif 맛 == '슈크림':\n",
        "    print(f\"{맛}을 선택하셨습니다.\")\n",
        "else:\n",
        "    print(f\"{맛}을 선택하셨습니다.\")"
      ],
      "metadata": {
        "colab": {
          "base_uri": "https://localhost:8080/"
        },
        "id": "YdB3RMzpxQUN",
        "outputId": "552bab51-a376-44e9-b09c-bf0630532fe9"
      },
      "execution_count": 32,
      "outputs": [
        {
          "output_type": "stream",
          "name": "stdout",
          "text": [
            "붕어빵 맛을 골라주세요(팥, 슈크립, 잡채)잡채\n",
            "잡채을 선택하셨습니다.\n"
          ]
        }
      ]
    },
    {
      "cell_type": "code",
      "source": [
        "#10 예제로 if문 익혀보기\n",
        "#문제 : 단어 a의 가운데 글자를 반환하는 코드\n",
        "#조건 : 단어의 길이가 짝수라면 가운데 두글자를 출력하면 됩니다.\n",
        "\n",
        "#입력값1 : \"abcde\"\n",
        "#입력값2 : \"qwer\"\n",
        "\n",
        "a = input(\"\")\n",
        "\n",
        "b = int(len(a) / 2) # 난이거 놓쳤어\n",
        "\n",
        "# 코드를 작성해주세요.\n",
        "\n",
        "if len(a)%2 != 0:\n",
        "    print(a[b])\n",
        "else:\n",
        "    print(a[b-1 : b+1])\n"
      ],
      "metadata": {
        "colab": {
          "base_uri": "https://localhost:8080/"
        },
        "id": "zutfV1t4xtGN",
        "outputId": "6157728d-8890-4d94-e4f7-6b98de6c7298"
      },
      "execution_count": 40,
      "outputs": [
        {
          "output_type": "stream",
          "name": "stdout",
          "text": [
            "qwer\n",
            "we\n"
          ]
        }
      ]
    },
    {
      "cell_type": "code",
      "source": [],
      "metadata": {
        "id": "Oo30SxoVzX-9"
      },
      "execution_count": null,
      "outputs": []
    }
  ]
}