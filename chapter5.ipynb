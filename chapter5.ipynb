{
  "nbformat": 4,
  "nbformat_minor": 0,
  "metadata": {
    "colab": {
      "provenance": [],
      "authorship_tag": "ABX9TyO4yudRcAUbiUIjabZOtfTE",
      "include_colab_link": true
    },
    "kernelspec": {
      "name": "python3",
      "display_name": "Python 3"
    },
    "language_info": {
      "name": "python"
    }
  },
  "cells": [
    {
      "cell_type": "markdown",
      "metadata": {
        "id": "view-in-github",
        "colab_type": "text"
      },
      "source": [
        "<a href=\"https://colab.research.google.com/github/kdu0312/education/blob/python/chapter5.ipynb\" target=\"_parent\"><img src=\"https://colab.research.google.com/assets/colab-badge.svg\" alt=\"Open In Colab\"/></a>"
      ]
    },
    {
      "cell_type": "code",
      "execution_count": 3,
      "metadata": {
        "colab": {
          "base_uri": "https://localhost:8080/"
        },
        "id": "YskNyRaft4Vn",
        "outputId": "c303f922-3530-43df-ba83-bed5d06f688a"
      },
      "outputs": [
        {
          "output_type": "stream",
          "name": "stdout",
          "text": [
            "5강\n"
          ]
        }
      ],
      "source": [
        "print(\"5강\")"
      ]
    },
    {
      "cell_type": "code",
      "source": [
        "divmod(3,2)"
      ],
      "metadata": {
        "colab": {
          "base_uri": "https://localhost:8080/"
        },
        "id": "pQTQ_3D-t-ya",
        "outputId": "ad06374b-4e46-442b-a874-1d7b810f34c9"
      },
      "execution_count": 6,
      "outputs": [
        {
          "output_type": "execute_result",
          "data": {
            "text/plain": [
              "(1, 1)"
            ]
          },
          "metadata": {},
          "execution_count": 6
        }
      ]
    },
    {
      "cell_type": "markdown",
      "source": [
        "아이스아메리카노 5000원 / 아샷추 6500원\n",
        "아아2잔, 아샷추 3잔"
      ],
      "metadata": {
        "id": "l5YwlAYmu2PG"
      }
    },
    {
      "cell_type": "code",
      "source": [
        "5000*2+6500*3"
      ],
      "metadata": {
        "colab": {
          "base_uri": "https://localhost:8080/"
        },
        "id": "MCHQ8b0KuxYf",
        "outputId": "658fe923-f5cc-40f7-ad28-4c033ef1075d"
      },
      "execution_count": 7,
      "outputs": [
        {
          "output_type": "execute_result",
          "data": {
            "text/plain": [
              "29500"
            ]
          },
          "metadata": {},
          "execution_count": 7
        }
      ]
    },
    {
      "cell_type": "markdown",
      "source": [
        "###변수란? (기본중에 기본, 일일이 다칠래? 상황에따른 변화값을 대응하기 위해서 변수값 정리 --> 항상 상단에 두고 한번에 정리하기 편하게 하기)"
      ],
      "metadata": {
        "id": "a8rUjHUKvZ8G"
      }
    },
    {
      "cell_type": "code",
      "source": [
        "coffee_1 = input\n",
        "coffee_2"
      ],
      "metadata": {
        "id": "qq6Z8rIUvC2W"
      },
      "execution_count": null,
      "outputs": []
    }
  ]
}