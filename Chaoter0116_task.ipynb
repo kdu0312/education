{
  "cells": [
    {
      "cell_type": "markdown",
      "metadata": {
        "id": "view-in-github",
        "colab_type": "text"
      },
      "source": [
        "<a href=\"https://colab.research.google.com/github/kdu0312/education/blob/main/Chaoter0116_task.ipynb\" target=\"_parent\"><img src=\"https://colab.research.google.com/assets/colab-badge.svg\" alt=\"Open In Colab\"/></a>"
      ]
    },
    {
      "cell_type": "markdown",
      "metadata": {
        "id": "BX7SgOeWu86I"
      },
      "source": [
        "안녕하세요. 수강생 여러분~!\n",
        "\n",
        "다시 돌아온 조금 더 성장할 기 ! 회 !\n",
        "\n",
        "Chapter01 ~ 16의 수업 내용을 바탕으로 아래 문제를 풀어주시면 됩니다 !\n",
        "\n",
        "지금까지 잘 해오셨으니까, 총 복습한다고 생각하시고 한번 도전해보세요 !!!\n",
        "\n",
        "차근 차근 문제와 요구사항을 읽고 작성해보세요.\n",
        "\n",
        "<br>\n",
        "\n",
        "\n",
        "[**답변 입력 방법**]\n",
        "\n",
        "문제 아래에 있는 코드 입력창에 정답코드를 작성하신 후  __▷ 버튼을 클릭해 코드를 실행__ 해보세요<br>"
      ]
    },
    {
      "cell_type": "markdown",
      "metadata": {
        "id": "jq1JYhXaguBm"
      },
      "source": [
        "---"
      ]
    },
    {
      "cell_type": "markdown",
      "metadata": {
        "id": "E-LRmtFKguBn"
      },
      "source": [
        "#### 프로젝트: 붕어빵 자동 판매 시스템\n",
        "\n",
        "\n",
        "당신은 붕어빵 가게의 주인입니다.\n",
        "\n",
        "손님들이 붕어빵을 주문하면 이를 자동으로 처리하고, 재고를 관리하는 시스템을 만들고자 합니다.\n",
        "\n",
        "또한, 관리자 모드를 통해 재고를 추가할 수 있는 기능을 구현해야 합니다.\n"
      ]
    },
    {
      "cell_type": "markdown",
      "metadata": {
        "id": "-bhoG54FguBn"
      },
      "source": [
        "__[문제 1: 붕어빵 재고 확인]__\n",
        "\n",
        "붕어빵 가게의 현재 재고를 확인하는 기능을 구현하세요.\n",
        "\n",
        "요구사항:\n",
        "- 현재 붕어빵의 재고를 딕셔너리로 관리합니다.\n",
        "- 딕셔너리에는 붕어빵의 종류와 각각의 재고 개수가 저장됩니다.\n",
        "- 현재 재고를 화면에 출력하세요.\n",
        "\n",
        "붕어빵 재고\n",
        "- 팥붕어빵 : 10개\n",
        "- 슈크림붕어빵 : 8개\n",
        "- 초코붕어빵 : 5개"
      ]
    },
    {
      "cell_type": "code",
      "execution_count": 1,
      "metadata": {
        "colab": {
          "base_uri": "https://localhost:8080/"
        },
        "id": "5QINiyemguBo",
        "outputId": "a6f0c70a-68db-41f9-b934-6350da16d8a7"
      },
      "outputs": [
        {
          "output_type": "stream",
          "name": "stdout",
          "text": [
            "현재 붕어빵 재고 : 팥붕어빵 : 10개\n",
            "현재 붕어빵 재고 : 슈크림붕어빵 : 8개\n",
            "현재 붕어빵 재고 : 초코붕어빵 : 5개\n"
          ]
        }
      ],
      "source": [
        "inventory = {\n",
        "    \"팥붕어빵\": 10,\n",
        "    \"슈크림붕어빵\": 8,\n",
        "    \"초코붕어빵\": 5\n",
        "}\n",
        "\n",
        "for i, j in inventory.items():\n",
        "    print(f\"현재 붕어빵 재고 : {i} : {j}개\")"
      ]
    },
    {
      "cell_type": "markdown",
      "metadata": {
        "id": "X9ldX-dlguBo"
      },
      "source": [
        "__[문제 2: 붕어빵 주문 받기]__\n",
        "\n",
        "손님이 주문한 붕어빵의 종류와 개수를 입력받는 기능을 구현하세요.\n",
        "\n",
        "요구사항:\n",
        "- 손님이 주문할 붕어빵의 종류와 개수를 입력받습니다.\n",
        "- 주문 내용을 딕셔너리에 저장하세요.\n",
        "- 주문 내역을 출력해주세요."
      ]
    },
    {
      "cell_type": "code",
      "execution_count": 3,
      "metadata": {
        "colab": {
          "base_uri": "https://localhost:8080/"
        },
        "id": "btrxsW9hguBo",
        "outputId": "a9c3905a-6ffb-4e17-b088-1034fa8480cc"
      },
      "outputs": [
        {
          "output_type": "stream",
          "name": "stdout",
          "text": [
            "주문할 붕어빵의 종류를 입력해주세요 : 팥붕어빵\n",
            "주문할 붕어빵의 개수를 입력해주세요 : 12\n",
            "주문내역 : {'팥붕어빵': 12}\n"
          ]
        }
      ],
      "source": [
        "user_order_type = input(\"주문할 붕어빵의 종류를 입력해주세요 : \")\n",
        "user_order_quantity = int(input(\"주문할 붕어빵의 개수를 입력해주세요 : \"))\n",
        "\n",
        "user_order = {\n",
        "    user_order_type : user_order_quantity\n",
        "}\n",
        "\n",
        "print(f\"주문내역 : {user_order}\")"
      ]
    },
    {
      "cell_type": "markdown",
      "metadata": {
        "id": "IS10IhNTguBp"
      },
      "source": [
        "__[문제 3: 붕어빵 주문 처리]__\n",
        "\n",
        "손님의 주문을 처리하여 붕어빵 재고를 업데이트하는 기능을 구현하세요.\n",
        "\n",
        "요구사항:\n",
        "- 손님의 주문 내용을 기반으로 재고를 업데이트합니다.\n",
        "- 재고가 부족할 경우, 손님에게 재고 부족을 알리고 재고를 감소시키지 않습니다.\n",
        "- 재고가 충분할 경우, 주문한 만큼 재고를 감소시키고 판매를 완료합니다.\n",
        "- 판매가 완료된 경우 판매된 붕어빵 맛과 개수를 출력하세요."
      ]
    },
    {
      "cell_type": "code",
      "execution_count": 13,
      "metadata": {
        "colab": {
          "base_uri": "https://localhost:8080/"
        },
        "id": "vGNNjioTguBp",
        "outputId": "ad267880-5fcd-4c97-b565-4b588ca7263a"
      },
      "outputs": [
        {
          "output_type": "stream",
          "name": "stdout",
          "text": [
            "현재 재고{'팥붕어빵': 10, '슈크림붕어빵': 8, '초코붕어빵': 5}\n",
            "주문할 붕어빵의 종류를 입력해주세요 : 초코붕어빵\n",
            "주문할 붕어빵의 개수를 입력해주세요 : 3\n",
            "주문내역 : {'초코붕어빵': 3}\n",
            "현재 재고{'팥붕어빵': 10, '슈크림붕어빵': 8, '초코붕어빵': 2}\n"
          ]
        }
      ],
      "source": [
        "inventory = {\n",
        "    \"팥붕어빵\": 10,\n",
        "    \"슈크림붕어빵\": 8,\n",
        "    \"초코붕어빵\": 5\n",
        "}\n",
        "\n",
        "print(f\"현재 재고{inventory}\")\n",
        "\n",
        "user_order_type = input(\"주문할 붕어빵의 종류를 입력해주세요 : \")\n",
        "user_order_quantity = int(input(\"주문할 붕어빵의 개수를 입력해주세요 : \"))\n",
        "\n",
        "user_order = {\n",
        "    user_order_type : user_order_quantity\n",
        "}\n",
        "\n",
        "if user_order_type in inventory:\n",
        "    if user_order_quantity <= inventory[user_order_type]:\n",
        "        inventory[user_order_type] -= user_order_quantity\n",
        "        print(f\"주문내역 : {user_order}\")\n",
        "    else:\n",
        "        print(\"재고가 부족합니다.\")\n",
        "else:\n",
        "    print(\"존재하지 않는 붕어빵입니다.\")\n",
        "\n",
        "print(f\"현재 재고{inventory}\")"
      ]
    },
    {
      "cell_type": "markdown",
      "metadata": {
        "id": "SeJ6XS6TguBq"
      },
      "source": [
        "__[문제 4: 여러 손님 주문 처리]__\n",
        "\n",
        "여러 손님들의 주문을 처리할 수 있도록 시스템을 확장하세요.\n",
        "\n",
        "요구사항:\n",
        "- 손님이 \"종료\"를 입력할 때까지 주문을 계속 받습니다.\n",
        "- 각 주문마다 재고를 업데이트합니다.\n",
        "- 현재 재고를 화면에 출력합니다."
      ]
    },
    {
      "cell_type": "code",
      "execution_count": 17,
      "metadata": {
        "colab": {
          "base_uri": "https://localhost:8080/"
        },
        "id": "XKcc8lXqguBq",
        "outputId": "e4af3f21-4255-4dac-8993-83fd86b982cd"
      },
      "outputs": [
        {
          "output_type": "stream",
          "name": "stdout",
          "text": [
            "현재 재고{'팥붕어빵': 10, '슈크림붕어빵': 8, '초코붕어빵': 5}\n",
            "주문할 붕어빵의 종류를 입력해주세요 : (종료하시려면 '종료'를 입력해주세요) 종료\n",
            "종료합니다.\n"
          ]
        }
      ],
      "source": [
        "inventory = {\n",
        "    \"팥붕어빵\": 10,\n",
        "    \"슈크림붕어빵\": 8,\n",
        "    \"초코붕어빵\": 5\n",
        "}\n",
        "\n",
        "print(f\"현재 재고{inventory}\")\n",
        "\n",
        "while True:\n",
        "    user_order_type = input(\"주문할 붕어빵의 종류를 입력해주세요 : (종료하시려면 '종료'를 입력해주세요) \")\n",
        "\n",
        "    if user_order_type == \"종료\":\n",
        "        print(\"종료합니다.\")\n",
        "        break\n",
        "\n",
        "    if user_order_type not in inventory:\n",
        "        print(\"존재하지않는 종류입니다.\")\n",
        "        continue\n",
        "\n",
        "    try:\n",
        "        user_order_quantity = int(input(\"주문할 붕어빵의 개수를 입력해주세요 : \"))\n",
        "\n",
        "    except ValueError:\n",
        "        print(\"숫자를 입력해주세요.\")\n",
        "        continue\n",
        "\n",
        "    user_order = {\n",
        "        user_order_type : user_order_quantity\n",
        "        }\n",
        "\n",
        "    if user_order_type in inventory:\n",
        "        if user_order_quantity <= inventory[user_order_type]:\n",
        "            inventory[user_order_type] -= user_order_quantity\n",
        "            print(f\"주문내역 : {user_order}\")\n",
        "            print(f\"현재 재고{inventory}\")\n",
        "        else:\n",
        "            print(\"재고가 부족합니다.\")\n",
        "\n",
        "\n"
      ]
    },
    {
      "cell_type": "markdown",
      "metadata": {
        "id": "Z5b6eSF_guBq"
      },
      "source": [
        "__[문제 5: 관리자 모드]__\n",
        "\n",
        "관리자 모드를 통해 붕어빵 재고를 추가할 수 있는 기능을 구현하세요.\n",
        "\n",
        "요구사항:\n",
        "- 관리자는 특정 붕어빵의 재고를 추가할 수 있습니다.\n",
        "- \"종료\"를 입력하면 관리자 모드를 종료합니다.\n",
        "- 추가된 재고를 업데이트하고 현재 재고를 화면에 출력합니다."
      ]
    },
    {
      "cell_type": "code",
      "execution_count": null,
      "metadata": {
        "id": "2L2QBYwQguBr"
      },
      "outputs": [],
      "source": [
        "# 판매 코딩에 관리자 모드 추가를 하고싶은데......\n",
        "inventory = {\n",
        "    \"팥붕어빵\": 10,\n",
        "    \"슈크림붕어빵\": 8,\n",
        "    \"초코붕어빵\": 5\n",
        "}\n",
        "admin_pw = \"1234\"\n",
        "mode_admin = \"관리자\"\n",
        "mode_seller = \"고객\"\n",
        "\n",
        "print(f\"현재 재고{inventory}\")\n",
        "\n",
        "mode = input(\"원하시는 모드는 선택해 주세요('관리자', '고객') :\")\n",
        "\n",
        "if mode == \"관리자\"\n",
        "    pw = input(\"관리자 모드입니다. 비밀번호를 입력해주세요 : \")\n",
        "    if pw == admin_pw:\n",
        "        print(\"관리자 모드입니다.\")\n",
        "        while true:\n",
        "            admin_order_type = input(\"추가할 붕어빵의 종류를 입력해주세요 : (종료하시려면 '종료'를 입력해주세요) \")\n",
        "            if admin_order_type == \"종료\":\n",
        "                print(\"종료합니다.\")\n",
        "                break\n",
        "\n",
        "            if admin_order_type not in inventory:\n",
        "                print(\"존재하지않는 종류입니다.\")\n",
        "                continue\n",
        "\n",
        "            try:\n",
        "                admin_order_quantity = int(input(\"추가할 붕어빵의 개수를 입력해주세요 : \"))\n",
        "\n",
        "            except ValueError:\n",
        "                 print(\"숫자를 입력해주세요.\")\n",
        "                 continue\n",
        "\n",
        "    admin_order = {\n",
        "        admin_order_type : admin_order_quantity\n",
        "        }\n",
        "\n",
        "    if admin_order_type in inventory:\n",
        "        if admin_order_quantity += inventory[admin_order_type]:\n",
        "            inventory[admin_order_type] += admin_order_quantity\n",
        "            print(f\"추가내역 : {admin_order}\")\n",
        "            print(f\"현재 재고{inventory}\")\n",
        "        else:\n",
        "            print(\"재고가 부족합니다.\")\n",
        "\n",
        "\n",
        "while True:\n",
        "    user_order_type = input(\"주문할 붕어빵의 종류를 입력해주세요 : (종료하시려면 '종료'를 입력해주세요) \")\n",
        "\n",
        "    if user_order_type == \"종료\":\n",
        "        print(\"종료합니다.\")\n",
        "        break\n",
        "\n",
        "    if user_order_type not in inventory:\n",
        "        print(\"존재하지않는 종류입니다.\")\n",
        "        continue\n",
        "\n",
        "    try:\n",
        "        user_order_quantity = int(input(\"주문할 붕어빵의 개수를 입력해주세요 : \"))\n",
        "\n",
        "    except ValueError:\n",
        "        print(\"숫자를 입력해주세요.\")\n",
        "        continue\n",
        "\n",
        "    user_order = {\n",
        "        user_order_type : user_order_quantity\n",
        "        }\n",
        "\n",
        "    if user_order_type in inventory:\n",
        "        if user_order_quantity <= inventory[user_order_type]:\n",
        "            inventory[user_order_type] -= user_order_quantity\n",
        "            print(f\"주문내역 : {user_order}\")\n",
        "            print(f\"현재 재고{inventory}\")\n",
        "        else:\n",
        "            print(\"재고가 부족합니다.\")\n",
        "\n",
        "\n"
      ]
    },
    {
      "cell_type": "code",
      "source": [
        "# 판매 코딩에 관리자 모드 추가를 하고싶은데......\n",
        "inventory = {\n",
        "    \"팥붕어빵\": 10,\n",
        "    \"슈크림붕어빵\": 8,\n",
        "    \"초코붕어빵\": 5\n",
        "}\n",
        "admin_pw = \"1234\"\n",
        "mode_admin = \"관리자\"\n",
        "mode_seller = \"고객\"\n",
        "\n",
        "##재고 확인용(지워도됨)\n",
        "print(f\"현재 재고{inventory}\")\n",
        "\n",
        "## 모드 선택\n",
        "mode = input(\"원하시는 모드는 선택해 주세요('관리자', '고객') :\")\n",
        "\n",
        "\n",
        "## 관리자 모드\n",
        "if mode == \"관리자\":\n",
        "    pw = input(\"관리자 모드입니다. 비밀번호를 입력해주세요 : \")\n",
        "## 관리자 비밀번호 입력 성공 시\n",
        "    if pw == admin_pw:\n",
        "        print(\"관리자 모드입니다.\")\n",
        "        while True:\n",
        "            admin_order_type = input(\"추가할 붕어빵의 종류를 입력해주세요 : (종료하시려면 '종료'를 입력해주세요) \")\n",
        "            if admin_order_type == \"종료\":\n",
        "                print(\"종료합니다.\")\n",
        "                break\n",
        "\n",
        "            if admin_order_type not in inventory:\n",
        "                print(\"존재하지않는 종류입니다.\")\n",
        "                continue\n",
        "\n",
        "            try:\n",
        "                admin_order_quantity = int(input(\"추가할 붕어빵의 개수를 입력해주세요 : \"))\n",
        "\n",
        "            except ValueError:\n",
        "                 print(\"숫자를 입력해주세요.\")\n",
        "                 continue\n",
        "\n",
        "            admin_order = {\n",
        "                admin_order_type : admin_order_quantity\n",
        "                }\n",
        "\n",
        "            inventory[admin_order_type] += admin_order_quantity\n",
        "                print(f\"추가내역 : {admin_order}\")\n",
        "                print(f\"현재 재고{inventory}\")\n",
        "\n",
        "            else:\n",
        "                print(\"재고가 부족합니다.\")\n",
        "\n",
        "    else:\n",
        "        print(\"비밀번호를 다시입력해주세요.\")\n"
      ],
      "metadata": {
        "colab": {
          "base_uri": "https://localhost:8080/",
          "height": 106
        },
        "id": "QM1DtIrFwvRS",
        "outputId": "adffc090-ce62-41fb-c18d-61ea2906857d"
      },
      "execution_count": 32,
      "outputs": [
        {
          "output_type": "error",
          "ename": "IndentationError",
          "evalue": "unexpected indent (<ipython-input-32-2bb94caa6337>, line 46)",
          "traceback": [
            "\u001b[0;36m  File \u001b[0;32m\"<ipython-input-32-2bb94caa6337>\"\u001b[0;36m, line \u001b[0;32m46\u001b[0m\n\u001b[0;31m    print(f\"추가내역 : {admin_order}\")\u001b[0m\n\u001b[0m    ^\u001b[0m\n\u001b[0;31mIndentationError\u001b[0m\u001b[0;31m:\u001b[0m unexpected indent\n"
          ]
        }
      ]
    },
    {
      "cell_type": "markdown",
      "metadata": {
        "id": "s-ugWJGBguBr"
      },
      "source": [
        "__[문제 6: 매출 확인]__\n",
        "\n",
        "붕어빵 판매 가격을 설정하고, 판매한 붕어빵의 매출을 계산하세요.\n",
        "\n",
        "요구사항:\n",
        "- 각 붕어빵의 가격을 딕셔너리로 관리합니다.\n",
        "- 판매된 붕어빵의 종류와 개수를 딕셔너리로 관리합니다.\n",
        "- 총 매출을 계산하여 출력합니다.\n",
        "\n",
        "초기 설정:\n",
        "- 가격\n",
        "    - \"팥붕어빵\": 1000\n",
        "    - \"슈크림붕어빵\": 1200\n",
        "    - \"초코붕어빵\": 1500\n",
        "\n",
        "- 판매 개수\n",
        "    - \"팥붕어빵\": 0\n",
        "    - \"슈크림붕어빵\": 0\n",
        "    - \"초코붕어빵\": 0"
      ]
    },
    {
      "cell_type": "code",
      "execution_count": null,
      "metadata": {
        "id": "vox3isvFguBs"
      },
      "outputs": [],
      "source": []
    }
  ],
  "metadata": {
    "colab": {
      "provenance": [],
      "include_colab_link": true
    },
    "kernelspec": {
      "display_name": "Python 3",
      "name": "python3"
    },
    "language_info": {
      "codemirror_mode": {
        "name": "ipython",
        "version": 3
      },
      "file_extension": ".py",
      "mimetype": "text/x-python",
      "name": "python",
      "nbconvert_exporter": "python",
      "pygments_lexer": "ipython3",
      "version": "3.11.7"
    }
  },
  "nbformat": 4,
  "nbformat_minor": 0
}