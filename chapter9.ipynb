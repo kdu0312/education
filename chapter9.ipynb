{
  "nbformat": 4,
  "nbformat_minor": 0,
  "metadata": {
    "colab": {
      "provenance": [],
      "authorship_tag": "ABX9TyOXiib/D1AKvObd066niwiz",
      "include_colab_link": true
    },
    "kernelspec": {
      "name": "python3",
      "display_name": "Python 3"
    },
    "language_info": {
      "name": "python"
    }
  },
  "cells": [
    {
      "cell_type": "markdown",
      "metadata": {
        "id": "view-in-github",
        "colab_type": "text"
      },
      "source": [
        "<a href=\"https://colab.research.google.com/github/kdu0312/education/blob/python/chapter9.ipynb\" target=\"_parent\"><img src=\"https://colab.research.google.com/assets/colab-badge.svg\" alt=\"Open In Colab\"/></a>"
      ]
    },
    {
      "cell_type": "markdown",
      "source": [
        "## 입력과 출력\n",
        "\n",
        "입력 : input()\n",
        "출력 : print()\n",
        "\n",
        "#### 함수와 메서드\n",
        "\n",
        ">함수 : 어디에 속해있지 않고 단독 모듈이라 함수를 그냥 호출하여 사용이 가능합니다.\n",
        "\n",
        "예) print(), input()\n",
        "https://docs.python.org/ko/3/library/fuctions.html\n",
        "\n",
        ">메소드 : 함수의 클래스 안에 속해 있고 클래스의 맴버 변수들을 이용해서 구현괸 것\n",
        "\n",
        "예) 까먹으신건가요?.count(\"까\") / \"까먹으신건가요?\".index(\"까\")\n",
        "\n",
        "\n"
      ],
      "metadata": {
        "id": "WybXl9mhuKhN"
      }
    },
    {
      "cell_type": "code",
      "execution_count": 2,
      "metadata": {
        "colab": {
          "base_uri": "https://localhost:8080/"
        },
        "id": "ygBDduEjt5cq",
        "outputId": "2901ade5-541f-4e9b-a29f-f032b4a6310a"
      },
      "outputs": [
        {
          "output_type": "execute_result",
          "data": {
            "text/plain": [
              "1"
            ]
          },
          "metadata": {},
          "execution_count": 2
        }
      ],
      "source": [
        "\"까먹으신건가요?\".count(\"까\")\n"
      ]
    },
    {
      "cell_type": "code",
      "source": [
        "\"까먹으신건가요?\".index(\"까\")"
      ],
      "metadata": {
        "colab": {
          "base_uri": "https://localhost:8080/"
        },
        "id": "XxQnKkkwvdOP",
        "outputId": "09cbb9ad-1202-40dd-f74c-34acdbdc7c3b"
      },
      "execution_count": 4,
      "outputs": [
        {
          "output_type": "execute_result",
          "data": {
            "text/plain": [
              "0"
            ]
          },
          "metadata": {},
          "execution_count": 4
        }
      ]
    },
    {
      "cell_type": "code",
      "source": [
        "숫자, 문자 = 5, '5'\n",
        "\n",
        "print(숫자, 문자)"
      ],
      "metadata": {
        "colab": {
          "base_uri": "https://localhost:8080/"
        },
        "id": "Tg_UGRs8vhLm",
        "outputId": "ad391cf5-6324-4e00-9824-1e6e25d9b1ff"
      },
      "execution_count": 5,
      "outputs": [
        {
          "output_type": "stream",
          "name": "stdout",
          "text": [
            "5 5\n"
          ]
        }
      ]
    },
    {
      "cell_type": "code",
      "source": [
        "인사 = input()\n",
        "print(인사+\"나도 신기해\")"
      ],
      "metadata": {
        "colab": {
          "base_uri": "https://localhost:8080/"
        },
        "id": "E0gdTwI-vnuH",
        "outputId": "54efbbd9-de44-49f2-eada-1de470ca3663"
      },
      "execution_count": 9,
      "outputs": [
        {
          "output_type": "stream",
          "name": "stdout",
          "text": [
            "하이\n",
            "하이나도 신기해\n"
          ]
        }
      ]
    },
    {
      "cell_type": "code",
      "source": [
        "인사 = input(\"(우리학교최고 존잘남)아....안녕\") #input 들어온값은 문자열로 인식됨\n",
        "print(인사 + \" 눈부시게\")"
      ],
      "metadata": {
        "colab": {
          "base_uri": "https://localhost:8080/"
        },
        "id": "cz_jUXYRv-pn",
        "outputId": "86ebbf40-5243-476b-b748-a47459712a1d"
      },
      "execution_count": 12,
      "outputs": [
        {
          "output_type": "stream",
          "name": "stdout",
          "text": [
            "(우리학교최고 존잘남)아....안녕 뭘봐\n",
            " 뭘봐 눈부시게\n"
          ]
        }
      ]
    },
    {
      "cell_type": "code",
      "source": [
        "# int(), float(), str(), bool()\n",
        "\n",
        "정수 = input()\n",
        "정수 = int(정수)\n",
        "\n",
        "print(정수, type(정수))\n",
        "\n",
        "실수 = input()\n",
        "실수 = float(실수)\n",
        "\n",
        "print(실수, type(실수))"
      ],
      "metadata": {
        "colab": {
          "base_uri": "https://localhost:8080/"
        },
        "id": "6Fy8zukIwhvo",
        "outputId": "761f0c08-75a4-4f02-eae2-b73f160395a2"
      },
      "execution_count": 19,
      "outputs": [
        {
          "output_type": "stream",
          "name": "stdout",
          "text": [
            "12\n",
            "12 <class 'int'>\n",
            "12\n",
            "12.0 <class 'float'>\n"
          ]
        }
      ]
    },
    {
      "cell_type": "markdown",
      "source": [
        "그 외 입력값의 형변화이 가능한 종류\n",
        "* tuple()\n",
        "* list()\n",
        "* dict()\n",
        "* set()"
      ],
      "metadata": {
        "id": "tkTdIpBtxdJM"
      }
    },
    {
      "cell_type": "code",
      "source": [
        "# 여러개 받을 경우\n",
        "\n",
        "넌센스, 정답 = input().split(\",\")\n",
        "print(f'넌센스 퀴즈: {넌센스}, 정답 : {정답}')"
      ],
      "metadata": {
        "colab": {
          "base_uri": "https://localhost:8080/"
        },
        "id": "cowEiik1w_pX",
        "outputId": "f6e208f3-2794-47ff-a040-795e1201dac4"
      },
      "execution_count": 21,
      "outputs": [
        {
          "output_type": "stream",
          "name": "stdout",
          "text": [
            "스페인에서 에스파를 만나면?, 에스파냐\n",
            "넌센스 퀴즈: 스페인에서 에스파를 만나면?, 정답 :  에스파냐\n"
          ]
        }
      ]
    },
    {
      "cell_type": "code",
      "source": [
        "#시퀀스 자료형에 다 지원되는 메소드\n",
        "\n",
        "번호1, 번호2, 번호3, 번호4 = input().split(\",\")\n",
        "\n",
        "번호1 = int(번호1)\n",
        "번호2 = int(번호2)\n",
        "번호3 = int(번호3)\n",
        "번호4 = int(번호4)\n",
        "\n",
        "print(번호1, 번호2, 번호3, 번호4)\n",
        "print(type(번호1), type(번호2), type(번호3), type(번호4))"
      ],
      "metadata": {
        "colab": {
          "base_uri": "https://localhost:8080/"
        },
        "id": "mclv7YLKyOvH",
        "outputId": "396b1b7f-c3be-4821-b4d1-df2c811b6607"
      },
      "execution_count": 23,
      "outputs": [
        {
          "output_type": "stream",
          "name": "stdout",
          "text": [
            "1,2,3,4\n",
            "1 2 3 4\n",
            "<class 'int'> <class 'int'> <class 'int'> <class 'int'>\n"
          ]
        }
      ]
    },
    {
      "cell_type": "code",
      "source": [
        "#map()\n",
        "번호1, 번호2, 번호3, 번호4 = map(int, input().split(\",\"))\n",
        "\n",
        "print(번호1, 번호2, 번호3, 번호4)\n",
        "print(type(번호1), type(번호2), type(번호3), type(번호4))"
      ],
      "metadata": {
        "colab": {
          "base_uri": "https://localhost:8080/"
        },
        "id": "MnmuzrP3zWNj",
        "outputId": "5398864d-620b-4055-f472-4b70d6c5d012"
      },
      "execution_count": 30,
      "outputs": [
        {
          "output_type": "stream",
          "name": "stdout",
          "text": [
            "1,2,3,4\n",
            "1 2 3 4\n",
            "<class 'int'> <class 'int'> <class 'int'> <class 'int'>\n"
          ]
        }
      ]
    },
    {
      "cell_type": "code",
      "source": [
        "# 레거시 코드 : 누군가 남겨두고간 코드\n",
        "# 프로그래밍 하는 사람들이 힘들어하는거 (주석도 없고 문법도 마음대로일 경우 보통 다시 짬)\n",
        "# 리팩토링 : 결과의 변경 없이 코드의 구조를 재조정하는 것 입니다. --> 리마인드, 리뷰 ==> 매번 발표회 했던거, 아주 중요\n",
        "# input()으로도 훌룡하게 리팩토링 가능함\n",
        "\n",
        "#fish_p, fish_s, fish_j = \"붕어빵(팥)\", \"붕어빵(슈크림)\", \"붕어빵(잡체)\"\n",
        "fish_p, fish_s, fish_j = input(\"붕어빵(팥), 붕어빵(슈크림), 붕어빵(잡체)룰 순서대로 개수를 입력하고 꼭 쉼표를 입력하고 그리고 안사는 붕어빵에는 0을 넣어주세요\")\n",
        "\n",
        "fish_p = 2000\n",
        "fish_s = 2500\n",
        "fish_j = 3000\n",
        "\n",
        "sum = fish_j*3 + fish_s*2\n",
        "print(f'주문이 완료되었습니다. 붕어빵(슈크림)2개, 붕어빵(잡채) 3개 총 5개 결제금액은 {sum}원입니다.')\n",
        "\n"
      ],
      "metadata": {
        "colab": {
          "base_uri": "https://localhost:8080/",
          "height": 228
        },
        "id": "VlmFTBWBz41H",
        "outputId": "889683c1-a82f-41b9-9861-8f22060604f5"
      },
      "execution_count": 32,
      "outputs": [
        {
          "name": "stdout",
          "output_type": "stream",
          "text": [
            "붕어빵(팥), 붕어빵(슈크림), 붕어빵(잡체)룰 순서대로 개수를 입력하고 꼭 쉼표를 입력하고 그리고 안사는 붕어빵에는 0을 넣어주세요2,3,4\n"
          ]
        },
        {
          "output_type": "error",
          "ename": "ValueError",
          "evalue": "too many values to unpack (expected 3)",
          "traceback": [
            "\u001b[0;31m---------------------------------------------------------------------------\u001b[0m",
            "\u001b[0;31mValueError\u001b[0m                                Traceback (most recent call last)",
            "\u001b[0;32m<ipython-input-32-b86f2b1997db>\u001b[0m in \u001b[0;36m<cell line: 0>\u001b[0;34m()\u001b[0m\n\u001b[1;32m      5\u001b[0m \u001b[0;34m\u001b[0m\u001b[0m\n\u001b[1;32m      6\u001b[0m \u001b[0;31m#fish_p, fish_s, fish_j = \"붕어빵(팥)\", \"붕어빵(슈크림)\", \"붕어빵(잡체)\"\u001b[0m\u001b[0;34m\u001b[0m\u001b[0;34m\u001b[0m\u001b[0m\n\u001b[0;32m----> 7\u001b[0;31m \u001b[0mfish_p\u001b[0m\u001b[0;34m,\u001b[0m \u001b[0mfish_s\u001b[0m\u001b[0;34m,\u001b[0m \u001b[0mfish_j\u001b[0m \u001b[0;34m=\u001b[0m \u001b[0minput\u001b[0m\u001b[0;34m(\u001b[0m\u001b[0;34m\"붕어빵(팥), 붕어빵(슈크림), 붕어빵(잡체)룰 순서대로 개수를 입력하고 꼭 쉼표를 입력하고 그리고 안사는 붕어빵에는 0을 넣어주세요\"\u001b[0m\u001b[0;34m)\u001b[0m\u001b[0;34m\u001b[0m\u001b[0;34m\u001b[0m\u001b[0m\n\u001b[0m\u001b[1;32m      8\u001b[0m \u001b[0;34m\u001b[0m\u001b[0m\n\u001b[1;32m      9\u001b[0m \u001b[0mfish_p\u001b[0m \u001b[0;34m=\u001b[0m \u001b[0;36m2000\u001b[0m\u001b[0;34m\u001b[0m\u001b[0;34m\u001b[0m\u001b[0m\n",
            "\u001b[0;31mValueError\u001b[0m: too many values to unpack (expected 3)"
          ]
        }
      ]
    },
    {
      "cell_type": "code",
      "source": [
        "print(\"초코침\", '민트', '샷추가', '휘핑크림')\n",
        "print(\"초코침\", '민트', '샷추가', '휘핑크림', sep='/')\n",
        "print(\"초코침\", '민트', '샷추가', '휘핑크림', sep=':')\n",
        "print(\"초코침\", '민트', '샷추가', '휘핑크림', sep='\\n')"
      ],
      "metadata": {
        "colab": {
          "base_uri": "https://localhost:8080/"
        },
        "id": "lnM481w22J0_",
        "outputId": "7e2f5345-63a4-454c-c11a-e0947cde128f"
      },
      "execution_count": 34,
      "outputs": [
        {
          "output_type": "stream",
          "name": "stdout",
          "text": [
            "초코침 민트 샷추가 휘핑크림\n",
            "초코침/민트/샷추가/휘핑크림\n",
            "초코침:민트:샷추가:휘핑크림\n",
            "초코침\n",
            "민트\n",
            "샷추가\n",
            "휘핑크림\n"
          ]
        }
      ]
    },
    {
      "cell_type": "code",
      "source": [
        "print(\"초코침\", '민트', '샷추가', '휘핑크림', end='')\n",
        "print(\"초코침\", '민트', '샷추가', '휘핑크림', end='')\n",
        "print(\"초코침\", '민트', '샷추가', '휘핑크림', end='')\n"
      ],
      "metadata": {
        "colab": {
          "base_uri": "https://localhost:8080/"
        },
        "id": "n5kjm_uw2mcH",
        "outputId": "cf182d8b-d02d-4256-fd8d-98d93540e13b"
      },
      "execution_count": 35,
      "outputs": [
        {
          "output_type": "stream",
          "name": "stdout",
          "text": [
            "초코침 민트 샷추가 휘핑크림초코침 민트 샷추가 휘핑크림초코침 민트 샷추가 휘핑크림"
          ]
        }
      ]
    }
  ]
}