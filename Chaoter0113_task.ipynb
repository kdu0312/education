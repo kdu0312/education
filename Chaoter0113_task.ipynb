{
  "cells": [
    {
      "cell_type": "markdown",
      "metadata": {
        "id": "view-in-github",
        "colab_type": "text"
      },
      "source": [
        "<a href=\"https://colab.research.google.com/github/kdu0312/education/blob/python/Chaoter0113_task.ipynb\" target=\"_parent\"><img src=\"https://colab.research.google.com/assets/colab-badge.svg\" alt=\"Open In Colab\"/></a>"
      ]
    },
    {
      "cell_type": "markdown",
      "metadata": {
        "id": "fD4Qab2qYgOm"
      },
      "source": [
        "안녕하세요. 수강생 여러분~!\n",
        "\n",
        "Chapter01 ~ 13의 수업 내용을 바탕으로 아래 문제를 풀어주시면 됩니다 !\n",
        "\n",
        "지금까지 잘 해오셨으니까, 총 복습한다고 생각하시고 한번 도전해보세요 !!!\n",
        "\n",
        "\n",
        "<br>\n",
        "\n",
        "\n",
        "[**답변 입력 방법**]\n",
        "\n",
        "문제 아래에 있는 코드 입력창에 정답코드를 작성하신 후  __▷ 버튼을 클릭해 코드를 실행__ 해보세요<br>"
      ]
    },
    {
      "cell_type": "markdown",
      "metadata": {
        "id": "LsHEIciLv9et"
      },
      "source": [
        "---"
      ]
    },
    {
      "cell_type": "markdown",
      "metadata": {
        "id": "VcE0gabnv9et"
      },
      "source": [
        "### 프로젝트: 간단한 ATM 관리 시스템\n",
        "<br>\n",
        "\n",
        "__[문제 1: 잔액 확인]__\n",
        "\n",
        "현재 잔액은 1000원입니다. 현재 잔액을 출력하세요.\n",
        "\n",
        "(변수명 예시 : 잔액 - balance)"
      ]
    },
    {
      "cell_type": "code",
      "execution_count": 1,
      "metadata": {
        "colab": {
          "base_uri": "https://localhost:8080/"
        },
        "id": "GdUMHQ6Uv9et",
        "outputId": "b8e7c5fe-7e83-4f4c-8a59-964e2ce34ded"
      },
      "outputs": [
        {
          "output_type": "stream",
          "name": "stdout",
          "text": [
            "현재 잔액은 1000원입니다.\n"
          ]
        }
      ],
      "source": [
        "balance = 1000\n",
        "print(f\"현재 잔액은 {balance}원입니다.\")"
      ]
    },
    {
      "cell_type": "markdown",
      "metadata": {
        "id": "W-ZgraAsv9eu"
      },
      "source": [
        "__[문제 2: 입금]__\n",
        "\n",
        "가지고 있는 돈을 입금합니다.\n",
        "\n",
        "입금 금액을 입력받고, 잔액을 갱신한 후 새로운 잔액을 출력하세요. 입금 거래를 영수증 리스트에 기록하세요.\n",
        "\n",
        "- 입금 금액은 input()을 이용해 받습니다.\n",
        "- 영수증은 list()로 선언합니다.\n",
        "- 영수증에 들어가는 정보는 튜플 형태입니다.\n",
        "- 튜플에 담기는 정보는 (입금 or 출금, 입금 or 출금 금액, 현재 잔액)순 입니다.\n",
        "\n",
        "(변수명 예시: 영수증 리스트 - receipts, 입금 금액 - deposit_amount)\n"
      ]
    },
    {
      "cell_type": "code",
      "execution_count": 7,
      "metadata": {
        "colab": {
          "base_uri": "https://localhost:8080/"
        },
        "id": "-2LNCmhKv9eu",
        "outputId": "f6258f5e-ecb5-475b-8314-af0cc2122e46"
      },
      "outputs": [
        {
          "output_type": "stream",
          "name": "stdout",
          "text": [
            "입금 금액을 입력해주세요: 1200\n",
            "입금이 완료되었습니다. 현재 잔액은 2600원입니다.\n",
            "현재 영수증 목록 : [('입금', 1200, 2600)]\n"
          ]
        }
      ],
      "source": [
        "\\deposit_amount = int(input(\"입금 금액을 입력해주세요: \"))\n",
        "balance += deposit_amount\n",
        "receipts = [(\"입금\", deposit_amount, balance)]\n",
        "\n",
        "print(f\"입금이 완료되었습니다. 현재 잔액은 {balance}원입니다.\")\n",
        "print(f\"현재 영수증 목록 : {receipts}\")\n"
      ]
    },
    {
      "cell_type": "markdown",
      "metadata": {
        "id": "KjXXUOkiv9eu"
      },
      "source": [
        "__[문제 3: 출금]__\n",
        "\n",
        "사용자가 돈을 출금합니다. 출금 금액을 입력받고, 잔액을 갱신한 후 새로운 잔액을 출력하세요. 출금 거래를 영수증 리스트에 기록하세요.\n",
        "\n",
        "- 출금 금액은 input()을 이용해 받습니다.\n",
        "- 현재 잔액보다 출금 요청 금액이 많을 경우 현재 잔액 만큼만 출금되도록 합니다.\n",
        "- 영수증에 들어가는 정보는 튜플 형태입니다.\n",
        "- 튜플에 담기는 정보는 (입금 or 출금, 입금 or 출금 금액, 현재 잔액)순 입니다.\n",
        "\n",
        "(변수명 예시: 출금금액 - withdraw_amount)"
      ]
    },
    {
      "cell_type": "code",
      "execution_count": 8,
      "metadata": {
        "colab": {
          "base_uri": "https://localhost:8080/"
        },
        "id": "CCc6NNHZv9eu",
        "outputId": "40bf1518-b371-40bb-ebe6-46ed248673cc"
      },
      "outputs": [
        {
          "output_type": "stream",
          "name": "stdout",
          "text": [
            "출금 금액을 입력해주세요: 800\n",
            "출금이 완료되었습니다. 현재 잔액은 1800원입니다.\n",
            "현재 영수증 목록 : [('입금', 1200, 2600), ('출금', 800, 1800)]\n"
          ]
        }
      ],
      "source": [
        "withdraw_amount = int(input(\"출금 금액을 입력해주세요: \"))\n",
        "if withdraw_amount <= balance:\n",
        "   balance -= withdraw_amount\n",
        "   receipts.append((\"출금\", withdraw_amount, balance))\n",
        "   print(f\"출금이 완료되었습니다. 현재 잔액은 {balance}원입니다.\")\n",
        "\n",
        "else:\n",
        "    print(\"출금 할 수 없습니다.\")\n",
        "\n",
        "print(f\"현재 영수증 목록 : {receipts}\")"
      ]
    },
    {
      "cell_type": "markdown",
      "metadata": {
        "id": "iAgpCn6gv9ev"
      },
      "source": [
        "__[문제 4: 모든 거래 내역 확인]__\n",
        "\n",
        "모든 거래 내역(영수증)을 요청받았을 때 출력하세요.\n",
        "- 지금까지 영수증에 추가된 정보를 출력합니다.\n",
        "- 출력 형태는 자유입니다."
      ]
    },
    {
      "cell_type": "code",
      "execution_count": 9,
      "metadata": {
        "colab": {
          "base_uri": "https://localhost:8080/"
        },
        "id": "aZbvlq-hv9ev",
        "outputId": "76d89889-33ff-416f-9a24-4814b152ffa1"
      },
      "outputs": [
        {
          "output_type": "stream",
          "name": "stdout",
          "text": [
            "거래 내역을 보시려면 '예'를 입력하세요예\n",
            "거래 타입: 입금, 거래 금액: 1200, 현재 잔액: 2600\n",
            "거래 타입: 출금, 거래 금액: 800, 현재 잔액: 1800\n"
          ]
        }
      ],
      "source": [
        "command = input(\"거래 내역을 보시려면 '예'를 입력하세요\")\n",
        "\n",
        "if command == '예':\n",
        "    for receipt in receipts:\n",
        "        print(f\"거래 타입: {receipt[0]}, 거래 금액: {receipt[1]}, 현재 잔액: {receipt[2]}\")\n",
        "else:\n",
        "    print(\"안녕히 가세요!\")\n"
      ]
    }
  ],
  "metadata": {
    "colab": {
      "provenance": [],
      "include_colab_link": true
    },
    "kernelspec": {
      "display_name": "Python 3",
      "name": "python3"
    },
    "language_info": {
      "name": "python"
    }
  },
  "nbformat": 4,
  "nbformat_minor": 0
}