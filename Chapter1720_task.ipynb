{
  "cells": [
    {
      "cell_type": "markdown",
      "metadata": {
        "id": "view-in-github",
        "colab_type": "text"
      },
      "source": [
        "<a href=\"https://colab.research.google.com/github/kdu0312/education/blob/python/Chapter1720_task.ipynb\" target=\"_parent\"><img src=\"https://colab.research.google.com/assets/colab-badge.svg\" alt=\"Open In Colab\"/></a>"
      ]
    },
    {
      "cell_type": "markdown",
      "metadata": {
        "id": "aLkxKxnFLowa"
      },
      "source": [
        "안녕하세요. 수강생 여러분~! Chapter17 ~ 20 수업은 잘 들으셨나요?\n",
        "\n",
        "Chapter17 ~ 20의 수업 내용을 바탕으로 아래 문제를 풀어주시면 됩니다.\n",
        "\n",
        "\n",
        "<br>\n",
        "\n",
        "\n",
        "[**답변 입력 방법**]\n",
        "\n",
        "문제 아래에 있는 코드 입력창에 정답코드를 작성하신 후  __▷ 버튼을 클릭해 코드를 실행__ 해보세요<br>"
      ]
    },
    {
      "cell_type": "markdown",
      "metadata": {
        "id": "ly1aYGPwbUeJ"
      },
      "source": [
        "---"
      ]
    },
    {
      "cell_type": "markdown",
      "metadata": {
        "id": "pYJ1dSggLwcG"
      },
      "source": [
        "__[문제1]__\n",
        "\n",
        "print_even 리스트 내에 있는 값 중 짝수만 화면에 출력되도록 print_score 함수를 생성 후 결과값을 출력해주세요\n",
        "\n",
        "print_even ([1, 3, 2, 10, 12, 11, 15])"
      ]
    },
    {
      "cell_type": "code",
      "execution_count": null,
      "metadata": {
        "id": "PTqEeebbLmCA",
        "colab": {
          "base_uri": "https://localhost:8080/"
        },
        "outputId": "eabc6280-55bb-4a4f-8361-44a0ede9c9d6"
      },
      "outputs": [
        {
          "output_type": "execute_result",
          "data": {
            "text/plain": [
              "[2, 10, 12]"
            ]
          },
          "metadata": {},
          "execution_count": 71
        }
      ],
      "source": [
        "print_even = [1, 3, 2, 10, 12, 11, 15]\n",
        "\n",
        "def print_score(print_even):\n",
        "    print_list_even = []\n",
        "    for i in print_even:\n",
        "        if i % 2 == 0:\n",
        "            print_list_even.append(i)\n",
        "    return print_list_even\n",
        "\n",
        "print_score(print_even)\n"
      ]
    },
    {
      "cell_type": "code",
      "source": [
        "print_even = [1, 3, 2, 10, 12, 11, 15]\n",
        "\n",
        "def print_score(print_even):\n",
        "    for i in print_even:\n",
        "        if i % 2 == 0:\n",
        "            print(i)\n",
        "\n",
        "\n",
        "print_score(print_even)"
      ],
      "metadata": {
        "colab": {
          "base_uri": "https://localhost:8080/"
        },
        "id": "57FCfLGdueIV",
        "outputId": "4beaa9cd-2ffe-4054-db64-4fded13b8b28"
      },
      "execution_count": null,
      "outputs": [
        {
          "output_type": "stream",
          "name": "stdout",
          "text": [
            "2\n",
            "10\n",
            "12\n"
          ]
        }
      ]
    },
    {
      "cell_type": "code",
      "source": [
        "print_even = [1, 3, 2, 10, 12, 11, 15]\n",
        "\n",
        "def print_score(print_even):\n",
        "    for i in print_even:\n",
        "        if i % 2 == 0:\n",
        "            print(i)\n",
        "\n",
        "\n",
        "print_score(print_even)"
      ],
      "metadata": {
        "id": "O-1P-N3Vv8yw"
      },
      "execution_count": null,
      "outputs": []
    },
    {
      "cell_type": "markdown",
      "metadata": {
        "id": "S7ra9zxfbUeK"
      },
      "source": [
        "---"
      ]
    },
    {
      "cell_type": "markdown",
      "metadata": {
        "id": "ZkGserEsQS0L"
      },
      "source": [
        "__[문제2]__\n",
        "\n",
        "비어있는 오즈 (oz) 클래스를 \"정의\" 해보세요."
      ]
    },
    {
      "cell_type": "code",
      "execution_count": null,
      "metadata": {
        "id": "dJbcWWlwL0iK"
      },
      "outputs": [],
      "source": [
        "class oz:\n",
        "    pass"
      ]
    },
    {
      "cell_type": "markdown",
      "metadata": {
        "id": "rhjy1yaQbUeK"
      },
      "source": [
        "---"
      ]
    },
    {
      "cell_type": "markdown",
      "metadata": {
        "id": "Ofy86rZfL1Mg"
      },
      "source": [
        "__[문제3]__\n",
        "\n",
        "오즈(oz) 클래스의 인스턴스를 \"생성\" 하고 이를 coding 변수로 할당해보세요."
      ]
    },
    {
      "cell_type": "code",
      "execution_count": null,
      "metadata": {
        "id": "5NhWiuULL2Xa",
        "colab": {
          "base_uri": "https://localhost:8080/"
        },
        "outputId": "0395f7e2-4d14-4b77-d172-006c7a00e3b0"
      },
      "outputs": [
        {
          "output_type": "stream",
          "name": "stdout",
          "text": [
            "클래스 정복\n"
          ]
        }
      ],
      "source": [
        "class oz:\n",
        "    coding = oz()"
      ]
    },
    {
      "cell_type": "markdown",
      "metadata": {
        "id": "5Bqd8DnwbUeL"
      },
      "source": [
        "---"
      ]
    },
    {
      "cell_type": "markdown",
      "metadata": {
        "id": "5T6EMx8EL26b"
      },
      "source": [
        "[문제4]\n",
        "\n",
        "오즈(oz) 클래스에 \"클래스 정복\"을 출력하는 기본 생성자를 추가해주세요"
      ]
    },
    {
      "cell_type": "code",
      "execution_count": null,
      "metadata": {
        "id": "Zq35PXA0L3-m",
        "colab": {
          "base_uri": "https://localhost:8080/"
        },
        "outputId": "b87ccd76-0106-4fb7-f06d-15b7c424a1ba"
      },
      "outputs": [
        {
          "output_type": "stream",
          "name": "stdout",
          "text": [
            "클래스 정복\n"
          ]
        }
      ],
      "source": [
        "class oz:\n",
        "    def __init__(self):\n",
        "        print(\"클래스 정복\")\n",
        "\n",
        "coding = oz()"
      ]
    },
    {
      "cell_type": "markdown",
      "metadata": {
        "id": "KoLf3g_bbUeL"
      },
      "source": [
        "---"
      ]
    },
    {
      "cell_type": "markdown",
      "metadata": {
        "id": "htuycQWSL4l-"
      },
      "source": [
        "__[문제5]__\n",
        "\n",
        "오즈 (oz) 클래스에 (이름, 나이, 코딩레벨)을 받는 생성자를 추가해주세요\n",
        "\n",
        "coding = oz(\"김코\", 30, \"A\")\n"
      ]
    },
    {
      "cell_type": "code",
      "execution_count": null,
      "metadata": {
        "id": "A7h3I8CWL5ox",
        "colab": {
          "base_uri": "https://localhost:8080/"
        },
        "outputId": "ba563ea4-3a5c-4bb2-f1d3-63bc0fa42a42"
      },
      "outputs": [
        {
          "output_type": "stream",
          "name": "stdout",
          "text": [
            "김코 30 A\n"
          ]
        }
      ],
      "source": [
        "class oz:\n",
        "    def __init__(self, 이름, 나이, 코딩레벨):\n",
        "        self.이름 = 이름\n",
        "        self.나이 = 나이\n",
        "        self.코딩레벨 = 코딩레벨\n",
        "        #print(self.이름, self.나이, self.코딩레벨)\n",
        "coding = oz(\"김코\", 30, \"A\")"
      ]
    },
    {
      "cell_type": "markdown",
      "metadata": {
        "id": "lOrYakXmbUeL"
      },
      "source": [
        "---"
      ]
    },
    {
      "cell_type": "markdown",
      "metadata": {
        "id": "ZGDLHI5xL6Bd"
      },
      "source": [
        "__[문제6]__\n",
        "\n",
        "5번 문제에서 생성한 인스턴스의 이름, 나이, 성별을 출력해주세요.\n",
        "\n",
        "\n",
        "\n",
        "출력 결과  ) <br>\n",
        "이름 : 김코  \n",
        "나이 : 30  \n",
        "코딩레벨 : A  \n",
        "\n",
        "__Tips__\n",
        "\n",
        "\n",
        "- 인스턴스 변수에 접근하여 값을 출력하면 됩니다  : )"
      ]
    },
    {
      "cell_type": "code",
      "execution_count": null,
      "metadata": {
        "id": "qCrPejI_L8Wr",
        "colab": {
          "base_uri": "https://localhost:8080/"
        },
        "outputId": "787fb2a8-c145-48e4-ecb3-f674bb0ea391"
      },
      "outputs": [
        {
          "output_type": "stream",
          "name": "stdout",
          "text": [
            "이름:김코\n",
            "나이:30\n",
            "코딩레벨:A\n",
            "이름:김코\n",
            "나이:30\n",
            "코딩레벨:A\n"
          ]
        }
      ],
      "source": [
        "class oz:\n",
        "    def __init__(self, 이름, 나이, 코딩레벨):\n",
        "        self.이름 = 이름\n",
        "        self.나이 = 나이\n",
        "        self.코딩레벨 = 코딩레벨\n",
        "\n",
        "coding = oz(\"김코\", 30, \"A\")\n",
        "print(\"이름:{0}\\n나이:{1}\\n코딩레벨:{2}\".format(coding.이름,coding.나이,coding.코딩레벨))\n",
        "\n"
      ]
    },
    {
      "cell_type": "markdown",
      "metadata": {
        "id": "8-jKr2febUeM"
      },
      "source": [
        "---"
      ]
    },
    {
      "cell_type": "markdown",
      "metadata": {
        "id": "RmtPk-A1L8z4"
      },
      "source": [
        "__[문제7]__\n",
        "\n",
        "오즈 (oz) 클래스에서 이름, 나이, 성별을 출력하는 who() 메소드를 추가하고 who()메소드를 이용해 아래 출력 결과를 만들어주세요\n",
        "\n",
        "\n",
        "출력 결과 ) <br>\n",
        "이름: 김코, 나이: 30, 코딩레벨: A"
      ]
    },
    {
      "cell_type": "code",
      "execution_count": null,
      "metadata": {
        "id": "fvrvm87vL_HZ",
        "colab": {
          "base_uri": "https://localhost:8080/"
        },
        "outputId": "11761e04-9007-4d1e-aeb3-85d83c46fc9d"
      },
      "outputs": [
        {
          "output_type": "stream",
          "name": "stdout",
          "text": [
            "이름:김코\n",
            "나이:30\n",
            "코딩레벨:A\n"
          ]
        }
      ],
      "source": [
        "class oz:\n",
        "    def __init__(self, 이름, 나이, 코딩레벨):\n",
        "        self.이름 = 이름\n",
        "        self.나이 = 나이\n",
        "        self.코딩레벨 = 코딩레벨\n",
        "    def who(self):\n",
        "        print(\"이름:{0}\\n나이:{1}\\n코딩레벨:{2}\".format(coding.이름,coding.나이,coding.코딩레벨))\n",
        "\n",
        "oz_information = oz(\"김코\", 30, \"A\")\n",
        "oz_information.who()"
      ]
    }
  ],
  "metadata": {
    "colab": {
      "provenance": [],
      "include_colab_link": true
    },
    "kernelspec": {
      "display_name": "Python 3",
      "name": "python3"
    },
    "language_info": {
      "codemirror_mode": {
        "name": "ipython",
        "version": 3
      },
      "file_extension": ".py",
      "mimetype": "text/x-python",
      "name": "python",
      "nbconvert_exporter": "python",
      "pygments_lexer": "ipython3",
      "version": "3.11.7"
    }
  },
  "nbformat": 4,
  "nbformat_minor": 0
}