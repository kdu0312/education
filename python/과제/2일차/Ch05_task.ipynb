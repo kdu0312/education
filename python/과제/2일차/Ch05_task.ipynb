{
  "cells": [
    {
      "cell_type": "markdown",
      "metadata": {
        "id": "view-in-github",
        "colab_type": "text"
      },
      "source": [
        "<a href=\"https://colab.research.google.com/github/kdu0312/education/blob/python/Ch05_task.ipynb\" target=\"_parent\"><img src=\"https://colab.research.google.com/assets/colab-badge.svg\" alt=\"Open In Colab\"/></a>"
      ]
    },
    {
      "cell_type": "markdown",
      "metadata": {
        "id": "kASQWzWZYXNZ"
      },
      "source": [
        "<span style=\"font-size:100%\">\n",
        "\n",
        "수업은 모두 열심히 들으셨나요?\n",
        "\n",
        "간혹 강의에서 언급되지 않은 내용이 문제로 나올 수 있습니다.<br>\n",
        "그럴땐 강의 내용 외 문제는 구글링을 통해 해결해주세요<br></span>\n",
        "<span style=\"font-size:80%\">\n",
        "(구글링 또한 개발자가 갖쳐야할 역량 중에 하나랍니다 😊)\n",
        "</span>\n",
        "\n",
        "---"
      ]
    },
    {
      "cell_type": "markdown",
      "metadata": {
        "id": "TMUcIfo1YXNa"
      },
      "source": [
        "### Chapter05 : `Python 변수에 대한 개념 복습하기`"
      ]
    },
    {
      "cell_type": "markdown",
      "metadata": {
        "id": "FA220ir4YXNa"
      },
      "source": [
        "<span style=\"font-size:80%\">[문제1]<br><br></span>\n",
        "```Python으로 변수를 생성하는 방법으로 올바른 것을 고르세요```\n",
        "\n",
        "1. number == 20\n",
        "2. 100 == number\n",
        "3. number(7)\n",
        "4. number = 7"
      ]
    },
    {
      "cell_type": "markdown",
      "metadata": {
        "id": "V3RGoVhDYXNb"
      },
      "source": [
        "<span style=\"color:red\">답변</span>"
      ]
    },
    {
      "cell_type": "markdown",
      "metadata": {
        "id": "4FltGmoWYXNb"
      },
      "source": [
        "**4. number = 7**"
      ]
    },
    {
      "cell_type": "markdown",
      "metadata": {
        "id": "SNwewpXDYXNb"
      },
      "source": [
        "----"
      ]
    },
    {
      "cell_type": "markdown",
      "metadata": {
        "id": "UPBT2IETYXNb"
      },
      "source": [
        "<span style=\"font-size:80%\">[문제2]<br><br></span>\n",
        "```다음 중 올바르지 않은 것을 골라주세요```\n",
        "\n",
        "이름 = \"김오즈\"<br>\n",
        "나이 = 14<br>\n",
        "소속 = \"마법중\"<br>\n",
        "등급 = 3<br>\n",
        "\n",
        "1. 이름 + 소속\n",
        "2. 나이 + 등급\n",
        "3. 소속 + 등급"
      ]
    },
    {
      "cell_type": "markdown",
      "metadata": {
        "id": "uB4-vQ8BYXNb"
      },
      "source": [
        "<span style=\"color:red\">답변</span>"
      ]
    },
    {
      "cell_type": "markdown",
      "metadata": {
        "id": "-ehfuZKdYXNc"
      },
      "source": [
        "**3. 소속 + 등급**"
      ]
    },
    {
      "cell_type": "markdown",
      "metadata": {
        "id": "UOZmXco1YXNc"
      },
      "source": [
        "<span style=\"font-size:80%\">[문제3]<br><br></span>\n",
        "```아래 변수의 type으로 올바른것을 골라주세요```\n",
        "\n",
        "퀴즈 = \"스페인에서 카리나를 보고 하는 말은?\"<br>\n",
        "type(퀴즈)"
      ]
    },
    {
      "cell_type": "markdown",
      "metadata": {
        "id": "2JAcj-53YXNc"
      },
      "source": [
        "<span style=\"color:red\">답변</span>"
      ]
    },
    {
      "cell_type": "markdown",
      "metadata": {
        "id": "2buhLFENYXNc"
      },
      "source": [
        "**str**"
      ]
    },
    {
      "cell_type": "markdown",
      "metadata": {
        "id": "PPyLQYcLYXNc"
      },
      "source": [
        "----"
      ]
    },
    {
      "cell_type": "markdown",
      "metadata": {
        "id": "5c6Y7UIYYXNc"
      },
      "source": [
        "<span style=\"font-size:80%\">[문제4]<br><br></span>\n",
        "```다음 중 변수 이름으로 사용할 수 없는 것을 모두 골라주세요```\n",
        "\n",
        "1. 78abc\n",
        "2. ABC\n",
        "3. _ABC\n",
        "4. _hello%2\n",
        "5. for"
      ]
    },
    {
      "cell_type": "markdown",
      "metadata": {
        "id": "nLYa_fcPYXNd"
      },
      "source": [
        "<span style=\"color:red\">답변</span>"
      ]
    },
    {
      "cell_type": "markdown",
      "metadata": {
        "id": "gRKmcWE8YXNd"
      },
      "source": [
        "**1. 78abc**\n",
        "\n",
        "**4. _hello%2**\n",
        "\n",
        "**5. for**\n"
      ]
    },
    {
      "cell_type": "markdown",
      "metadata": {
        "id": "fdk8tq8qYXNd"
      },
      "source": [
        "----"
      ]
    },
    {
      "cell_type": "markdown",
      "metadata": {
        "id": "PrILFdQSYXNd"
      },
      "source": [
        "<span style=\"font-size:80%\">[문제5]<br><br></span>\n",
        "```다음 중 변수와 연산자의 사용 방법으로 올바르지 않은 것을 모두 골라주세요```\n",
        "\n",
        "x = 3\n",
        "\n",
        "y = 7\n",
        "\n",
        "1. x = x + y\n",
        "2. x // 2\n",
        "3. z >< x\n",
        "4. y += x\n",
        "5. ++x"
      ]
    },
    {
      "cell_type": "markdown",
      "metadata": {
        "id": "mqWazRGAYXNd"
      },
      "source": [
        "<span style=\"color:red\">답변</span>"
      ]
    },
    {
      "cell_type": "markdown",
      "metadata": {
        "id": "jlclndh6YXNd"
      },
      "source": [
        "**3. z >< x**\n",
        "\n",
        "**5. ++x**"
      ]
    },
    {
      "cell_type": "markdown",
      "metadata": {
        "id": "RfTe_DWiYXNd"
      },
      "source": [
        "----"
      ]
    },
    {
      "cell_type": "markdown",
      "metadata": {
        "id": "FlscDormYXNd"
      },
      "source": [
        "### Chapter06 : `Python 자료형인 int와 float 개념 복습하기`"
      ]
    },
    {
      "cell_type": "markdown",
      "metadata": {
        "id": "nDVFeGVOYXNd"
      },
      "source": [
        "<span style=\"font-size:80%\">[문제1]<br><br></span>\n",
        "```실수를 정수로 만드는 식으로 올바른 것을 고르세요```\n",
        "\n",
        "1. str(3.5)\n",
        "2. int(3.5)\n",
        "3. float(3.5)"
      ]
    },
    {
      "cell_type": "markdown",
      "metadata": {
        "id": "5jA-gvJnYXNd"
      },
      "source": [
        "<span style=\"color:red\">답변</span>"
      ]
    },
    {
      "cell_type": "markdown",
      "metadata": {
        "id": "XyIcSLQEYXNd"
      },
      "source": [
        "**2. int(3.5)**"
      ]
    },
    {
      "cell_type": "markdown",
      "metadata": {
        "id": "2FtgtovDYXNd"
      },
      "source": [
        "----"
      ]
    },
    {
      "cell_type": "markdown",
      "metadata": {
        "id": "Au7AwgVGYXNd"
      },
      "source": [
        "<span style=\"font-size:80%\">[문제2]<br><br></span>\n",
        "```실수 3.5의 type과 동일한 것을 고르세요```\n",
        "\n",
        "1. float(17//3)\n",
        "2. int(10)-9\n",
        "3. float11/2\n",
        "4. float(10)-2"
      ]
    },
    {
      "cell_type": "markdown",
      "metadata": {
        "id": "4tFIslSJYXNd"
      },
      "source": [
        "<span style=\"color:red\">답변</span>"
      ]
    },
    {
      "cell_type": "markdown",
      "metadata": {
        "id": "rVKFSoOIYXNd"
      },
      "source": [
        "**1. float(17//3)**\n",
        "\n",
        "**4. float(10)-2**"
      ]
    },
    {
      "cell_type": "markdown",
      "metadata": {
        "id": "tgQJHzeuYXNd"
      },
      "source": [
        "----"
      ]
    },
    {
      "cell_type": "markdown",
      "metadata": {
        "id": "O_Hhca94YXNe"
      },
      "source": [
        "<span style=\"font-size:80%\">[문제3]<br><br></span>\n",
        "```type(3.0 + 7.0)의 결과로 올바른 것을 고르세요```\n",
        "\n",
        "1. 10\n",
        "2. 10.0\n",
        "3. int\n",
        "4. float"
      ]
    },
    {
      "cell_type": "markdown",
      "metadata": {
        "id": "qt0TiwKDYXNe"
      },
      "source": [
        "<span style=\"color:red\">답변</span>"
      ]
    },
    {
      "cell_type": "markdown",
      "metadata": {
        "id": "uBr2FWKzYXNe"
      },
      "source": [
        "**4. float**"
      ]
    },
    {
      "cell_type": "markdown",
      "metadata": {
        "id": "NSiWBnWQYXNe"
      },
      "source": [
        "----"
      ]
    },
    {
      "cell_type": "markdown",
      "metadata": {
        "id": "D7bpXsr4YXNe"
      },
      "source": [
        "<span style=\"font-size:80%\">[문제4]<br><br></span>\n",
        "```float(5)의 결과로 올바른 것을 고르세요```\n",
        "\n",
        "1. 5\n",
        "2. `<class float>`\n",
        "3. 5.0\n",
        "4. type error"
      ]
    },
    {
      "cell_type": "markdown",
      "metadata": {
        "id": "09WzoX5nYXNe"
      },
      "source": [
        "<span style=\"color:red\">답변</span>"
      ]
    },
    {
      "cell_type": "markdown",
      "metadata": {
        "id": "32045FaMYXNe"
      },
      "source": [
        "**3. 5.0**"
      ]
    },
    {
      "cell_type": "markdown",
      "metadata": {
        "id": "sd-nVW0XYXNh"
      },
      "source": [
        "----"
      ]
    },
    {
      "cell_type": "markdown",
      "metadata": {
        "id": "W4mvkKpAYXNh"
      },
      "source": [
        "<span style=\"font-size:80%\">[문제5]<br><br></span>\n",
        "```int(13 / 2)의 결과로 올바른 것을 고르세요```\n",
        "\n",
        "1. 6.5\n",
        "2. 1\n",
        "3. 6\n",
        "4. 6.0"
      ]
    },
    {
      "cell_type": "markdown",
      "metadata": {
        "id": "ATve8mrXYXNh"
      },
      "source": [
        "<span style=\"color:red\">답변</span>"
      ]
    },
    {
      "cell_type": "markdown",
      "metadata": {
        "id": "02Qd3WvaYXNh"
      },
      "source": [
        "**3. 6**"
      ]
    },
    {
      "cell_type": "markdown",
      "metadata": {
        "id": "R7YBUVXPYXNi"
      },
      "source": [
        "----"
      ]
    },
    {
      "cell_type": "markdown",
      "metadata": {
        "id": "UmLsTWPcYXNi"
      },
      "source": [
        "### Chapter07 : `Python 자료형인 str와 bool 개념 복습하기`"
      ]
    },
    {
      "cell_type": "markdown",
      "metadata": {
        "id": "FRlkcMw3YXNi"
      },
      "source": [
        "<span style=\"font-size:80%\">[문제1]<br><br></span>\n",
        "```변수 퀴즈에 들어있는 정답 \"어중이떠중이\"를 출력하기 위한 슬라이싱으로 올바른 것을 모두 골라주세요```\n",
        "\n",
        "퀴즈 = \"스님이 공중에 뜬다를 4글자로 말하면? 어중이떠중이\"\n",
        "\n",
        "1. print(퀴즈[22:27])\n",
        "2. print(퀴즈[22:])\n",
        "3. print(퀴즈[22:28])\n",
        "4. print(퀴즈[28])"
      ]
    },
    {
      "cell_type": "markdown",
      "metadata": {
        "id": "J4p6leFrYXNi"
      },
      "source": [
        "<span style=\"color:red\">답변</span>"
      ]
    },
    {
      "cell_type": "markdown",
      "metadata": {
        "id": "2mSaXzcuYXNi"
      },
      "source": [
        "**3. print(퀴즈[22:28])**\n",
        "\n",
        "**4. print(퀴즈[28])**"
      ]
    },
    {
      "cell_type": "markdown",
      "metadata": {
        "id": "GuFCHX6rYXNi"
      },
      "source": [
        "----"
      ]
    },
    {
      "cell_type": "markdown",
      "metadata": {
        "id": "9o4yZFkCYXNi"
      },
      "source": [
        "<span style=\"font-size:80%\">[문제2]<br><br></span>\n",
        "```과일 변수에 들어있는 p의 개수를 구하는 코드로 올바른 것을 골라주세요```\n",
        "\n",
        "과일 = \"apple\"\n",
        "\n",
        "1. 과일.count('p')\n",
        "2. count(과일, 'p')\n",
        "3. 과일.index('p')\n",
        "4. count('p')"
      ]
    },
    {
      "cell_type": "markdown",
      "metadata": {
        "id": "WE3IwK1UYXNi"
      },
      "source": [
        "<span style=\"color:red\">답변</span>"
      ]
    },
    {
      "cell_type": "markdown",
      "metadata": {
        "id": "GOzU-_B7YXNi"
      },
      "source": [
        "**1. 과일.count('p')**"
      ]
    },
    {
      "cell_type": "markdown",
      "metadata": {
        "id": "e-quwsUlYXNi"
      },
      "source": [
        "----"
      ]
    },
    {
      "cell_type": "markdown",
      "metadata": {
        "id": "68IV-RUfYXNi"
      },
      "source": [
        "<span style=\"font-size:80%\">[문제3]<br><br></span>\n",
        "``` bool 타입에 해당하는 것만 골라주세요```\n",
        "\n",
        "1. true\n",
        "2. True\n",
        "3. False\n",
        "4. 0\n",
        "5. 1"
      ]
    },
    {
      "cell_type": "markdown",
      "metadata": {
        "id": "uv9MCtwAYXNi"
      },
      "source": [
        "<span style=\"color:red\">답변</span>"
      ]
    },
    {
      "cell_type": "markdown",
      "metadata": {
        "id": "qbBE5M0rYXNi"
      },
      "source": [
        "**2. True**\n",
        "\n",
        "**3. False**"
      ]
    },
    {
      "cell_type": "markdown",
      "metadata": {
        "id": "GIbMzyVpYXNi"
      },
      "source": [
        "----"
      ]
    },
    {
      "cell_type": "markdown",
      "metadata": {
        "id": "wbc7j1n0YXNi"
      },
      "source": [
        "<span style=\"font-size:80%\">[문제4]<br><br></span>\n",
        "```문자열의 길이를 구하는 방법으로 올바른 것을 고르세요```\n",
        "\n",
        "라라랜드 =  \"사람들은 다른 사람들의 열정에 끌리게 되어있어 자신이 잊은 걸 상기시켜 주니까\"\n",
        "\n",
        "1. 라라랜드.len()\n",
        "2. length(라라랜드)\n",
        "3. len(라라랜드)\n",
        "4. count(라라랜드)"
      ]
    },
    {
      "cell_type": "markdown",
      "metadata": {
        "id": "9Nc189F7YXNi"
      },
      "source": [
        "<span style=\"color:red\">답변</span>"
      ]
    },
    {
      "cell_type": "markdown",
      "metadata": {
        "id": "twCRrD3vYXNj"
      },
      "source": [
        "**3. len(라라랜드)**"
      ]
    },
    {
      "cell_type": "markdown",
      "metadata": {
        "id": "aCy2VsBtYXNj"
      },
      "source": [
        "----"
      ]
    },
    {
      "cell_type": "markdown",
      "metadata": {
        "id": "3we8h3YEYXNj"
      },
      "source": [
        "### Chapter08 : `비교 연산자와 논리 연산자에 대해 복습해보기`"
      ]
    },
    {
      "cell_type": "markdown",
      "metadata": {
        "id": "3Sr2neIlYXNj"
      },
      "source": [
        "<span style=\"font-size:80%\">[문제1]<br><br></span>\n",
        "```비교 연산자의 결과로 올바르지 않은 것을 골라주세요```\n",
        "\n",
        "1. 8 == 2 * 4&emsp;&emsp;결과 : True\n",
        "2. 4 != 2 + 2&emsp;&emsp;결과 : False\n",
        "3. 2 * 3 is 3 + 3&emsp;&emsp;결과 : True\n",
        "4. 8 is 4 * 2.0&emsp;&emsp;결과 : True\n",
        "5. 5 is 6 - 1.1&emsp;&emsp;결과 : False"
      ]
    },
    {
      "cell_type": "markdown",
      "metadata": {
        "id": "42Ssy4GCYXNj"
      },
      "source": [
        "<span style=\"color:red\">답변</span>"
      ]
    },
    {
      "cell_type": "markdown",
      "metadata": {
        "id": "BqMMnBKaYXNj"
      },
      "source": [
        "**4. 8 is 4 * 2.0**"
      ]
    },
    {
      "cell_type": "markdown",
      "metadata": {
        "id": "1ump9cAbYXNj"
      },
      "source": [
        "----"
      ]
    },
    {
      "cell_type": "markdown",
      "metadata": {
        "id": "fDmGVT9AYXNj"
      },
      "source": [
        "<span style=\"font-size:80%\">[문제2]<br><br></span>\n",
        "```\"x는 5와 같지 않다\"라는 뜻과 동일한 것을 골라주세요```\n",
        "\n",
        "1. x <= 5\n",
        "2. x != 5\n",
        "3. x & 5\n",
        "4. x ! 5"
      ]
    },
    {
      "cell_type": "markdown",
      "metadata": {
        "id": "ENor2JxdYXNj"
      },
      "source": [
        "<span style=\"color:red\">답변</span>"
      ]
    },
    {
      "cell_type": "markdown",
      "source": [
        "**2. x != 5**"
      ],
      "metadata": {
        "id": "bYg876FFdDO4"
      }
    },
    {
      "cell_type": "markdown",
      "metadata": {
        "id": "sXbsxvziYXNj"
      },
      "source": [
        "----"
      ]
    },
    {
      "cell_type": "markdown",
      "metadata": {
        "id": "_OAdG9WKYXNj"
      },
      "source": [
        "<span style=\"font-size:80%\">[문제3]<br><br></span>\n",
        "```비교 연산자와 논리 연산자의 결과로 올바른 것을 모두 골라주세요```\n",
        "\n",
        "x = 10\n",
        "\n",
        "y = 20\n",
        "\n",
        "1. x == 10 or y == 10  결과 : False\n",
        "2. x >= 10 and y < 30  결과 : True\n",
        "3. not x == 10 결과 : False\n",
        "4. y != 20 or x != 10  결과 : True\n",
        "5. not y != 20 and x > 5  결과 : False"
      ]
    },
    {
      "cell_type": "markdown",
      "metadata": {
        "id": "VQG7IDrsYXNk"
      },
      "source": [
        "<span style=\"color:red\">답변</span>"
      ]
    },
    {
      "cell_type": "markdown",
      "metadata": {
        "id": "0LN6aoHsYXNk"
      },
      "source": [
        "**2. x >= 10 and y < 30  결과 : True**\n",
        "\n",
        "**3. not x == 10 결과 : False**"
      ]
    },
    {
      "cell_type": "markdown",
      "metadata": {
        "id": "rCJ4SehCYXNk"
      },
      "source": [
        "----"
      ]
    },
    {
      "cell_type": "markdown",
      "metadata": {
        "id": "0oZyozvCYXNk"
      },
      "source": [
        "<span style=\"font-size:80%\">[문제4]<br><br></span>\n",
        "```'치맥' and True의 결과로 올바른 것을 골라주세요```\n",
        "\n",
        "1. False\n",
        "2. 아묻따\n",
        "3. True\n",
        "4. 치맥True"
      ]
    },
    {
      "cell_type": "markdown",
      "metadata": {
        "id": "RXfnsFhZYXNk"
      },
      "source": [
        "<span style=\"color:red\">답변</span>"
      ]
    },
    {
      "cell_type": "markdown",
      "metadata": {
        "id": "Px--1S0kYXNk"
      },
      "source": [
        "**3. True (문자열도 True)**"
      ]
    },
    {
      "cell_type": "markdown",
      "metadata": {
        "id": "O_3iun6UYXNk"
      },
      "source": [
        "----"
      ]
    },
    {
      "cell_type": "markdown",
      "metadata": {
        "id": "d_RKlTwYYXNk"
      },
      "source": [
        "<span style=\"font-size:80%\">[문제5]<br><br></span>\n",
        "```논리 연산의 결과를 뒤집는 연산자를 골라주세요```\n",
        "\n",
        "1. is not\n",
        "2. not\n",
        "3. !=\n",
        "4. end\n",
        "5. and\n",
        "6. or"
      ]
    },
    {
      "cell_type": "markdown",
      "metadata": {
        "id": "RDVloMjCYXNk"
      },
      "source": [
        "<span style=\"color:red\">답변</span>"
      ]
    },
    {
      "cell_type": "markdown",
      "metadata": {
        "id": "X-0LBzlrYXNk"
      },
      "source": [
        "**2. not**"
      ]
    }
  ],
  "metadata": {
    "language_info": {
      "name": "python"
    },
    "colab": {
      "provenance": [],
      "include_colab_link": true
    }
  },
  "nbformat": 4,
  "nbformat_minor": 0
}