{
  "cells": [
    {
      "cell_type": "markdown",
      "metadata": {
        "id": "view-in-github",
        "colab_type": "text"
      },
      "source": [
        "<a href=\"https://colab.research.google.com/github/kdu0312/education/blob/python/Ch14_task.ipynb\" target=\"_parent\"><img src=\"https://colab.research.google.com/assets/colab-badge.svg\" alt=\"Open In Colab\"/></a>"
      ]
    },
    {
      "cell_type": "markdown",
      "metadata": {
        "id": "xtpxE520WHvm"
      },
      "source": [
        "<span style=\"font-size:100%\">\n",
        "\n",
        "수업은 모두 열심히 들으셨나요?\n",
        "\n",
        "간혹 강의에서 언급되지 않은 내용이 문제로 나올 수 있습니다.<br>\n",
        "그럴땐 강의 내용 외 문제는 구글링을 통해 해결해주세요<br></span>\n",
        "<span style=\"font-size:80%\">\n",
        "(구글링 또한 개발자가 갖쳐야할 역량 중에 하나랍니다 😊)\n",
        "</span>\n",
        "\n",
        "---"
      ]
    },
    {
      "cell_type": "markdown",
      "metadata": {
        "id": "pWPdZzFwWHvn"
      },
      "source": [
        "### Chapter14 : `Python if문을 이용해 조건을 만족 또는 만족하지 않는 상황을 이용해 프로그램의 흐름 제어를 해보자`"
      ]
    },
    {
      "cell_type": "markdown",
      "metadata": {
        "id": "4xOETJHsWHvo"
      },
      "source": [
        "<span style=\"font-size:80%\">[문제1]<br><br></span>\n",
        "```다음 중 True로 취급되지 않는 것을 골라주세요```\n",
        "\n",
        "1. 1\n",
        "2. \"수강생\"\n",
        "3. None\n",
        "4. [\"양파\", \"옥수수\", \"배추\"]"
      ]
    },
    {
      "cell_type": "markdown",
      "metadata": {
        "id": "vUAbQG0kWHvo"
      },
      "source": [
        "<span style=\"color:red\">답변</span>"
      ]
    },
    {
      "cell_type": "markdown",
      "metadata": {
        "id": "frL58a1CWHvo"
      },
      "source": [
        "3번"
      ]
    },
    {
      "cell_type": "markdown",
      "metadata": {
        "id": "aAhS4R1dWHvo"
      },
      "source": [
        "----"
      ]
    },
    {
      "cell_type": "markdown",
      "metadata": {
        "id": "0l0faApNWHvp"
      },
      "source": [
        "<span style=\"font-size:80%\">[문제2]<br><br></span>\n",
        "```아래 코드의 출력 결과를 입력해주세요```\n",
        "\n",
        "```if not ' ':```<br>\n",
        "&nbsp;```  print(True)```<br>\n",
        "\n",
        "```else:```<br>\n",
        "&nbsp;```  print(False)```<br>"
      ]
    },
    {
      "cell_type": "markdown",
      "metadata": {
        "id": "cOZ9MM13WHvp"
      },
      "source": [
        "<span style=\"color:red\">답변</span>"
      ]
    },
    {
      "cell_type": "markdown",
      "metadata": {
        "id": "IUPVq5z0WHvp"
      },
      "source": [
        "True (띄워쓰기 되어있음)"
      ]
    },
    {
      "cell_type": "markdown",
      "metadata": {
        "id": "1dm8Dr7nWHvp"
      },
      "source": [
        "----"
      ]
    },
    {
      "cell_type": "markdown",
      "metadata": {
        "id": "rx-LGlSiWHvp"
      },
      "source": [
        "<span style=\"font-size:80%\">[문제3]<br><br></span>\n",
        "```if 조건문에 대한 설명으로 올바른 것을 골라주세요```\n",
        "\n",
        "1. if문은 조건을 만족하지 않을때 실행된다.\n",
        "2. else문은 조건문이 참일 때 실행된다.\n",
        "3. else는 단독으로 사용할 수 없다.\n",
        "4. else에서 실행되는 코드는 다음 줄에서 들여쓰기를 하지 않아야 한다.\n",
        "5. if는 항상 else가 있어여 한다."
      ]
    },
    {
      "cell_type": "markdown",
      "metadata": {
        "id": "fHf1FljjWHvq"
      },
      "source": [
        "<span style=\"color:red\">답변</span>"
      ]
    },
    {
      "cell_type": "markdown",
      "metadata": {
        "id": "_CvX1HDtWHvq"
      },
      "source": [
        "3번"
      ]
    },
    {
      "cell_type": "markdown",
      "metadata": {
        "id": "TJhnrdUQWHvq"
      },
      "source": [
        "----"
      ]
    },
    {
      "cell_type": "markdown",
      "metadata": {
        "id": "YZn_9g29WHvq"
      },
      "source": [
        "<span style=\"font-size:80%\">[문제4]<br><br></span>\n",
        "```아래 코드의 출력으로 올바른 것을 골라주세요```\n",
        "\n",
        "```x = 5```\n",
        "\n",
        "```if x % 2 ==0:```<br>\n",
        "&nbsp;&nbsp;```print(\"짝수\")```\n",
        "\n",
        "```else:```<br>\n",
        "&nbsp;&nbsp;```print(\"홀수\")```<br>\n",
        "\n",
        "\n",
        "1. 짝수\n",
        "2. 1\n",
        "3. 2\n",
        "4. 홀수\n",
        "5. 아무것도 출력되지 않는다."
      ]
    },
    {
      "cell_type": "markdown",
      "metadata": {
        "id": "mz5FsG8LWHvq"
      },
      "source": [
        "<span style=\"color:red\">답변</span>"
      ]
    },
    {
      "cell_type": "markdown",
      "metadata": {
        "id": "p_dPaommWHvq"
      },
      "source": [
        "4번 홀수"
      ]
    },
    {
      "cell_type": "markdown",
      "metadata": {
        "id": "-MVIRmchWHvq"
      },
      "source": [
        "----"
      ]
    },
    {
      "cell_type": "markdown",
      "metadata": {
        "id": "HKkv8o8UWHvq"
      },
      "source": [
        "<span style=\"font-size:80%\">[문제5]<br><br></span>\n",
        "```아래의 if 조건과 동일한 조건을 찾아주세요```\n",
        "\n",
        "```if 15 >= x and x > 3```\n",
        "\n",
        "1. x < 3 < 15\n",
        "2. 3 <= x < 15\n",
        "3. 3 <= x <= 15\n",
        "4. 15 >= x\n",
        "5. 3 < x <= 15"
      ]
    },
    {
      "cell_type": "markdown",
      "metadata": {
        "id": "qz7Yjvq9WHvq"
      },
      "source": [
        "<span style=\"color:red\">답변</span>"
      ]
    },
    {
      "cell_type": "markdown",
      "metadata": {
        "id": "oWWnMVWEWHvq"
      },
      "source": [
        "5번"
      ]
    },
    {
      "cell_type": "markdown",
      "metadata": {
        "id": "3hPTFao0WHvq"
      },
      "source": [
        "----"
      ]
    },
    {
      "cell_type": "markdown",
      "metadata": {
        "id": "VzWT7sUYWHvq"
      },
      "source": [
        "### Chapter15 : `Python의 for문을 이용해 반복되는 작업 코드 개선해보기`"
      ]
    },
    {
      "cell_type": "markdown",
      "metadata": {
        "id": "R4tnTxrEWHvq"
      },
      "source": [
        "<span style=\"font-size:80%\">[문제1]<br><br></span>\n",
        "```다음 중 for문으로 10번 반복하는 방법으로 올바른 것을 모두 골라주세요```\n",
        "\n",
        "1. for i in range(10):\n",
        "2. for i in range(5, 16):\n",
        "3. for i in range(10, 0):\n",
        "4. for i in range(20, 40, 2):\n",
        "5. for i in range(1, 10, 1):"
      ]
    },
    {
      "cell_type": "markdown",
      "metadata": {
        "id": "zOGg2HBvWHvr"
      },
      "source": [
        "<span style=\"color:red\">답변</span>"
      ]
    },
    {
      "cell_type": "markdown",
      "metadata": {
        "id": "8RgoRw3CWHvr"
      },
      "source": [
        "1번, 4번"
      ]
    },
    {
      "cell_type": "markdown",
      "metadata": {
        "id": "zcD9ZHuBWHvr"
      },
      "source": [
        "----"
      ]
    },
    {
      "cell_type": "markdown",
      "metadata": {
        "id": "lGLspKypWHvr"
      },
      "source": [
        "<span style=\"font-size:80%\">[문제2]<br><br></span>\n",
        "```아래 코드에서 잘못된 부분에 대해서 설명해주세요```\n",
        "\n",
        "count = input()\n",
        "\n",
        "for i in range(count)<br>\n",
        "&emsp;&emsp;print('i의 값은', end=' ')<br>\n",
        "&emsp;&emsp;print(i)<br>"
      ]
    },
    {
      "cell_type": "markdown",
      "metadata": {
        "id": "koPiu66eWHvr"
      },
      "source": [
        "<span style=\"color:red\">답변</span>"
      ]
    },
    {
      "cell_type": "markdown",
      "metadata": {
        "id": "iI51QkEjWHvr"
      },
      "source": [
        "input은 문자열로 반환되고 range는 정수만 요구받음\n",
        "\n",
        "##올바른 코딩\n",
        "\n",
        "    count = int(input())\n",
        "   \n",
        "    for i in range(count):\n",
        "        print('i의 값은', end='')\n",
        "        print(i)\n",
        "## 결과 (3입력 시)\n",
        "    3\n",
        "    i의 값은0\n",
        "    i의 값은1\n",
        "    i의 값은2"
      ]
    },
    {
      "cell_type": "markdown",
      "metadata": {
        "id": "9l0aGqPfWHvr"
      },
      "source": [
        "----"
      ]
    },
    {
      "cell_type": "markdown",
      "metadata": {
        "id": "vErf7i0VWHvr"
      },
      "source": [
        "<span style=\"font-size:80%\">[문제3]<br><br></span>\n",
        "```아래 코드를 실행 했을 때 결과물로 올바른 것을 골라주세요```\n",
        "\n",
        "for i in reversed(\"python\"):<br>\n",
        "&emsp;&emsp;print(i, end='.')<br>\n",
        "\n",
        "\n",
        "1. n.o.h.t.y.p.\n",
        "2. p.y.t.h.o.n.\n",
        "3. nothyp\n",
        "4. python"
      ]
    },
    {
      "cell_type": "markdown",
      "metadata": {
        "id": "EP6ucB2dWHvr"
      },
      "source": [
        "<span style=\"color:red\">답변</span>"
      ]
    },
    {
      "cell_type": "markdown",
      "metadata": {
        "id": "emcc8PhJWHvr"
      },
      "source": [
        "1번"
      ]
    },
    {
      "cell_type": "markdown",
      "metadata": {
        "id": "Rp6KSfvlWHvr"
      },
      "source": [
        "----"
      ]
    },
    {
      "cell_type": "markdown",
      "metadata": {
        "id": "Xp-siTHTWHvr"
      },
      "source": [
        "<span style=\"font-size:80%\">[문제4]<br><br></span>\n",
        "```리스트에 저장된 데이터를 아래와 같이 출력하세요```\n",
        "\n",
        "오피스텔 = [ [201, 202], [301, 302], [401, 402] ]\n",
        "\n",
        "201호<br>\n",
        "202호<br>\n",
        "`----`\n",
        "\n",
        "301호<br>\n",
        "302호<br>\n",
        "`----`\n",
        "\n",
        "401호<br>\n",
        "402호<br>\n",
        "`----`"
      ]
    },
    {
      "cell_type": "markdown",
      "metadata": {
        "id": "_fxR_IrHWHvr"
      },
      "source": [
        "<span style=\"color:red\">답변</span>"
      ]
    },
    {
      "cell_type": "markdown",
      "metadata": {
        "id": "gudg0UkyWHvr"
      },
      "source": [
        "오피스텔 = [ [201, 202], [301, 302], [401, 402] ]\n",
        "\n",
        "for i in 오피스텔:\n",
        "    \n",
        "    for j in i:\n",
        "        \n",
        "        print(f\"{j}호\"\n",
        "    \n",
        "    print(\"---\")"
      ]
    },
    {
      "cell_type": "markdown",
      "metadata": {
        "id": "Y573jFQgWHvr"
      },
      "source": [
        "----"
      ]
    },
    {
      "cell_type": "markdown",
      "metadata": {
        "id": "BpGwPBvUWHvv"
      },
      "source": [
        "<span style=\"font-size:80%\">[문제5]<br><br></span>\n",
        "```ohlc 리스트에는 시가(open), 고가 (high), 저가 (low) , 종가(close)가 날짜별로 저장돼 있다. 종가가 150원보다 큰 경우에만 종가를 출력하는 코드를 작성해주세요```\n",
        "\n",
        "ohlc = [[\"open\", \"high\", \"low\", \"close\"], [100, 110, 70, 100], [200, 210, 180, 190], [300, 310, 300, 310]]"
      ]
    },
    {
      "cell_type": "markdown",
      "metadata": {
        "id": "Q8taW1EHWHvv"
      },
      "source": [
        "<span style=\"color:red\">답변</span>"
      ]
    },
    {
      "cell_type": "markdown",
      "metadata": {
        "id": "7-MfEf2KWHvv"
      },
      "source": [
        "ohlc = [\n",
        "    [\"open\", \"high\", \"low\", \"close\"],\n",
        "    [100, 110, 70, 100],\n",
        "    [200, 210, 180, 190],\n",
        "    [300, 310, 300, 310]\n",
        "    ]\n",
        "\n",
        "    for i in ohlc[1:]:\n",
        "        j = i[3]\n",
        "        if j > 150:\n",
        "            print(f\"종가: {j}\")"
      ]
    },
    {
      "cell_type": "markdown",
      "metadata": {
        "id": "NzWcTKdtWHvv"
      },
      "source": [
        "### Chapter16 : `Python의 While문을 활용해 반복되는 코드를 개선해 보자`"
      ]
    },
    {
      "cell_type": "markdown",
      "metadata": {
        "id": "-PWGZKBwWHvv"
      },
      "source": [
        "<span style=\"font-size:80%\">[문제1]<br><br></span>\n",
        "아래 코드의 올바른 실행 결과를 골라주세요\n",
        "```\n",
        "i = 10\n",
        "\n",
        "while i < 19:\n",
        "    print(i, end=' ')\n",
        "    i += 2\n",
        "```\n",
        "\n",
        "1. 10, 11, 12, 13, 14, 15, 16, 17, 18, 19\n",
        "2. 10 11 12 13 14 15 16 17 18\n",
        "3. 10 12 14 16 18 19\n",
        "4. 10 12 14 16 18\n",
        "5. 10 12 14 16"
      ]
    },
    {
      "cell_type": "markdown",
      "metadata": {
        "id": "a9leC0IBWHvv"
      },
      "source": [
        "<span style=\"color:red\">답변</span>"
      ]
    },
    {
      "cell_type": "markdown",
      "metadata": {
        "id": "QZfobFwzWHvv"
      },
      "source": [
        "4번"
      ]
    },
    {
      "cell_type": "markdown",
      "metadata": {
        "id": "dgAJs97BWHvv"
      },
      "source": [
        "----"
      ]
    },
    {
      "cell_type": "markdown",
      "metadata": {
        "id": "fgC5OxevWHvv"
      },
      "source": [
        "<span style=\"font-size:80%\">[문제2]<br><br></span>\n",
        "다음 중 while 반복문에 대한 설명으로 잘못된 것을 모두 골라주세요\n",
        "\n",
        "1. while 반복문에는 조건식 또는 값을 지정하면 된다.\n",
        "2. while 반복문은 조건식의 결과가 True이면 반복을 끝낸다.\n",
        "3. while 반복문은 반복 횟수가 정해져 있을 때만 사용할 수 있다.\n",
        "4. while 반복문의 다음 줄은 반드시 들여쓰기를 해야 한다.\n",
        "5. while 반복문의 조건식에 True를 지정하면 무한 루프가 된다."
      ]
    },
    {
      "cell_type": "markdown",
      "metadata": {
        "id": "GUVVeIdYWHvw"
      },
      "source": [
        "<span style=\"color:red\">답변</span>"
      ]
    },
    {
      "cell_type": "markdown",
      "metadata": {
        "id": "TsIugo5UWHvw"
      },
      "source": [
        "2번, 3번"
      ]
    },
    {
      "cell_type": "markdown",
      "metadata": {
        "id": "1WGXTT7ZWHvw"
      },
      "source": [
        "----"
      ]
    },
    {
      "cell_type": "markdown",
      "metadata": {
        "id": "eojHXyTmWHvw"
      },
      "source": [
        "<span style=\"font-size:80%\">[문제3]<br><br></span>\n",
        "while문을 사용하여, 100 이상의 자연수 중 가장 작은 23의 배수를 츨력하는 코드를 작성해주세요"
      ]
    },
    {
      "cell_type": "markdown",
      "metadata": {
        "id": "CgTFOyGuWHvw"
      },
      "source": [
        "<span style=\"color:red\">답변</span>"
      ]
    },
    {
      "cell_type": "code",
      "source": [
        "i = 100\n",
        "while i % 23 == 0:\n",
        "       i += 1\n",
        "       break\n",
        "print(i)\n"
      ],
      "metadata": {
        "colab": {
          "base_uri": "https://localhost:8080/"
        },
        "id": "KaE2MkDUdoBv",
        "outputId": "02f6d09d-e9b3-4883-9edc-1119fb1e07b8"
      },
      "execution_count": null,
      "outputs": [
        {
          "output_type": "stream",
          "name": "stdout",
          "text": [
            "100\n"
          ]
        }
      ]
    },
    {
      "cell_type": "markdown",
      "metadata": {
        "id": "vKxg4l9DWHvw"
      },
      "source": [
        "----"
      ]
    }
  ],
  "metadata": {
    "language_info": {
      "name": "python"
    },
    "colab": {
      "provenance": [],
      "include_colab_link": true
    },
    "kernelspec": {
      "name": "python3",
      "display_name": "Python 3"
    }
  },
  "nbformat": 4,
  "nbformat_minor": 0
}