{
  "nbformat": 4,
  "nbformat_minor": 0,
  "metadata": {
    "colab": {
      "provenance": [],
      "authorship_tag": "ABX9TyMh1OnCw8fPYc4aHJx7jAST",
      "include_colab_link": true
    },
    "kernelspec": {
      "name": "python3",
      "display_name": "Python 3"
    },
    "language_info": {
      "name": "python"
    }
  },
  "cells": [
    {
      "cell_type": "markdown",
      "metadata": {
        "id": "view-in-github",
        "colab_type": "text"
      },
      "source": [
        "<a href=\"https://colab.research.google.com/github/kdu0312/education/blob/python/chapter13.ipynb\" target=\"_parent\"><img src=\"https://colab.research.google.com/assets/colab-badge.svg\" alt=\"Open In Colab\"/></a>"
      ]
    },
    {
      "cell_type": "markdown",
      "source": [
        "##시퀀스 자료형\n",
        "* 문자열 :\n",
        "        * 시퀀스형에서 사용할수 있는 메소드(count(), index(), split()등...)\n",
        "        * 슬라이스([:][::])\n",
        "        * 요소들로 이루어져 가능했던 기능들(요소합치기, 요소 착기 등등)\n",
        "\n",
        "* list :\n",
        "        * 시퀀스형에서 사용할수 있는 메소드(count(), index(), split()등...)\n",
        "        * 슬라이스([:][::])\n",
        "        * 요소들로 이루어져 가능했던 기능들(요소합치기, 요소 착기 등등)\n",
        "        * list에 지원하는 다양한 메소드(append(), insert(), del, sort(), reverse())\n",
        "\n",
        "* tuple :\n",
        "        * 리스트처럼 요소를 일렬로 저장하지만 안에 저장된 요소를 변경, 추가, 삭제할수 없다.\n",
        "        * 값을 추가, 삭제, 변경할 수 없기 떄문에 사용하지 못하는 메소드가 많다\n",
        "        * tuple의 생성 방법은 tuple = 값, 값 또는 tuple = (값, 값)\n",
        "        * 그리고 엄청난 비밀이 숨겨져 있어요\n",
        "        * 튜플은 소괄호 입니다.\n",
        "\n",
        "* dict(딕셔너리)\n",
        "        * list, tuple, str, range(범위안에 연속된 데이터를 만드는 시퀀스)\n",
        "        공통적인 특징이있어요. 데이터의 연관성이 없습니다.\n",
        "        * dict는 여러개의 값이 일렬로 정렬되면서도 연관성이 존재\n",
        "        (예시 : 게임 케릭터 힘:30, 지능:20, 체력:40, 민첨:90)\n",
        "    \n",
        "* set\n",
        "        * set은 수학의 집합을 의미합니다.\n",
        "        * 딕셔너리와 같이 순서가 없습니다.\n",
        "        * 값의 중복을 허락하지 않습니다. 아주주주주주중요합니다\n",
        "        * set 생성방법도 중괄호 사용"
      ],
      "metadata": {
        "id": "teMWO4DdHPwb"
      }
    },
    {
      "cell_type": "code",
      "execution_count": 7,
      "metadata": {
        "colab": {
          "base_uri": "https://localhost:8080/"
        },
        "id": "lA8G1MECHKkp",
        "outputId": "b0db5b01-a0fb-4d08-a4a0-5609622c36be"
      },
      "outputs": [
        {
          "output_type": "stream",
          "name": "stdout",
          "text": [
            "<class 'set'>\n",
            "{'양파', '배추', '대파', '당근'}\n",
            "<class 'set'>\n",
            "set()\n",
            "<class 'dict'>\n",
            "{}\n"
          ]
        }
      ],
      "source": [
        "채소 = {\"당근\", \"배추\", \"대파\", \"양파\"}\n",
        "\n",
        "print(type(채소))\n",
        "print(채소)\n",
        "\n",
        "# 순서가 없고 출력하면 요소가 다르게 나오는것도 특징입니다.\n",
        "\n",
        "#세트를 만드는 다양한 방법\n",
        "세트 = set()\n",
        "print(type(세트))\n",
        "print(세트)\n",
        "\n",
        "세트2 = {}\n",
        "print(type(세트2))\n",
        "print(세트2)"
      ]
    },
    {
      "cell_type": "code",
      "source": [
        "#중복을 제일 싫어하는 set\n",
        "\n",
        "사과_리스트 = list(\"apple\")\n",
        "print(type(사과_리스트))\n",
        "print(사과_리스트)\n",
        "\n",
        "사과_듀플 = tuple(\"apple\")\n",
        "print(type(사과_듀플))\n",
        "print(사과_듀플)\n",
        "\n",
        "사과_set = set(\"apple\")\n",
        "print(type(사과_set))\n",
        "print(사과_set) # 중복언어 안들어옴"
      ],
      "metadata": {
        "colab": {
          "base_uri": "https://localhost:8080/"
        },
        "id": "-a6oao9DHsgc",
        "outputId": "09d7deb9-0ea4-4d27-f9ab-d922322a2fb2"
      },
      "execution_count": 9,
      "outputs": [
        {
          "output_type": "stream",
          "name": "stdout",
          "text": [
            "<class 'list'>\n",
            "['a', 'p', 'p', 'l', 'e']\n",
            "<class 'tuple'>\n",
            "('a', 'p', 'p', 'l', 'e')\n",
            "<class 'set'>\n",
            "{'a', 'p', 'e', 'l'}\n"
          ]
        }
      ]
    },
    {
      "cell_type": "code",
      "source": [
        "# set() 자료형의 데이터 추가, 삭제, 변경\n",
        "채소\n",
        "#set() 함수의 데이터 삽입\n",
        "채소.add(\"토마토\")\n",
        "print(type(채소))\n",
        "print(채소)\n",
        "\n",
        "채소.update(\"깻잎\") # 하나하나가 다들어가짐\n",
        "print(채소)\n",
        "\n",
        "#데이터 삭제\n",
        "\n",
        "채소.remove(\"잎\") # 없는걸 삭제 할려면 오류남\n",
        "print(채소)\n",
        "\n",
        "채소.discard(\"깻\") # 없는걸 삭제 할려면 오류안남\n",
        "print(채소)\n",
        "\n",
        "print(채소.pop()) #반환 랜덤으로 삭제됨\n",
        "print(채소)"
      ],
      "metadata": {
        "colab": {
          "base_uri": "https://localhost:8080/"
        },
        "id": "_ckmMUYcItrU",
        "outputId": "053ecf15-197d-4f03-b657-5e37055b9f8e"
      },
      "execution_count": 21,
      "outputs": [
        {
          "output_type": "stream",
          "name": "stdout",
          "text": [
            "<class 'set'>\n",
            "{'토마토'}\n",
            "{'깻', '잎', '토마토'}\n",
            "{'깻', '토마토'}\n",
            "{'토마토'}\n",
            "토마토\n",
            "set()\n"
          ]
        }
      ]
    },
    {
      "cell_type": "code",
      "source": [
        "채소 = {\"당근\", \"배추\", \"대파\", \"양파\"}\n",
        "반환된_채소 = 채소.pop()\n",
        "print(f\"{반환된_채소}는 내다버린 채소입니다.\")\n",
        "\n",
        "print(채소)"
      ],
      "metadata": {
        "colab": {
          "base_uri": "https://localhost:8080/"
        },
        "id": "svLsqwW7KfHy",
        "outputId": "e0042de6-38fa-44a2-86b9-65d7e4a953be"
      },
      "execution_count": 27,
      "outputs": [
        {
          "output_type": "stream",
          "name": "stdout",
          "text": [
            "양파는 내다버린 채소입니다.\n",
            "{'배추', '대파', '당근'}\n"
          ]
        }
      ]
    },
    {
      "cell_type": "code",
      "source": [
        "# set = 집합, 합집합, 교집합, 차지합, 기타등등 표현가능함\n",
        "# 대표적으로 합집합, 교집합, 차집합\n",
        "\n",
        "채소1 = {\"당근\", \"배추\", \"대파\", \"양파\"}\n",
        "채소2 = {\"양파\", \"오이\", \"대파\", \"가지\"}\n",
        "\n",
        "#합집합(union)\n",
        "\n",
        "print(채소1|채소2)\n",
        "print(set.union(채소1, 채소2))\n",
        "\n",
        "\n",
        "#교집합(intersection)\n",
        "print(채소1 & 채소2)\n",
        "print(set.intersection(채소1, 채소2))\n",
        "\n",
        "#차집합(difference)\n",
        "print(채소1 - 채소2)\n",
        "print(set.difference(채소1, 채소2))\n",
        "\n"
      ],
      "metadata": {
        "colab": {
          "base_uri": "https://localhost:8080/"
        },
        "id": "3aley6isK1iy",
        "outputId": "7cc42934-0ddd-44fa-f619-1e12dfccc4f6"
      },
      "execution_count": 33,
      "outputs": [
        {
          "output_type": "stream",
          "name": "stdout",
          "text": [
            "{'오이', '당근', '대파', '배추', '가지', '양파'}\n",
            "{'오이', '당근', '대파', '배추', '가지', '양파'}\n",
            "{'양파', '대파'}\n",
            "{'양파', '대파'}\n",
            "{'배추', '당근'}\n",
            "{'배추', '당근'}\n"
          ]
        }
      ]
    }
  ]
}