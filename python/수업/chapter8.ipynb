{
  "nbformat": 4,
  "nbformat_minor": 0,
  "metadata": {
    "colab": {
      "provenance": [],
      "authorship_tag": "ABX9TyNaPu0rFsbGMpmi9zoIVi9k",
      "include_colab_link": true
    },
    "kernelspec": {
      "name": "python3",
      "display_name": "Python 3"
    },
    "language_info": {
      "name": "python"
    }
  },
  "cells": [
    {
      "cell_type": "markdown",
      "metadata": {
        "id": "view-in-github",
        "colab_type": "text"
      },
      "source": [
        "<a href=\"https://colab.research.google.com/github/kdu0312/education/blob/python/chapter8.ipynb\" target=\"_parent\"><img src=\"https://colab.research.google.com/assets/colab-badge.svg\" alt=\"Open In Colab\"/></a>"
      ]
    },
    {
      "cell_type": "markdown",
      "source": [
        "###자료형 종류\n",
        "\n",
        "1. int(intrger) : 정수\n",
        "\n",
        "2. float(float) : 실수\n",
        "\n",
        "3. str(string) : 문자\n",
        "\n",
        "**4. bool(bool, boolean) : 참 또는 거짓, true 또는 false, 1 또는 0**\n",
        "\n",
        "5. list\n",
        "\n",
        "6. tuple\n",
        "\n",
        "7. dict\n",
        "\n",
        "8. set : 집합"
      ],
      "metadata": {
        "id": "ocxwFhCQPihv"
      }
    },
    {
      "cell_type": "code",
      "execution_count": 2,
      "metadata": {
        "colab": {
          "base_uri": "https://localhost:8080/"
        },
        "id": "7o0zI6f_PQnc",
        "outputId": "102f59a3-6da2-465d-dfd8-fcb3082636ca"
      },
      "outputs": [
        {
          "output_type": "stream",
          "name": "stdout",
          "text": [
            "True\n",
            "False\n",
            "True\n",
            "True\n",
            "False\n"
          ]
        }
      ],
      "source": [
        "#bool의 쇼타입 시작됩니다.\n",
        "# 주의할점 대소문자 구문 True, False ==> true, false는 안됩니다.\n",
        "#부드호\n",
        "print(3>1)\n",
        "print(3==1)\n",
        "print(3==3)\n",
        "print(20!=5)\n",
        "print(20!=20)\n"
      ]
    },
    {
      "cell_type": "code",
      "source": [
        "#문자열 비교 대소문자 구문됨\n",
        "print(\"python\"=='Python')\n",
        "print(\"Python\"=='Python')\n",
        "print(\"python\"!='Python')\n",
        "print(\"Python\"!='Python')\n"
      ],
      "metadata": {
        "colab": {
          "base_uri": "https://localhost:8080/"
        },
        "id": "Q-QJNQCbQKRZ",
        "outputId": "60600cc9-ccbf-49b3-e942-4ae7d870a0ae"
      },
      "execution_count": 5,
      "outputs": [
        {
          "output_type": "stream",
          "name": "stdout",
          "text": [
            "False\n",
            "True\n",
            "True\n",
            "False\n"
          ]
        }
      ]
    },
    {
      "cell_type": "code",
      "source": [
        "#부등호\n",
        "5>=5\n",
        "5<4"
      ],
      "metadata": {
        "colab": {
          "base_uri": "https://localhost:8080/"
        },
        "id": "0qvaoSk-Qqdh",
        "outputId": "dbe16a8e-e369-4e5e-ef48-47119f6245fa"
      },
      "execution_count": 8,
      "outputs": [
        {
          "output_type": "execute_result",
          "data": {
            "text/plain": [
              "False"
            ]
          },
          "metadata": {},
          "execution_count": 8
        }
      ]
    },
    {
      "cell_type": "code",
      "source": [
        "# 중요\n",
        "# ==, is\n",
        "\n",
        "3 is 3\n",
        "3==3\n",
        "\n",
        "3.0 is 3\n",
        "3.0 ==3\n",
        "\n",
        "print(id(3.0))\n",
        "print(id(3))\n"
      ],
      "metadata": {
        "colab": {
          "base_uri": "https://localhost:8080/"
        },
        "id": "9f9F6pCoQzWI",
        "outputId": "6845ed33-b05a-41ab-8443-61fdfc53e8ca"
      },
      "execution_count": 11,
      "outputs": [
        {
          "output_type": "stream",
          "name": "stdout",
          "text": [
            "134702262854288\n",
            "10750920\n"
          ]
        },
        {
          "output_type": "stream",
          "name": "stderr",
          "text": [
            "<>:4: SyntaxWarning: \"is\" with a literal. Did you mean \"==\"?\n",
            "<>:7: SyntaxWarning: \"is\" with a literal. Did you mean \"==\"?\n",
            "<>:4: SyntaxWarning: \"is\" with a literal. Did you mean \"==\"?\n",
            "<>:7: SyntaxWarning: \"is\" with a literal. Did you mean \"==\"?\n",
            "<ipython-input-11-a77ab32b9d33>:4: SyntaxWarning: \"is\" with a literal. Did you mean \"==\"?\n",
            "  3 is 3\n",
            "<ipython-input-11-a77ab32b9d33>:7: SyntaxWarning: \"is\" with a literal. Did you mean \"==\"?\n",
            "  3.0 is 3\n"
          ]
        }
      ]
    },
    {
      "cell_type": "markdown",
      "source": [
        "**미션 값 비교에는 is를 쓰면 안되는데 그이유를 찾아서 기술 블로그에 작성해보세요**"
      ],
      "metadata": {
        "id": "1A2qh_q-RI75"
      }
    },
    {
      "cell_type": "code",
      "source": [
        "# 본격적인 놀리연사자\n",
        "# True : 1 / False : 0\n",
        "\n",
        "#and는 곱하기 ==> 내기억에 두 조건이 맞아야 트루였음\n",
        "\n",
        "print(True and True) #  1*1 = 1\n",
        "print(True and False) #  1*0 = 0\n",
        "print(False and True) #  0*1 = 0\n",
        "print(False and False) #  0*0 = 0"
      ],
      "metadata": {
        "colab": {
          "base_uri": "https://localhost:8080/"
        },
        "id": "A2eo6FxAQ8qR",
        "outputId": "1de08737-6de5-41cc-af67-2eb7de2be40f"
      },
      "execution_count": 13,
      "outputs": [
        {
          "output_type": "stream",
          "name": "stdout",
          "text": [
            "True\n",
            "False\n",
            "False\n",
            "False\n"
          ]
        }
      ]
    },
    {
      "cell_type": "code",
      "source": [
        "#or는 더하기==> 내기억에 두 조건 중 하나만 맞아도 트루였음\n",
        "\n",
        "print(True or True) #  1*1 = 1\n",
        "print(True or False) #  1*0 = 1\n",
        "print(False or True) #  0+1 = 1\n",
        "print(False or False) #  0+0 = 0"
      ],
      "metadata": {
        "colab": {
          "base_uri": "https://localhost:8080/"
        },
        "id": "y7eXkWd_SY6R",
        "outputId": "6944a77f-e218-4f26-a4b9-186908a4273f"
      },
      "execution_count": 14,
      "outputs": [
        {
          "output_type": "stream",
          "name": "stdout",
          "text": [
            "True\n",
            "True\n",
            "True\n",
            "False\n"
          ]
        }
      ]
    },
    {
      "cell_type": "code",
      "source": [
        "#not\n",
        "\n",
        "print(not True)\n",
        "print(not False)"
      ],
      "metadata": {
        "colab": {
          "base_uri": "https://localhost:8080/"
        },
        "id": "Xyzbl6fSS_Xg",
        "outputId": "197e429b-24f5-4c85-f2b2-31139636123d"
      },
      "execution_count": 16,
      "outputs": [
        {
          "output_type": "stream",
          "name": "stdout",
          "text": [
            "False\n",
            "True\n"
          ]
        }
      ]
    },
    {
      "cell_type": "code",
      "source": [
        "# 점점 복잡해지는 조건들\n",
        "\n",
        "print(10 == 12 or 6 != 2)\n",
        "print(2>5 and 7 == 7)\n",
        "print(not 14 <= 15)\n",
        "print(not 7 is 7.0)"
      ],
      "metadata": {
        "colab": {
          "base_uri": "https://localhost:8080/"
        },
        "id": "mKf74J8RTZhY",
        "outputId": "b28fee1a-1276-46c9-fa61-537a6f9d907a"
      },
      "execution_count": 17,
      "outputs": [
        {
          "output_type": "stream",
          "name": "stdout",
          "text": [
            "True\n",
            "False\n",
            "False\n",
            "True\n"
          ]
        },
        {
          "output_type": "stream",
          "name": "stderr",
          "text": [
            "<>:6: SyntaxWarning: \"is not\" with a literal. Did you mean \"!=\"?\n",
            "<>:6: SyntaxWarning: \"is not\" with a literal. Did you mean \"!=\"?\n",
            "<ipython-input-17-84c9f34e1815>:6: SyntaxWarning: \"is not\" with a literal. Did you mean \"!=\"?\n",
            "  print(not 7 is 7.0)\n"
          ]
        }
      ]
    },
    {
      "cell_type": "code",
      "source": [
        "7 is 7.0"
      ],
      "metadata": {
        "colab": {
          "base_uri": "https://localhost:8080/"
        },
        "id": "BOftLyf3T7YA",
        "outputId": "640c43c0-b1f1-490f-8994-bc3ce0fa3a21"
      },
      "execution_count": 18,
      "outputs": [
        {
          "output_type": "stream",
          "name": "stderr",
          "text": [
            "<>:1: SyntaxWarning: \"is\" with a literal. Did you mean \"==\"?\n",
            "<>:1: SyntaxWarning: \"is\" with a literal. Did you mean \"==\"?\n",
            "<ipython-input-18-8d01d0218dba>:1: SyntaxWarning: \"is\" with a literal. Did you mean \"==\"?\n",
            "  7 is 7.0\n"
          ]
        },
        {
          "output_type": "execute_result",
          "data": {
            "text/plain": [
              "False"
            ]
          },
          "metadata": {},
          "execution_count": 18
        }
      ]
    },
    {
      "cell_type": "code",
      "source": [
        "# 문자열? ==> 이게 비교가 됬었나? ==> 문자열은 트루\n",
        "\n",
        "bool(\"힘들어요 여러분\")"
      ],
      "metadata": {
        "colab": {
          "base_uri": "https://localhost:8080/"
        },
        "id": "9mnpTebJUFYw",
        "outputId": "b365782f-3b88-4e9f-ed60-057d82f6895e"
      },
      "execution_count": 19,
      "outputs": [
        {
          "output_type": "execute_result",
          "data": {
            "text/plain": [
              "True"
            ]
          },
          "metadata": {},
          "execution_count": 19
        }
      ]
    },
    {
      "cell_type": "code",
      "source": [
        "# 굉장히 중요한 내용\n",
        "# 단락 평가\n",
        "print(False and True)\n",
        "print(False and \"힘들어요\")\n",
        "print(False or \"힘들어요\") # or 은 둘중 하나만 트루여도 출력 문자열을 트루로 인식 하고 문자열을 출력\n",
        "print(False or bool(\"힘들어요\")) # or 은 둘중 하나만 트루여도 출력 문자열을 트루로 인식 하고 문자열을 출력 bool 써서 트루값 확인\n"
      ],
      "metadata": {
        "colab": {
          "base_uri": "https://localhost:8080/"
        },
        "id": "ofOU1VdbURzS",
        "outputId": "7fc3827b-6d26-4cca-cb33-d6f45b4fbb0d"
      },
      "execution_count": 26,
      "outputs": [
        {
          "output_type": "stream",
          "name": "stdout",
          "text": [
            "False\n",
            "False\n",
            "힘들어요\n",
            "True\n"
          ]
        }
      ]
    },
    {
      "cell_type": "code",
      "source": [],
      "metadata": {
        "id": "pKJSeMySVBQI"
      },
      "execution_count": null,
      "outputs": []
    }
  ]
}