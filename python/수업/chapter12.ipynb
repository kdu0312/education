{
  "nbformat": 4,
  "nbformat_minor": 0,
  "metadata": {
    "colab": {
      "provenance": [],
      "authorship_tag": "ABX9TyP+LJzlCWfikJulblETvvvk",
      "include_colab_link": true
    },
    "kernelspec": {
      "name": "python3",
      "display_name": "Python 3"
    },
    "language_info": {
      "name": "python"
    }
  },
  "cells": [
    {
      "cell_type": "markdown",
      "metadata": {
        "id": "view-in-github",
        "colab_type": "text"
      },
      "source": [
        "<a href=\"https://colab.research.google.com/github/kdu0312/education/blob/python/chapter12.ipynb\" target=\"_parent\"><img src=\"https://colab.research.google.com/assets/colab-badge.svg\" alt=\"Open In Colab\"/></a>"
      ]
    },
    {
      "cell_type": "markdown",
      "source": [
        "##시퀀스 자료형\n",
        "* 문자열 :\n",
        "        * 시퀀스형에서 사용할수 있는 메소드(count(), index(), split()등...)\n",
        "        * 슬라이스([:][::])\n",
        "        * 요소들로 이루어져 가능했던 기능들(요소합치기, 요소 착기 등등)\n",
        "\n",
        "* list :\n",
        "        * 시퀀스형에서 사용할수 있는 메소드(count(), index(), split()등...)\n",
        "        * 슬라이스([:][::])\n",
        "        * 요소들로 이루어져 가능했던 기능들(요소합치기, 요소 착기 등등)\n",
        "        * list에 지원하는 다양한 메소드(append(), insert(), del, sort(), reverse())\n",
        "\n",
        "* tuple :\n",
        "        * 리스트처럼 요소를 일렬로 저장하지만 안에 저장된 요소를 변경, 추가, 삭제할수 없다.\n",
        "        * 값을 추가, 삭제, 변경할 수 없기 떄문에 사용하지 못하는 메소드가 많다\n",
        "        * tuple의 생성 방법은 tuple = 값, 값 또는 tuple = (값, 값)\n",
        "        * 그리고 엄청난 비밀이 숨겨져 있어요\n",
        "        * 튜플은 소괄호 입니다.\n",
        "\n",
        "* dict(딕셔너리)\n",
        "        * list, tuple, str, range(범위안에 연속된 데이터를 만드는 시퀀스)\n",
        "        공통적인 특징이있어요. 데이터의 연관성이 없습니다.\n",
        "        * dict는 여러개의 값이 일렬로 정렬되면서도 연관성이 존재\n",
        "        (예시 : 게임 케릭터 힘:30, 지능:20, 체력:40, 민첨:90)\n",
        "        "
      ],
      "metadata": {
        "id": "rKZOgUUfikho"
      }
    },
    {
      "cell_type": "code",
      "execution_count": 9,
      "metadata": {
        "colab": {
          "base_uri": "https://localhost:8080/"
        },
        "id": "TF8-h4O3iIzX",
        "outputId": "fb75d9c4-3476-4f74-d7a8-006821b1f4e6"
      },
      "outputs": [
        {
          "output_type": "stream",
          "name": "stdout",
          "text": [
            "짱짱맨님은 힘이 30입니다.\n"
          ]
        }
      ],
      "source": [
        "#list 대괄호, tuple(), dict{} 중괄호\n",
        "\n",
        "짱짱맨 = {\"힘\":30, \"지능\":20, \"체력\":40, \"민첩\":90}\n",
        "\n",
        "# {키 : 값}\n",
        "# {key1:value1, key2:value2}\n",
        "\n",
        "# 시퀀스 데이터는 인덱싱을 이용해 데이터를 찾았습니다.\n",
        "\n",
        "# 짱짱맨[1]\n",
        "짱짱맨[\"힘\"]\n",
        "print(f'짱짱맨님은 힘이 {짱짱맨[\"힘\"]}입니다.')"
      ]
    },
    {
      "cell_type": "code",
      "source": [
        "# 딕셔너리를 만드는 다양한 방법\n",
        "\n",
        "# 빈 딕셔너리 만들기\n",
        "딕셔너리 = {}\n",
        "print(딕셔너리)\n",
        "\n",
        "딕셔너리2 = dict()\n",
        "print(딕셔너리2)\n",
        "\n",
        "#값을 넣어 만드는 방법\n",
        "\n",
        "#dict()로 생성시 값 넣는 기호 \"\" , : 주의 하세요\"\n",
        "딕셔너리3 = dict(힘=30, 지능=20, 체력=40, 민첩=90)\n",
        "print(딕셔너리3)\n",
        "\n",
        "\n",
        "#zip() : 병렬처리를 도와줍니다\n",
        "딕셔너리4 = dict(zip([\"힘\", \"지능\", \"체력\", \"민첩\"], [30,40,50,60])) #배열 갯수 잘맞춰야함\n",
        "print(딕셔너리4)\n"
      ],
      "metadata": {
        "colab": {
          "base_uri": "https://localhost:8080/"
        },
        "id": "x983RFmP5pAq",
        "outputId": "2791f39e-6a67-4d47-b3a4-8da5aa3c5f5d"
      },
      "execution_count": 13,
      "outputs": [
        {
          "output_type": "stream",
          "name": "stdout",
          "text": [
            "{}\n",
            "{}\n",
            "{'힘': 30, '지능': 20, '체력': 40, '민첩': 90}\n",
            "{'힘': 30, '지능': 40, '체력': 50, '민첩': 60}\n"
          ]
        }
      ]
    },
    {
      "cell_type": "code",
      "source": [
        "# 값의 중복은 허락되는데, 키의 중복은 허락하지 않습니다.\n",
        "\n",
        "짱짱맨 = {\"힘\":30, \"지능\":20, \"체력\":40, \"민첩\":90, \"힘\":40, \"지구력\":90} # 가장 뒤에있는 힘값만 들어감\n",
        "print(짱짱맨)\n",
        "\n",
        "\"체력\" in 짱짱맨 # 참, 거짓"
      ],
      "metadata": {
        "colab": {
          "base_uri": "https://localhost:8080/"
        },
        "id": "hYPcmmNv6Q9C",
        "outputId": "91c7de0c-b282-42af-b4f6-1e48c0333c2e"
      },
      "execution_count": 16,
      "outputs": [
        {
          "output_type": "stream",
          "name": "stdout",
          "text": [
            "{'힘': 40, '지능': 20, '체력': 40, '민첩': 90, '지구력': 90}\n"
          ]
        },
        {
          "output_type": "execute_result",
          "data": {
            "text/plain": [
              "True"
            ]
          },
          "metadata": {},
          "execution_count": 16
        }
      ]
    },
    {
      "cell_type": "code",
      "source": [
        "#딕셔너리에 다양한 메소드\n",
        "\n",
        "print(짱짱맨.keys())\n",
        "print(짱짱맨.values())\n",
        "\n",
        "print(짱짱맨.items())\n",
        "print(type(짱짱맨.items()))\n",
        "\n",
        "리스트화된_짱짱맨 = list(짱짱맨.items())\n",
        "print(리스트화된_짱짱맨)\n",
        "print(type(리스트화된_짱짱맨))\n",
        "print(리스트화된_짱짱맨[0])\n"
      ],
      "metadata": {
        "colab": {
          "base_uri": "https://localhost:8080/"
        },
        "id": "JAKpicYC7R_6",
        "outputId": "344b8153-e6f5-46cb-95bd-2fd0bd03f0d8"
      },
      "execution_count": 27,
      "outputs": [
        {
          "output_type": "stream",
          "name": "stdout",
          "text": [
            "dict_keys(['힘', '지능', '체력', '민첩', '지구력'])\n",
            "dict_values([40, 20, 40, 90, 90])\n",
            "dict_items([('힘', 40), ('지능', 20), ('체력', 40), ('민첩', 90), ('지구력', 90)])\n",
            "<class 'dict_items'>\n",
            "[('힘', 40), ('지능', 20), ('체력', 40), ('민첩', 90), ('지구력', 90)]\n",
            "<class 'list'>\n",
            "('힘', 40) [1]\n"
          ]
        }
      ]
    },
    {
      "cell_type": "code",
      "source": [
        "#딕셔너리 값 추가, 삭제, 변경\n",
        "\n",
        "print(짱짱맨)\n",
        "\n",
        "#del 짱짱맨[\"지구력\"]\n",
        "#print(짱짱맨)\n",
        "\n",
        "#딕셔너리 값 변경\n",
        "#짱짱맨 [\"지능\"]=100\n",
        "#print(짱짱맨)\n",
        "\n",
        "#딕셔너리 값 추가\n",
        "짱짱맨.update({\"손재주\":80, \"매력\":100})\n",
        "print(짱짱맨)"
      ],
      "metadata": {
        "colab": {
          "base_uri": "https://localhost:8080/"
        },
        "id": "E05tzCGO7bTz",
        "outputId": "c9b764e1-9ca1-44e5-d011-8584b86cd15b"
      },
      "execution_count": 37,
      "outputs": [
        {
          "output_type": "stream",
          "name": "stdout",
          "text": [
            "{'힘': 40, '지능': 100, '체력': 40, '민첩': 90, '손재주': 80, '매력': 100}\n",
            "{'힘': 40, '지능': 100, '체력': 40, '민첩': 90, '손재주': 80, '매력': 100}\n"
          ]
        }
      ]
    },
    {
      "cell_type": "code",
      "source": [
        "코디 = {\n",
        "    \"모자\" : {\n",
        "        \"캡\" : \"발렌시아\",\n",
        "        \"비니\" : \"나이키\"\n",
        "    },\n",
        "    '상의' : {\n",
        "        \"후드티\" : \"칼하트\",\n",
        "        \"맨투맨\" : \"슈프림\"\n",
        "    }\n",
        "}\n",
        "\n",
        "print(코디)\n",
        "print(코디['모자'])\n",
        "print(코디['모자']['캡'])\n"
      ],
      "metadata": {
        "colab": {
          "base_uri": "https://localhost:8080/"
        },
        "id": "2lPI9E6a9EAq",
        "outputId": "c9593709-c337-4c0a-e8df-8f29034ff54c"
      },
      "execution_count": 57,
      "outputs": [
        {
          "output_type": "stream",
          "name": "stdout",
          "text": [
            "{'모자': {'캡': '발렌시아', '비니': '나이키'}, '상의': {'후드티': '칼하트', '맨투맨': '슈프림'}}\n",
            "{'캡': '발렌시아', '비니': '나이키'}\n",
            "발렌시아\n"
          ]
        }
      ]
    },
    {
      "cell_type": "markdown",
      "source": [
        "*해시, 해시맵, 해시테이블 ==> 열심히 공부합시다"
      ],
      "metadata": {
        "id": "5IrGz9_q_OkE"
      }
    },
    {
      "cell_type": "code",
      "source": [
        "#dict 이력서를 작성했어요. 붕어빵인터내셔널 채용공고 열정만 있으면 오세요\n",
        "#바로 오라고하는게 이상해요\n",
        "#아무도 없이 코드만 있어요....레거시\n",
        "#리팩토링 해달라고합니다.\n",
        "\n",
        "#fish_p, fish_s, fish_j = \"붕어빵(팥)\", \"붕어빵(슈크림)\", \"붕어빵(잡체)\"\n",
        "fish_p, fish_s, fish_j = input(\"붕어빵(팥), 붕어빵(슈크림), 붕어빵(잡체)룰 순서대로 개수를 입력하고 꼭 쉼표를 입력하고 그리고 안사는 붕어빵에는 0을 넣어주세요\")\n",
        "\n",
        "fish_p = 2000\n",
        "fish_s = 2500\n",
        "fish_j = 3000\n",
        "\n",
        "sum = fish_j*3 + fish_s*2\n",
        "print(f'주문이 완료되었습니다. 붕어빵(슈크림)2개, 붕어빵(잡채) 3개 총 5개 결제금액은 {sum}원입니다.')"
      ],
      "metadata": {
        "id": "WBrOrAUq_dwV"
      },
      "execution_count": null,
      "outputs": []
    }
  ]
}