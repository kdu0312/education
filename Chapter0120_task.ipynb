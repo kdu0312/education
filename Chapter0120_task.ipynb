{
  "cells": [
    {
      "cell_type": "markdown",
      "metadata": {
        "id": "view-in-github",
        "colab_type": "text"
      },
      "source": [
        "<a href=\"https://colab.research.google.com/github/kdu0312/education/blob/python/Chapter0120_task.ipynb\" target=\"_parent\"><img src=\"https://colab.research.google.com/assets/colab-badge.svg\" alt=\"Open In Colab\"/></a>"
      ]
    },
    {
      "cell_type": "markdown",
      "metadata": {
        "id": "aLkxKxnFLowa"
      },
      "source": [
        "안녕하세요. 수강생 여러분~! Chapter17 ~ 20 수업은 잘 들으셨나요?\n",
        "\n",
        "Chapter01 ~ 20의 수업 내용을 바탕으로 아래 문제를 풀어주시면 됩니다.\n",
        "\n",
        "저번에 했던 \"붕어빵 자동 판매 시스템\"을 리팩토링 해봅시다 !!!\n",
        "\n",
        "못해도 괜찮아요 ! 같이 해봅시다 !\n",
        "\n",
        "<br>\n",
        "\n",
        "\n",
        "[**답변 입력 방법**]\n",
        "\n",
        "문제 아래에 있는 코드 입력창에 정답코드를 작성하신 후  __▷ 버튼을 클릭해 코드를 실행__ 해보세요<br>"
      ]
    },
    {
      "cell_type": "markdown",
      "metadata": {
        "id": "ZdMKamWC9Jy3"
      },
      "source": [
        "### 리팩토링 과제\n",
        "\n",
        "Day4에서 만든 \"붕어빵 자동 판매 시스템\"은 절차적 코드로 구현되어있습니다.\n",
        "<br>\n",
        "\n",
        "Day5에서 배운 함수, 클래스 개념을 적용시켜 객체지향적으로 리팩토링을 진행해주세요\n"
      ]
    },
    {
      "cell_type": "code",
      "execution_count": null,
      "metadata": {
        "colab": {
          "base_uri": "https://localhost:8080/",
          "height": 106
        },
        "id": "GxSHnutX9Jy4",
        "outputId": "3b1a52a3-0bec-4b82-cc32-f525c8d96165"
      },
      "outputs": [
        {
          "output_type": "error",
          "ename": "IndentationError",
          "evalue": "expected an indented block after function definition on line 4 (<ipython-input-1-73b5b2c35d73>, line 6)",
          "traceback": [
            "\u001b[0;36m  File \u001b[0;32m\"<ipython-input-1-73b5b2c35d73>\"\u001b[0;36m, line \u001b[0;32m6\u001b[0m\n\u001b[0;31m    def check_stock(self):\u001b[0m\n\u001b[0m    ^\u001b[0m\n\u001b[0;31mIndentationError\u001b[0m\u001b[0;31m:\u001b[0m expected an indented block after function definition on line 4\n"
          ]
        }
      ],
      "source": [
        "# 리팩토링 과제 힌트\n",
        "# 구조는 아래와 같습니다.\n",
        "class BungeoppangShop:\n",
        "    def __init__(self):\n",
        "\n",
        "    def check_stock(self):\n",
        "\n",
        "    def process_order(self, bread_type, bread_count):\n",
        "\n",
        "    def admin_mode(self):\n",
        "\n",
        "    def calculate_total_sales(self):\n",
        "\n",
        "def main():\n",
        "\n",
        "if __name__ == \"__main__\":\n",
        "    main()\n"
      ]
    },
    {
      "cell_type": "markdown",
      "metadata": {
        "id": "hDYAQ6Yq9Jy4"
      },
      "source": [
        "__BungeoppangShop 클래스__\n",
        "\n",
        "- __init__(): 초기 재고, 가격, 판매량을 설정합니다.\n",
        "- check_stock(): 현재 재고를 출력합니다.\n",
        "- process_order(): 주문을 처리하고 재고를 업데이트합니다.\n",
        "- admin_mode(): 관리자 모드에서 재고를 추가합니다.\n",
        "- calculate_total_sales(): 총 매출을 계산하고 출력합니다."
      ]
    },
    {
      "cell_type": "markdown",
      "metadata": {
        "id": "mqoBOYlt9Jy5"
      },
      "source": [
        "__[과제 1: 초기화 메서드 __init__]__\n",
        "\n",
        "목표: __init__ 메서드를 구현하여 붕어빵 가게의 초기 재고, 가격, 판매량을 설정합니다.\n",
        "\n",
        "설명: self.stock, self.prices, self.sales 딕셔너리를 초기화하세요.\n",
        "- stock\n",
        "    - \"팥붕어빵\": 10\n",
        "    - \"슈크림붕어빵\": 8\n",
        "    - \"초코붕어빵\": 5\n",
        "\n",
        "- prices\n",
        "    - \"팥붕어빵\": 1000\n",
        "    - \"슈크림붕어빵\": 1200\n",
        "    - \"초코붕어빵\": 1500\n",
        "\n",
        "- sales\n",
        "    - \"팥붕어빵\": 0,\n",
        "    - \"슈크림붕어빵\": 0,\n",
        "    - \"초코붕어빵\": 0"
      ]
    },
    {
      "cell_type": "code",
      "execution_count": null,
      "metadata": {
        "id": "YdgLcyPW9Jy5"
      },
      "outputs": [],
      "source": [
        "def __init__(self):\n",
        "    self.stock = {\n",
        "        \"팥붕어빵\": 10,\n",
        "        \"슈크림붕어빵\": 8,\n",
        "        \"초코붕어빵\": 5\n",
        "    }\n",
        "\n",
        "    self.prices = {\n",
        "        \"팥붕어빵\": 1000,\n",
        "        \"슈크림붕어빵\": 1200,\n",
        "        \"초코붕어빵\": 1500\n",
        "    }\n",
        "    self.sales = {\n",
        "        \"팥붕어빵\": 0,\n",
        "        \"슈크림붕어빵\": 0,\n",
        "        \"초코붕어빵\": 0\n",
        "    }"
      ]
    },
    {
      "cell_type": "markdown",
      "metadata": {
        "id": "8AniMv3n9Jy5"
      },
      "source": [
        "__[과제 2: 재고 확인 메서드 check_stock]__\n",
        "\n",
        "목표: check_stock 함수를 구현하여 현재 붕어빵 재고를 출력합니다.\n",
        "\n",
        "설명: self.stock 딕셔너리를 순회하며 각 붕어빵의 종류와 재고를 출력하세요.\n"
      ]
    },
    {
      "cell_type": "code",
      "execution_count": null,
      "metadata": {
        "id": "f8ezxIgm9Jy5",
        "colab": {
          "base_uri": "https://localhost:8080/"
        },
        "outputId": "615358e6-b0dc-4aa9-8ad3-9f804a74b599"
      },
      "outputs": [
        {
          "output_type": "stream",
          "name": "stdout",
          "text": [
            "현재 재고:\n",
            "팥붕어빵: 10개\n",
            "슈크림붕어빵: 8개\n",
            "초코붕어빵: 5개\n"
          ]
        }
      ],
      "source": [
        "def check_stock(self):\n",
        "    print(\"현재 재고:\")\n",
        "    for bread_type, stock in self.stock.items():\n",
        "        print(f\"{bread_type}: {stock}\")\n",
        "\n",
        "shop = BungeoppangShop()\n",
        "shop.check_stock()"
      ]
    },
    {
      "cell_type": "markdown",
      "metadata": {
        "id": "hZHPZu-s9Jy5"
      },
      "source": [
        "__[과제 3: 주문 처리 메서드 process_order]__\n",
        "\n",
        "목표: process_order 함수를 구현하여 손님의 주문을 처리하고 재고를 업데이트합니다.\n",
        "\n",
        "설명: bread_type과 bread_count를 매개변수로 받아, 재고를 확인하고 충분한 경우 재고를 감소시키고 판매량을 증가시킵니다. 재고가 부족하거나 잘못된 붕어빵 종류인 경우 적절한 메시지를 출력하세요."
      ]
    },
    {
      "cell_type": "code",
      "execution_count": null,
      "metadata": {
        "id": "of8Ngt859Jy6",
        "colab": {
          "base_uri": "https://localhost:8080/"
        },
        "outputId": "23f7701f-c6a7-4645-b362-a508493a36e9"
      },
      "outputs": [
        {
          "output_type": "stream",
          "name": "stdout",
          "text": [
            "주문할 붕어빵의 종류를 입력해주세요 : (종료하시려면 '종료'를 입력해주세요) 팥붕어빵\n",
            "주문할 붕어빵의 개수를 입력해주세요 : 5\n",
            "5개의 팥붕어빵을 주문하셨습니다.\n",
            "주문할 붕어빵의 종류를 입력해주세요 : (종료하시려면 '종료'를 입력해주세요) 슈크림붕어빵\n",
            "주문할 붕어빵의 개수를 입력해주세요 : 3\n",
            "3개의 슈크림붕어빵을 주문하셨습니다.\n",
            "주문할 붕어빵의 종류를 입력해주세요 : (종료하시려면 '종료'를 입력해주세요) 종료\n",
            "종료합니다.\n",
            "현재 재고:\n",
            "팥붕어빵: 5개\n",
            "슈크림붕어빵: 5개\n",
            "초코붕어빵: 5개\n"
          ]
        }
      ],
      "source": [
        "    def process_order(self, bread_type, bread_count):\n",
        "        while True:\n",
        "\n",
        "            bread_type = input(\"주문할 붕어빵의 종류를 입력해주세요 : (종료하시려면 '종료'를 입력해주세요) \")\n",
        "\n",
        "            if bread_type == \"종료\":\n",
        "                print(\"종료합니다.\")\n",
        "                break\n",
        "\n",
        "            if bread_type not in self.stock:\n",
        "                print(\"존재하지않는 종류입니다.\")\n",
        "                print(\"다시 선택 해주세요\")\n",
        "                continue\n",
        "\n",
        "            while True:#재고 부족시 다시 개수입력\n",
        "                try:\n",
        "                    bread_count = int(input(\"주문할 붕어빵의 개수를 입력해주세요 : \"))\n",
        "\n",
        "                    if bread_type in self.stock:\n",
        "                        if self.stock[bread_type] >= bread_count:\n",
        "                            self.stock[bread_type] -= bread_count\n",
        "                            self.sales[bread_type] += bread_count\n",
        "                            print(f\"{bread_count}개의 {bread_type}을 주문하셨습니다.\")\n",
        "                            break\n",
        "\n",
        "                        else:\n",
        "                            print(f\"재고가 부족합니다. 현재 재고: {self.stock[bread_type]}\")\n",
        "                            print(\"다시 선택 해주세요\")\n",
        "                            continue\n",
        "\n",
        "                except ValueError:\n",
        "                    print(\"숫자를 입력해주세요.\")\n",
        "                    continue\n",
        "\n",
        "\n",
        "shop = BungeoppangShop()\n",
        "shop.process_order(\"bread_type\",0)\n",
        "shop.check_stock()#함수 잘돌아가는지 확인용"
      ]
    },
    {
      "cell_type": "markdown",
      "metadata": {
        "id": "M2uSoTbj9Jy6"
      },
      "source": [
        "__[과제 4: 관리자 모드 메서드 admin_mode]__\n",
        "\n",
        "목표: admin_mode 메서드를 구현하여 관리자 모드에서 재고를 추가할 수 있도록 합니다.\n",
        "\n",
        "설명: bread_type과 additional_stock을 입력받아 재고를 추가합니다. 잘못된 입력 값이 들어온 경우 적절한 메시지를 출력하세요."
      ]
    },
    {
      "cell_type": "code",
      "execution_count": null,
      "metadata": {
        "id": "dEKJKW4-9Jy6",
        "colab": {
          "base_uri": "https://localhost:8080/"
        },
        "outputId": "a98a0acf-407a-4d9f-e398-827aeb668532"
      },
      "outputs": [
        {
          "output_type": "stream",
          "name": "stdout",
          "text": [
            "추가할 붕어빵의 종류를 입력해주세요 : (종료하시려면 '종료'를 입력해주세요) 팥붕어빵\n",
            "추가할 붕어빵의 개수를 입력해주세요 : 12\n",
            "12개의 팥붕어빵을 추가하셨습니다.\n",
            "추가할 붕어빵의 종류를 입력해주세요 : (종료하시려면 '종료'를 입력해주세요) 슈크림붕어빵\n",
            "추가할 붕어빵의 개수를 입력해주세요 : 2\n",
            "2개의 슈크림붕어빵을 추가하셨습니다.\n",
            "추가할 붕어빵의 종류를 입력해주세요 : (종료하시려면 '종료'를 입력해주세요) 초초초\n",
            "존재하지않는 종류입니다.\n",
            "추가할 붕어빵의 종류를 입력해주세요 : (종료하시려면 '종료'를 입력해주세요) 초코붕어빵\n",
            "추가할 붕어빵의 개수를 입력해주세요 : 1\n",
            "1개의 초코붕어빵을 추가하셨습니다.\n",
            "추가할 붕어빵의 종류를 입력해주세요 : (종료하시려면 '종료'를 입력해주세요) 종료\n",
            "종료합니다.\n",
            "현재 재고:\n",
            "팥붕어빵: 22개\n",
            "슈크림붕어빵: 10개\n",
            "초코붕어빵: 6개\n"
          ]
        }
      ],
      "source": [
        "    def admin_mode(self):\n",
        "        while True:\n",
        "            bread_type = input(\"추가할 붕어빵의 종류를 입력해주세요 : (종료하시려면 '종료'를 입력해주세요) \")\n",
        "\n",
        "            if bread_type == \"종료\":\n",
        "                print(\"종료합니다.\")\n",
        "                break\n",
        "\n",
        "            if bread_type not in self.stock:\n",
        "                print(\"존재하지않는 종류입니다.\")\n",
        "                continue\n",
        "\n",
        "            while True:\n",
        "                try:\n",
        "                    bread_count = int(input(\"추가할 붕어빵의 개수를 입력해주세요 : \"))\n",
        "                    self.stock[bread_type] += bread_count\n",
        "                    print(f\"{bread_count}개의 {bread_type}을 추가하셨습니다.\")\n",
        "                    break\n",
        "\n",
        "                except ValueError:\n",
        "                    print(\"숫자를 입력해주세요.\")\n",
        "                    continue\n",
        "\n",
        "shop = BungeoppangShop()\n",
        "shop.admin_mode()\n",
        "shop.check_stock()"
      ]
    },
    {
      "cell_type": "markdown",
      "metadata": {
        "id": "aUoSaJVf9Jy6"
      },
      "source": [
        "\n",
        "__[과제 5: 매출 계산 메서드 calculate_total_sales]__\n",
        "\n",
        "목표: calculate_total_sales 메서드를 구현하여 총 매출을 계산하고 출력합니다.\n",
        "\n",
        "설명: self.sales와 self.prices를 사용하여 총 매출을 계산하고 출력하세요."
      ]
    },
    {
      "cell_type": "code",
      "execution_count": null,
      "metadata": {
        "id": "uy9r7Osz9Jy6"
      },
      "outputs": [],
      "source": [
        "    def calculate_total_sales(self):\n",
        "        total_sales = sum(self.sales[bread_type] * self.prices[bread_type] for bread_type in self.sales)\n",
        "        print(f\"총 매출: {total_sales}원\")\n",
        "        print(\"모든 거래 내역:\")\n",
        "        for bread_type in self.sales:\n",
        "            print(f\"{bread_type} 판매: {self.sales[bread_type]}개, 매출: {self.sales[bread_type] * self.prices[bread_type]}원\")\n",
        "\n",
        "shop = BungeoppangShop()\n",
        "shop.process_order(\"bread_type\",0)\n",
        "shop.check_stock()\n",
        "shop.calculate_total_sales()"
      ]
    },
    {
      "cell_type": "markdown",
      "metadata": {
        "id": "m6JJXpkq9Jy6"
      },
      "source": [
        "__[과제 6: 메인 함수 main]__\n",
        "\n",
        "목표: main 함수를 작성하여 프로그램의 주요 로직을 실행합니다.\n",
        "\n",
        "설명:\n",
        "- BungeoppangShop 객체를 생성합니다.\n",
        "- 사용자에게 모드를 선택하도록 요청합니다.\n",
        "- \"주문\" 모드에서는 손님의 주문을 처리하고, \"관리자\" 모드에서는 재고를 추가할 수 있습니다.\n",
        "- 프로그램이 종료될 때 총 매출을 계산하고 데이터를 저장합니다.\n"
      ]
    },
    {
      "cell_type": "code",
      "execution_count": 144,
      "metadata": {
        "id": "G0o39f459Jy6",
        "colab": {
          "base_uri": "https://localhost:8080/"
        },
        "outputId": "f47be3ff-0bf8-4b39-aac7-38b63fc0649c"
      },
      "outputs": [
        {
          "output_type": "stream",
          "name": "stdout",
          "text": [
            "모드를 선택해주세요 (주문, 관리자, 종료) : 주문\n",
            "입력된 모드는 [주문]\n",
            "주문할 붕어빵의 종류를 입력해주세요 : (종료하시려면 '종료'를 입력해주세요) 팥붕어빵\n",
            "주문할 붕어빵의 개수를 입력해주세요 : 5\n",
            "5개의 팥붕어빵을 주문하셨습니다.\n",
            "주문할 붕어빵의 종류를 입력해주세요 : (종료하시려면 '종료'를 입력해주세요) 종료\n",
            "종료합니다.\n",
            "현재 재고:\n",
            "팥붕어빵: 5개\n",
            "슈크림붕어빵: 8개\n",
            "초코붕어빵: 5개\n",
            "모드를 선택해주세요 (주문, 관리자, 종료) : 종료\n",
            "입력된 모드는 [종료]\n",
            "종료합니다.\n"
          ]
        }
      ],
      "source": [
        "    def main():\n",
        "        shop = BungeoppangShop()\n",
        "\n",
        "        while True:\n",
        "            mode = input(\"모드를 선택해주세요 (주문, 관리자, 종료) : \")\n",
        "            print(f\"입력된 모드는 [{mode}]\")\n",
        "\n",
        "            if mode == \"종료\":\n",
        "                print(\"종료합니다.\")\n",
        "                shop.calculate_total_sales()#출력이안된다 도데체 뭐가 문제일까....\n",
        "                break\n",
        "\n",
        "            if mode == \"관리자\":\n",
        "                shop.admin_mode()\n",
        "                shop.check_stock()\n",
        "                continue\n",
        "\n",
        "            if mode == \"주문\":\n",
        "                shop.process_order(\"bread_type\",0)\n",
        "                shop.check_stock()\n",
        "                continue\n",
        "\n",
        "            else:\n",
        "                print(\"잘못된 입력입니다.\")\n",
        "                continue\n",
        "\n",
        "\n",
        "shop.main()"
      ]
    },
    {
      "cell_type": "markdown",
      "metadata": {
        "id": "2Uj_5fap9Jy6"
      },
      "source": [
        "__[과제 7: 최종 BungeoppangShop 클래스]__\n",
        "\n",
        "함수로 리팩토링한 \"붕어빵 자동 판매 시스템\" 작성 후 실행합니다."
      ]
    },
    {
      "cell_type": "code",
      "execution_count": 147,
      "metadata": {
        "id": "Zvp-YXLA9Jy7",
        "colab": {
          "base_uri": "https://localhost:8080/"
        },
        "outputId": "84493358-79de-4611-c8e0-a72d8950b09e"
      },
      "outputs": [
        {
          "output_type": "stream",
          "name": "stdout",
          "text": [
            "모드를 선택해주세요 (주문, 관리자, 종료) : 주문\n",
            "입력된 모드는 [주문]\n",
            "주문할 붕어빵의 종류를 입력해주세요 : (종료하시려면 '종료'를 입력해주세요) 팥붕어빵\n",
            "주문할 붕어빵의 개수를 입력해주세요 : 5\n",
            "5개의 팥붕어빵을 주문하셨습니다.\n",
            "주문할 붕어빵의 종류를 입력해주세요 : (종료하시려면 '종료'를 입력해주세요) 종료\n",
            "종료합니다.\n",
            "현재 재고:\n",
            "팥붕어빵: 5개\n",
            "슈크림붕어빵: 8개\n",
            "초코붕어빵: 5개\n",
            "모드를 선택해주세요 (주문, 관리자, 종료) : 관리자\n",
            "입력된 모드는 [관리자]\n",
            "추가할 붕어빵의 종류를 입력해주세요 : (종료하시려면 '종료'를 입력해주세요) 팥붕어빵\n",
            "추가할 붕어빵의 개수를 입력해주세요 : 5\n",
            "5개의 팥붕어빵을 추가하셨습니다.\n",
            "추가할 붕어빵의 종류를 입력해주세요 : (종료하시려면 '종료'를 입력해주세요) 종료\n",
            "종료합니다.\n",
            "현재 재고:\n",
            "팥붕어빵: 10개\n",
            "슈크림붕어빵: 8개\n",
            "초코붕어빵: 5개\n",
            "모드를 선택해주세요 (주문, 관리자, 종료) : 종료\n",
            "입력된 모드는 [종료]\n",
            "종료합니다.\n",
            "팥붕어빵 매출: 5000원\n",
            "슈크림붕어빵 매출: 0원\n",
            "초코붕어빵 매출: 0원\n",
            "총 매출: 5000원\n"
          ]
        }
      ],
      "source": [
        "class BungeoppangShop:\n",
        "    def __init__(self):\n",
        "        self.stock = {\n",
        "            \"팥붕어빵\": 10,\n",
        "            \"슈크림붕어빵\": 8,\n",
        "            \"초코붕어빵\": 5\n",
        "         }\n",
        "\n",
        "        self.prices = {\n",
        "            \"팥붕어빵\": 1000,\n",
        "            \"슈크림붕어빵\": 1200,\n",
        "            \"초코붕어빵\": 1500\n",
        "        }\n",
        "\n",
        "        self.sales = {\n",
        "            \"팥붕어빵\": 0,\n",
        "            \"슈크림붕어빵\": 0,\n",
        "            \"초코붕어빵\": 0\n",
        "        }\n",
        "    def check_stock(self):\n",
        "        print(\"현재 재고:\")\n",
        "        for bread_type, quantity in self.stock.items():\n",
        "            print(f\"{bread_type}: {quantity}개\")\n",
        "\n",
        "    def process_order(self, bread_type, bread_count):\n",
        "        while True:\n",
        "            bread_type = input(\"주문할 붕어빵의 종류를 입력해주세요 : (종료하시려면 '종료'를 입력해주세요) \")\n",
        "\n",
        "            if bread_type == \"종료\":\n",
        "                print(\"종료합니다.\")\n",
        "                break\n",
        "\n",
        "            if bread_type not in self.stock:\n",
        "                print(\"존재하지않는 종류입니다.\")\n",
        "                print(\"다시 선택 해주세요\")\n",
        "                continue\n",
        "\n",
        "            while True:\n",
        "                try:\n",
        "                    bread_count = int(input(\"주문할 붕어빵의 개수를 입력해주세요 : \"))\n",
        "\n",
        "                    if bread_type in self.stock:\n",
        "                        if self.stock[bread_type] >= bread_count:\n",
        "                            self.stock[bread_type] -= bread_count\n",
        "                            self.sales[bread_type] += bread_count\n",
        "                            print(f\"{bread_count}개의 {bread_type}을 주문하셨습니다.\")\n",
        "                            break\n",
        "\n",
        "                        else:\n",
        "                            print(f\"재고가 부족합니다. 현재 재고: {self.stock[bread_type]}\")\n",
        "                            print(\"다시 선택 해주세요\")\n",
        "                            continue\n",
        "\n",
        "                except ValueError:\n",
        "                    print(\"숫자를 입력해주세요.\")\n",
        "                    continue\n",
        "\n",
        "                continue\n",
        "\n",
        "    def admin_mode(self):\n",
        "        while True:\n",
        "            bread_type = input(\"추가할 붕어빵의 종류를 입력해주세요 : (종료하시려면 '종료'를 입력해주세요) \")\n",
        "\n",
        "            if bread_type == \"종료\":\n",
        "                print(\"종료합니다.\")\n",
        "                break\n",
        "\n",
        "            if bread_type not in self.stock:\n",
        "                print(\"존재하지않는 종류입니다.\")\n",
        "                continue\n",
        "\n",
        "            while True:\n",
        "                try:\n",
        "                    bread_count = int(input(\"추가할 붕어빵의 개수를 입력해주세요 : \"))\n",
        "                    self.stock[bread_type] += bread_count\n",
        "                    print(f\"{bread_count}개의 {bread_type}을 추가하셨습니다.\")\n",
        "                    break\n",
        "\n",
        "                except ValueError:\n",
        "                    print(\"숫자를 입력해주세요.\")\n",
        "                    continue\n",
        "\n",
        "    def calculate_total_sales(self):\n",
        "        total_sales = 0\n",
        "        for bread_type, sales in self.sales.items():\n",
        "            total_sales += sales * self.prices[bread_type]\n",
        "            print(f\"{bread_type} 매출: {sales * self.prices[bread_type]}원\")\n",
        "        print(f\"총 매출: {total_sales}원\")\n",
        "\n",
        "    def main():\n",
        "        shop = BungeoppangShop()\n",
        "\n",
        "        while True:\n",
        "            mode = input(\"모드를 선택해주세요 (주문, 관리자, 종료) : \")\n",
        "            print(f\"입력된 모드는 [{mode}]\")\n",
        "\n",
        "            if mode == \"종료\":\n",
        "                print(\"종료합니다.\")\n",
        "                shop.calculate_total_sales()#출력이안되었는데 이젠 또 왜될까....\n",
        "                break\n",
        "\n",
        "            if mode == \"관리자\":\n",
        "                shop.admin_mode()\n",
        "                shop.check_stock()\n",
        "                continue\n",
        "\n",
        "            if mode == \"주문\":\n",
        "                shop.process_order(\"bread_type\",0)\n",
        "                shop.check_stock()\n",
        "                continue\n",
        "\n",
        "            else:\n",
        "                print(\"잘못된 입력입니다.\")\n",
        "                continue\n",
        "\n",
        "if __name__ == \"__main__\":\n",
        "    main()"
      ]
    }
  ],
  "metadata": {
    "colab": {
      "provenance": [],
      "include_colab_link": true
    },
    "kernelspec": {
      "display_name": "Python 3",
      "name": "python3"
    },
    "language_info": {
      "codemirror_mode": {
        "name": "ipython",
        "version": 3
      },
      "file_extension": ".py",
      "mimetype": "text/x-python",
      "name": "python",
      "nbconvert_exporter": "python",
      "pygments_lexer": "ipython3",
      "version": "3.11.7"
    }
  },
  "nbformat": 4,
  "nbformat_minor": 0
}