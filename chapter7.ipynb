{
  "nbformat": 4,
  "nbformat_minor": 0,
  "metadata": {
    "colab": {
      "provenance": [],
      "authorship_tag": "ABX9TyNkZIkJG88aTptO27VWehE/",
      "include_colab_link": true
    },
    "kernelspec": {
      "name": "python3",
      "display_name": "Python 3"
    },
    "language_info": {
      "name": "python"
    }
  },
  "cells": [
    {
      "cell_type": "markdown",
      "metadata": {
        "id": "view-in-github",
        "colab_type": "text"
      },
      "source": [
        "<a href=\"https://colab.research.google.com/github/kdu0312/education/blob/python/chapter7.ipynb\" target=\"_parent\"><img src=\"https://colab.research.google.com/assets/colab-badge.svg\" alt=\"Open In Colab\"/></a>"
      ]
    },
    {
      "cell_type": "markdown",
      "source": [
        "1. int(intrger) : 정수\n",
        "\n",
        "2. float(float) : 실수\n",
        "\n",
        "3. str(string) : 문자\n",
        "\n",
        "4. bool(bool, boolean) : 참 또는 거짓, true 또는 false, 1 또는 0\n",
        "\n",
        "5. list\n",
        "\n",
        "6. tuple\n",
        "\n",
        "7. dict\n",
        "\n",
        "8. set : 집합"
      ],
      "metadata": {
        "id": "00uuyYyWJcCQ"
      }
    },
    {
      "cell_type": "code",
      "execution_count": null,
      "metadata": {
        "id": "ZOTth3CcBtBQ"
      },
      "outputs": [],
      "source": []
    }
  ]
}