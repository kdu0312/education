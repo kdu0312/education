{
  "nbformat": 4,
  "nbformat_minor": 0,
  "metadata": {
    "colab": {
      "provenance": [],
      "authorship_tag": "ABX9TyNnu10Q2vcZ0XcYvob7iVIz",
      "include_colab_link": true
    },
    "kernelspec": {
      "name": "python3",
      "display_name": "Python 3"
    },
    "language_info": {
      "name": "python"
    }
  },
  "cells": [
    {
      "cell_type": "markdown",
      "metadata": {
        "id": "view-in-github",
        "colab_type": "text"
      },
      "source": [
        "<a href=\"https://colab.research.google.com/github/kdu0312/education/blob/python/chapter4.ipynb\" target=\"_parent\"><img src=\"https://colab.research.google.com/assets/colab-badge.svg\" alt=\"Open In Colab\"/></a>"
      ]
    },
    {
      "cell_type": "markdown",
      "source": [
        "##사칙연산\n",
        "더하기 : +\n",
        "\n",
        "뺴기 : -\n",
        "\n",
        "곱하기 : *\n",
        "\n",
        "나누기 :\n",
        "\n",
        "\n",
        "* / : 5/2=2.5\n",
        "* //: 몫을 반환 5/2 = 2\n",
        "* % : 나머지를 반환 5/2 =1\n",
        "\n",
        "\n",
        "\n",
        "거듭제곱 : **\n",
        "\n",
        "\n"
      ],
      "metadata": {
        "id": "mVZIW3NPU4-C"
      }
    },
    {
      "cell_type": "code",
      "execution_count": null,
      "metadata": {
        "colab": {
          "base_uri": "https://localhost:8080/"
        },
        "id": "M5IamndVMXr4",
        "outputId": "c30920f8-e52e-4c4f-a854-c4df0af3757b"
      },
      "outputs": [
        {
          "output_type": "stream",
          "name": "stdout",
          "text": [
            "5\n"
          ]
        }
      ],
      "source": [
        "# 더하기\n",
        "print(3+2)"
      ]
    },
    {
      "cell_type": "code",
      "source": [
        "# 빼기\n",
        "print(3-1)"
      ],
      "metadata": {
        "colab": {
          "base_uri": "https://localhost:8080/"
        },
        "id": "WrSBXuRhWX28",
        "outputId": "515cb64b-36f5-4acf-ec94-9fe77fcb83ce"
      },
      "execution_count": null,
      "outputs": [
        {
          "output_type": "stream",
          "name": "stdout",
          "text": [
            "2\n"
          ]
        }
      ]
    },
    {
      "cell_type": "code",
      "source": [
        "#곱하기\n",
        "print(3*2)"
      ],
      "metadata": {
        "colab": {
          "base_uri": "https://localhost:8080/"
        },
        "id": "AncHHwa-Wc1N",
        "outputId": "a762e80b-f416-4d6f-95ed-5421d989dbb6"
      },
      "execution_count": null,
      "outputs": [
        {
          "output_type": "stream",
          "name": "stdout",
          "text": [
            "6\n"
          ]
        }
      ]
    },
    {
      "cell_type": "code",
      "source": [
        "#나누기\n",
        "\n",
        "#/\n",
        "print(7/2)\n",
        "\n",
        "#//\n",
        "print(7//2)\n",
        "\n",
        "#%\n",
        "print(7%2)"
      ],
      "metadata": {
        "colab": {
          "base_uri": "https://localhost:8080/"
        },
        "id": "so-IPYP6Wots",
        "outputId": "72739fba-8a6f-4162-aa05-f748ed0cf873"
      },
      "execution_count": null,
      "outputs": [
        {
          "output_type": "stream",
          "name": "stdout",
          "text": [
            "3.5\n",
            "3\n",
            "1\n"
          ]
        }
      ]
    },
    {
      "cell_type": "markdown",
      "source": [],
      "metadata": {
        "id": "KD0vfHzqYLOx"
      }
    },
    {
      "cell_type": "markdown",
      "source": [
        "내정함수 : divmod\n",
        "\n",
        "> 자주 사용하는 기능을 미리 만들어 놓은것을 내장함수라고 함\n",
        "\n",
        "**divmod** : 목과 나머지를 동시에 구해줌\n"
      ],
      "metadata": {
        "id": "u0Nb-LGHYP5h"
      }
    },
    {
      "cell_type": "code",
      "source": [
        "divmod(3, 2)"
      ],
      "metadata": {
        "colab": {
          "base_uri": "https://localhost:8080/"
        },
        "id": "kQYeLRmMXaCl",
        "outputId": "a67925f3-727c-4d7c-e26a-0b6d058784da"
      },
      "execution_count": null,
      "outputs": [
        {
          "output_type": "execute_result",
          "data": {
            "text/plain": [
              "(1, 1)"
            ]
          },
          "metadata": {},
          "execution_count": 14
        }
      ]
    },
    {
      "cell_type": "code",
      "source": [
        "print(divmod(3,2))\n",
        "print(divmod(7,4))\n",
        "print(divmod(13,2))\n",
        "print(divmod(19,4))\n",
        "print(divmod(15,4))\n",
        "\n",
        "print(7//4,\",\" ,7%4 )\n"
      ],
      "metadata": {
        "colab": {
          "base_uri": "https://localhost:8080/"
        },
        "id": "ORpmy_wQYua0",
        "outputId": "8735d27c-0b3a-4d50-deb1-86a1ccaf28cf"
      },
      "execution_count": null,
      "outputs": [
        {
          "output_type": "stream",
          "name": "stdout",
          "text": [
            "(1, 1)\n",
            "(1, 3)\n",
            "(6, 1)\n",
            "(4, 3)\n",
            "(3, 3)\n",
            "1 , 3\n"
          ]
        }
      ]
    },
    {
      "cell_type": "code",
      "source": [],
      "metadata": {
        "id": "LwT_uC1rZmXE"
      },
      "execution_count": null,
      "outputs": []
    },
    {
      "cell_type": "markdown",
      "source": [
        "### 괄호\n",
        "수학에서 사용되는 괄호와 동일한 기능\n",
        "\n",
        "(): 괄호안에 있는 것을 먼저 계산\n",
        "\n",
        "사친연산 순서:괄호->곱셈<나눗셈->덧셈,뺄셈"
      ],
      "metadata": {
        "id": "UBrVE76gZqBJ"
      }
    },
    {
      "cell_type": "code",
      "source": [
        "3+4*4"
      ],
      "metadata": {
        "colab": {
          "base_uri": "https://localhost:8080/"
        },
        "id": "q5sr-6tZZ3JN",
        "outputId": "148e341b-f23f-4ba4-f8bd-a24d68c5483b"
      },
      "execution_count": null,
      "outputs": [
        {
          "output_type": "execute_result",
          "data": {
            "text/plain": [
              "19"
            ]
          },
          "metadata": {},
          "execution_count": 26
        }
      ]
    },
    {
      "cell_type": "code",
      "source": [
        "(3+2)*4"
      ],
      "metadata": {
        "colab": {
          "base_uri": "https://localhost:8080/"
        },
        "id": "cQDTMHhwZ8v8",
        "outputId": "1e0d8852-8d01-4dad-a8df-60362cc91fd9"
      },
      "execution_count": null,
      "outputs": [
        {
          "output_type": "execute_result",
          "data": {
            "text/plain": [
              "20"
            ]
          },
          "metadata": {},
          "execution_count": 27
        }
      ]
    },
    {
      "cell_type": "code",
      "source": [],
      "metadata": {
        "id": "IfORpzodZ_AE"
      },
      "execution_count": null,
      "outputs": []
    }
  ]
}